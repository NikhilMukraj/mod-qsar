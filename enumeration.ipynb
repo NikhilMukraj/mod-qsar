{
 "cells": [
  {
   "attachments": {},
   "cell_type": "markdown",
   "metadata": {},
   "source": [
    "https://github.com/EBjerrum/SMILES-enumeration/blob/master/SmilesEnumerator.py"
   ]
  },
  {
   "cell_type": "code",
   "execution_count": 2,
   "metadata": {},
   "outputs": [],
   "source": [
    "from smilesenumeration import SmilesEnumerator"
   ]
  },
  {
   "cell_type": "code",
   "execution_count": 3,
   "metadata": {},
   "outputs": [
    {
     "name": "stdout",
     "output_type": "stream",
     "text": [
      "C1[C@@H](CC=C)[C@@](OC(CC)=O)(c2ccccc2)CC[NH+]1C\n",
      "CCC(O[C@@]1(c2ccccc2)[C@H](CC=C)C[NH+](C)CC1)=O\n",
      "C(=C)C[C@H]1[C@@](OC(CC)=O)(c2ccccc2)CC[NH+](C)C1\n",
      "O([C@@]1(c2ccccc2)[C@H](CC=C)C[NH+](C)CC1)C(=O)CC\n",
      "CCC(O[C@@]1(c2ccccc2)[C@H](CC=C)C[NH+](C)CC1)=O\n",
      "C(C)C(O[C@@]1(c2ccccc2)[C@H](CC=C)C[NH+](C)CC1)=O\n",
      "C1[NH+](C)CC[C@](OC(CC)=O)(c2ccccc2)[C@@H]1CC=C\n",
      "c1cccc([C@]2(OC(=O)CC)[C@H](CC=C)C[NH+](C)CC2)c1\n",
      "[C@]1(OC(=O)CC)(c2ccccc2)[C@H](CC=C)C[NH+](C)CC1\n",
      "c1([C@@]2(OC(=O)CC)CC[NH+](C)C[C@H]2CC=C)ccccc1\n"
     ]
    }
   ],
   "source": [
    "sme = SmilesEnumerator()\n",
    "for i in range(10):\n",
    "    print(sme.randomize_smiles(\"CCC(=O)O[C@@]1(CC[NH+](C[C@H]1CC=C)C)c2ccccc2\"))"
   ]
  },
  {
   "cell_type": "code",
   "execution_count": null,
   "metadata": {},
   "outputs": [],
   "source": []
  }
 ],
 "metadata": {
  "kernelspec": {
   "display_name": "Python 3",
   "language": "python",
   "name": "python3"
  },
  "language_info": {
   "codemirror_mode": {
    "name": "ipython",
    "version": 3
   },
   "file_extension": ".py",
   "mimetype": "text/x-python",
   "name": "python",
   "nbconvert_exporter": "python",
   "pygments_lexer": "ipython3",
   "version": "3.8.10"
  },
  "orig_nbformat": 4,
  "vscode": {
   "interpreter": {
    "hash": "e49f74e46b456e49c6fe038b9d452af7a62c4b3c345dd5f08f3508413a9f0789"
   }
  }
 },
 "nbformat": 4,
 "nbformat_minor": 2
}
