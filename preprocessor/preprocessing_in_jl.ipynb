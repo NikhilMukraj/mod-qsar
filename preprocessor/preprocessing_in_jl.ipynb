{
 "cells": [
  {
   "cell_type": "code",
   "execution_count": 1,
   "metadata": {},
   "outputs": [],
   "source": [
    "using PyCall\n",
    "using JLD"
   ]
  },
  {
   "cell_type": "code",
   "execution_count": 2,
   "metadata": {},
   "outputs": [
    {
     "data": {
      "text/plain": [
       "dfToStringMatrix (generic function with 1 method)"
      ]
     },
     "execution_count": 2,
     "metadata": {},
     "output_type": "execute_result"
    }
   ],
   "source": [
    "function getdf(path)\n",
    "    py\"\"\"\n",
    "    import pandas as pd\n",
    "\n",
    "    def read_csv(path):\n",
    "        return pd.read_csv(path)\n",
    "    \"\"\"\n",
    "    data = py\"read_csv\"(path)\n",
    "    return data\n",
    "end\n",
    "\n",
    "function dfToMatrix(df)\n",
    "    data_matrix = Array{Float64}(undef, 0, length(df.columns))\n",
    "\n",
    "    for i in df.index\n",
    "        data_matrix = vcat(data_matrix, [convert(Float64, j) for j in df.loc[convert(Int64, i) + 1]]')\n",
    "    end\n",
    "\n",
    "    return data_matrix\n",
    "end\n",
    "\n",
    "function dfToStringMatrix(df)\n",
    "    data_matrix = Array{String}(undef, 0, length(df.columns))\n",
    "\n",
    "    for i in df.index\n",
    "        data_matrix = vcat(data_matrix, reshape([j for j in df.loc[convert(Int64, i) + 1]], 1, length(df.columns)))\n",
    "    end\n",
    "\n",
    "    return data_matrix\n",
    "end"
   ]
  },
  {
   "cell_type": "code",
   "execution_count": 3,
   "metadata": {},
   "outputs": [
    {
     "data": {
      "text/html": [
       "<div>\n",
       "<style scoped>\n",
       "    .dataframe tbody tr th:only-of-type {\n",
       "        vertical-align: middle;\n",
       "    }\n",
       "\n",
       "    .dataframe tbody tr th {\n",
       "        vertical-align: top;\n",
       "    }\n",
       "\n",
       "    .dataframe thead th {\n",
       "        text-align: right;\n",
       "    }\n",
       "</style>\n",
       "<table border=\"1\" class=\"dataframe\">\n",
       "  <thead>\n",
       "    <tr style=\"text-align: right;\">\n",
       "      <th></th>\n",
       "      <th>PUBCHEM_EXT_DATASOURCE_SMILES</th>\n",
       "      <th>PUBCHEM_ACTIVITY_OUTCOME</th>\n",
       "    </tr>\n",
       "  </thead>\n",
       "  <tbody>\n",
       "    <tr>\n",
       "      <th>0</th>\n",
       "      <td>CC[C@H]([C@@H]1[C@H](C[C@@](O1)(CC)[C@H]2CC[C@...</td>\n",
       "      <td>Active</td>\n",
       "    </tr>\n",
       "    <tr>\n",
       "      <th>1</th>\n",
       "      <td>CC1=C(OC2=C1C=C(C=C2)OC)C(=O)NC3=NC4=CC=CC=C4N3</td>\n",
       "      <td>Active</td>\n",
       "    </tr>\n",
       "    <tr>\n",
       "      <th>2</th>\n",
       "      <td>CCCN1C[C@@H](C[C@H]2[C@H]1CC3=CNC4=CC=CC2=C34)...</td>\n",
       "      <td>Active</td>\n",
       "    </tr>\n",
       "    <tr>\n",
       "      <th>3</th>\n",
       "      <td>C1CN(CCN1CC2=CC=CC=C2)C(=O)CCCN3C(=O)CSC4=C3C=...</td>\n",
       "      <td>Active</td>\n",
       "    </tr>\n",
       "    <tr>\n",
       "      <th>4</th>\n",
       "      <td>CC1=CC(=C(C(=C1)C2=NNC3=C2C(N(C3=O)CC4=CC=CO4)...</td>\n",
       "      <td>Active</td>\n",
       "    </tr>\n",
       "    <tr>\n",
       "      <th>...</th>\n",
       "      <td>...</td>\n",
       "      <td>...</td>\n",
       "    </tr>\n",
       "    <tr>\n",
       "      <th>4825</th>\n",
       "      <td>CCOC1=C(C=CC=N1)C(=O)OCC2=CC=C(C=C2)[N+](=O)[O-]</td>\n",
       "      <td>Inactive</td>\n",
       "    </tr>\n",
       "    <tr>\n",
       "      <th>4826</th>\n",
       "      <td>C1=CC=C(C=C1)C2=NC(N=C(N2)C3=CC=CC=C3)C4=CC=CC...</td>\n",
       "      <td>Inactive</td>\n",
       "    </tr>\n",
       "    <tr>\n",
       "      <th>4827</th>\n",
       "      <td>COC(=O)C(C(F)(F)F)(NC1=C(C2=C(S1)CCCC2)C(=O)N)...</td>\n",
       "      <td>Inactive</td>\n",
       "    </tr>\n",
       "    <tr>\n",
       "      <th>4828</th>\n",
       "      <td>CCCN1CCN(CC1)S(=O)(=O)C2=C(NC(=C2C(=O)N3CCCCC3...</td>\n",
       "      <td>Inactive</td>\n",
       "    </tr>\n",
       "    <tr>\n",
       "      <th>4829</th>\n",
       "      <td>CN(C1CCS(=O)(=O)C1)C(=O)CSC2=NN=C(N2C3CC3)C4=C...</td>\n",
       "      <td>Inactive</td>\n",
       "    </tr>\n",
       "  </tbody>\n",
       "</table>\n",
       "<p>4830 rows × 2 columns</p>\n",
       "</div>"
      ],
      "text/plain": [
       "PyObject                           PUBCHEM_EXT_DATASOURCE_SMILES PUBCHEM_ACTIVITY_OUTCOME\n",
       "0     CC[C@H]([C@@H]1[C@H](C[C@@](O1)(CC)[C@H]2CC[C@...                   Active\n",
       "1       CC1=C(OC2=C1C=C(C=C2)OC)C(=O)NC3=NC4=CC=CC=C4N3                   Active\n",
       "2     CCCN1C[C@@H](C[C@H]2[C@H]1CC3=CNC4=CC=CC2=C34)...                   Active\n",
       "3     C1CN(CCN1CC2=CC=CC=C2)C(=O)CCCN3C(=O)CSC4=C3C=...                   Active\n",
       "4     CC1=CC(=C(C(=C1)C2=NNC3=C2C(N(C3=O)CC4=CC=CO4)...                   Active\n",
       "...                                                 ...                      ...\n",
       "4825   CCOC1=C(C=CC=N1)C(=O)OCC2=CC=C(C=C2)[N+](=O)[O-]                 Inactive\n",
       "4826  C1=CC=C(C=C1)C2=NC(N=C(N2)C3=CC=CC=C3)C4=CC=CC...                 Inactive\n",
       "4827  COC(=O)C(C(F)(F)F)(NC1=C(C2=C(S1)CCCC2)C(=O)N)...                 Inactive\n",
       "4828  CCCN1CCN(CC1)S(=O)(=O)C2=C(NC(=C2C(=O)N3CCCCC3...                 Inactive\n",
       "4829  CN(C1CCS(=O)(=O)C1)C(=O)CSC2=NN=C(N2C3CC3)C4=C...                 Inactive\n",
       "\n",
       "[4830 rows x 2 columns]"
      ]
     },
     "execution_count": 3,
     "metadata": {},
     "output_type": "execute_result"
    }
   ],
   "source": [
    "df = getdf(joinpath(@__DIR__, \"sero_filtered_dataset.csv\"))"
   ]
  },
  {
   "cell_type": "code",
   "execution_count": 4,
   "metadata": {},
   "outputs": [],
   "source": [
    "py\"\"\"\n",
    "from smiles_tools import return_tokens\n",
    "from smiles_tools import SmilesEnumerator\n",
    "\"\"\""
   ]
  },
  {
   "cell_type": "code",
   "execution_count": 5,
   "metadata": {},
   "outputs": [
    {
     "data": {
      "text/plain": [
       "Dict{Int64, String} with 71 entries:\n",
       "  5  => \"/\"\n",
       "  56 => \"[NH3+]\"\n",
       "  16 => \"B\"\n",
       "  35 => \"[C@H]\"\n",
       "  55 => \"[NH2+]\"\n",
       "  20 => \"F\"\n",
       "  60 => \"[Nd+3]\"\n",
       "  30 => \"[Ba+2]\"\n",
       "  19 => \"Cl\"\n",
       "  32 => \"[C-]\"\n",
       "  49 => \"[N+]\"\n",
       "  6  => \"1\"\n",
       "  67 => \"[S-]\"\n",
       "  45 => \"[I-]\"\n",
       "  44 => \"[Hg]\"\n",
       "  9  => \"4\"\n",
       "  31 => \"[Br-]\"\n",
       "  64 => \"[Pt+2]\"\n",
       "  61 => \"[O-]\"\n",
       "  29 => \"[B-]\"\n",
       "  46 => \"[K+]\"\n",
       "  57 => \"[NH4+]\"\n",
       "  70 => \"[Zn+2]\"\n",
       "  4  => \".\"\n",
       "  13 => \"8\"\n",
       "  ⋮  => ⋮"
      ]
     },
     "execution_count": 5,
     "metadata": {},
     "output_type": "execute_result"
    }
   ],
   "source": [
    "vocab = dfToStringMatrix(getdf(joinpath(@__DIR__, \"vocab.csv\")))\n",
    "\n",
    "tokenizer = Dict(j => i for (i, j) in enumerate(vocab))\n",
    "reverse_tokenizer = Dict(value => key for (key, value) in tokenizer)"
   ]
  },
  {
   "cell_type": "code",
   "execution_count": 7,
   "metadata": {},
   "outputs": [
    {
     "data": {
      "text/plain": [
       "return_tokens (generic function with 1 method)"
      ]
     },
     "execution_count": 7,
     "metadata": {},
     "output_type": "execute_result"
    }
   ],
   "source": [
    "py\"\"\"\n",
    "def augment_smiles(string, n):\n",
    "    sme = SmilesEnumerator()\n",
    "    output = []\n",
    "    for i in range(n):\n",
    "        output.append(sme.randomize_smiles(string))\n",
    "    \n",
    "    return output\n",
    "\"\"\"\n",
    "\n",
    "augment_smiles(str, n) = py\"augment_smiles\"(str, n)\n",
    "return_tokens(str) = py\"return_tokens\"(str)"
   ]
  },
  {
   "cell_type": "code",
   "execution_count": 6,
   "metadata": {},
   "outputs": [
    {
     "data": {
      "text/plain": [
       "190"
      ]
     },
     "execution_count": 6,
     "metadata": {},
     "output_type": "execute_result"
    }
   ],
   "source": [
    "n = 10\n",
    "max_length = 190"
   ]
  },
  {
   "cell_type": "code",
   "execution_count": 10,
   "metadata": {},
   "outputs": [
    {
     "data": {
      "text/plain": [
       "53130×2 Matrix{String}:\n",
       " \"CC[C@H]([C@@H]1[C@H](C[C@@](O1)\" ⋯ 73 bytes ⋯ \"C(=C(C=C3)C)O)C(=O)[O-])O.[Na+]\"  …  \"Active\"\n",
       " \"CC1=C(OC2=C1C=C(C=C2)OC)C(=O)NC3=NC4=CC=CC=C4N3\"                                                                                             \"Active\"\n",
       " \"CCCN1C[C@@H](C[C@H]2[C@H]1CC3=CNC4=CC=CC2=C34)CSC.CS(=O)(=O)O\"                                                                               \"Active\"\n",
       " \"C1CN(CCN1CC2=CC=CC=C2)C(=O)CCCN3C(=O)CSC4=C3C=CC=N4\"                                                                                         \"Active\"\n",
       " \"CC1=CC(=C(C(=C1)C2=NNC3=C2C(N(C3=O)CC4=CC=CO4)C5=CC(=CC=C5)O)O)C\"                                                                            \"Active\"\n",
       " \"COC1=CC=C(C=C1)NC(=O)CC2=NC3=CC=CC=C3N2\"                                                                                                  …  \"Active\"\n",
       " \"C1=CC2=C(C=C1O)C(=CN2)CCN.Cl\"                                                                                                                \"Active\"\n",
       " \"CC(CC1=CNC2=C1C=C(C=C2)Cl)N.Cl\"                                                                                                              \"Active\"\n",
       " \"COC1=CC=CC(=C1O)C2=NC3=CC=CC=C3C(=N2)NC4CCCC4\"                                                                                               \"Active\"\n",
       " \"CC1=CC(=C(C=C1)C)C2C(=C(NC(=O)N2)CN3C=NC4=CC=CC=C43)C(=O)OC\"                                                                                 \"Active\"\n",
       " \"C1CN(CCN1)C2=NC3=CC=CC=C3C=C2.C(=C\\\\C(=O)[O-])\\\\C(=O)[O-]\"                                                                                …  \"Active\"\n",
       " \"CN1CCC2=C3[C@H]1CC4=C(C3=CC=C2)C(=C(C=C4)O)O.O.Cl\"                                                                                           \"Active\"\n",
       " \"CC(CC1=CC(=C(C=C1OC)I)OC)N.Cl\"                                                                                                               \"Active\"\n",
       " ⋮                                                                                                                                          ⋱  \n",
       " \"C1N(S(=O)(=O)c2c(C(N3CCCCC3)=O)c(C)[nH]c2C)CCN(CCC)C1\"                                                                                       \"Inactive\"\n",
       " \"C1CN(CCC)CCN1S(=O)(c1c(C(=O)N2CCCCC2)c(C)[nH]c1C)=O\"                                                                                         \"Inactive\"\n",
       " \"S1(=O)(=O)CC(N(C(CSc2nnc(-c3cccs3)n2C2CC2)=O)C)CC1\"                                                                                       …  \"Inactive\"\n",
       " \"c1(-c2sccc2)n(C2CC2)c(SCC(N(C2CCS(=O)(=O)C2)C)=O)nn1\"                                                                                        \"Inactive\"\n",
       " \"c1(-c2sccc2)n(C2CC2)c(SCC(=O)N(C)C2CCS(=O)(=O)C2)nn1\"                                                                                        \"Inactive\"\n",
       " \"c1(SCC(N(C)C2CS(=O)(=O)CC2)=O)n(C2CC2)c(-c2cccs2)nn1\"                                                                                        \"Inactive\"\n",
       " \"c1(SCC(N(C)C2CS(=O)(=O)CC2)=O)n(C2CC2)c(-c2cccs2)nn1\"                                                                                        \"Inactive\"\n",
       " \"O=S1(=O)CCC(N(C)C(CSc2n(C3CC3)c(-c3cccs3)nn2)=O)C1\"                                                                                       …  \"Inactive\"\n",
       " \"O=S1(=O)CCC(N(C)C(=O)CSc2nnc(-c3cccs3)n2C2CC2)C1\"                                                                                            \"Inactive\"\n",
       " \"n1nc(SCC(N(C)C2CS(=O)(=O)CC2)=O)n(C2CC2)c1-c1sccc1\"                                                                                          \"Inactive\"\n",
       " \"S(c1n(C2CC2)c(-c2sccc2)nn1)CC(N(C)C1CS(=O)(=O)CC1)=O\"                                                                                        \"Inactive\"\n",
       " \"c1c(-c2nnc(SCC(=O)N(C3CCS(=O)(=O)C3)C)n2C2CC2)scc1\"                                                                                          \"Inactive\""
      ]
     },
     "execution_count": 10,
     "metadata": {},
     "output_type": "execute_result"
    }
   ],
   "source": [
    "smiles = let temp_df\n",
    "    temp_df = dfToStringMatrix(df)\n",
    "    for i in 1:length(temp_df[:, begin])\n",
    "        for augmented in augment_smiles(temp_df[:, begin][i], n)\n",
    "            temp_df = vcat(temp_df, String[augmented temp_df[:, end][i]])\n",
    "        end\n",
    "    end\n",
    "    temp_df\n",
    "end"
   ]
  },
  {
   "cell_type": "code",
   "execution_count": 11,
   "metadata": {},
   "outputs": [
    {
     "data": {
      "text/plain": [
       "53130×2 adjoint(::Matrix{Int64}) with eltype Int64:\n",
       " 1  0\n",
       " 1  0\n",
       " 1  0\n",
       " 1  0\n",
       " 1  0\n",
       " 1  0\n",
       " 1  0\n",
       " 1  0\n",
       " 1  0\n",
       " 1  0\n",
       " 1  0\n",
       " 1  0\n",
       " 1  0\n",
       " ⋮  \n",
       " 0  1\n",
       " 0  1\n",
       " 0  1\n",
       " 0  1\n",
       " 0  1\n",
       " 0  1\n",
       " 0  1\n",
       " 0  1\n",
       " 0  1\n",
       " 0  1\n",
       " 0  1\n",
       " 0  1"
      ]
     },
     "execution_count": 11,
     "metadata": {},
     "output_type": "execute_result"
    }
   ],
   "source": [
    "activity = reduce(hcat, [i == \"Active\" ? [1, 0] : [0, 1] for i in smiles[:, end]])'"
   ]
  },
  {
   "cell_type": "code",
   "execution_count": 12,
   "metadata": {},
   "outputs": [
    {
     "data": {
      "text/plain": [
       "standardizeCase (generic function with 1 method)"
      ]
     },
     "execution_count": 12,
     "metadata": {},
     "output_type": "execute_result"
    }
   ],
   "source": [
    "function standardizeCase(str)\n",
    "    str = titlecase(str)\n",
    "    str = replace(str, \"h\" => \"H\")\n",
    "end"
   ]
  },
  {
   "cell_type": "code",
   "execution_count": null,
   "metadata": {},
   "outputs": [
    {
     "name": "stdout",
     "output_type": "stream",
     "text": [
      "100 | strings: 100, activity: 100\n",
      "200 | strings: 200, activity: 200\n",
      "300 | strings: 300, activity: 300\n",
      "400 | strings: 400, activity: 400\n",
      "500 | strings: 500, activity: 500\n",
      "600 | strings: 600, activity: 600\n",
      "700 | strings: 700, activity: 700\n",
      "800 | strings: 800, activity: 800\n",
      "900 | strings: 900, activity: 900\n",
      "1000 | strings: 1000, activity: 1000\n",
      "1100 | strings: 1100, activity: 1100\n",
      "1200 | strings: 1200, activity: 1200\n",
      "1300 | strings: 1300, activity: 1300\n",
      "1400 | strings: 1400, activity: 1400\n",
      "1500 | strings: 1500, activity: 1500\n",
      "1600 | strings: 1600, activity: 1600\n",
      "1700 | strings: 1700, activity: 1700\n",
      "1800 | strings: 1799, activity: 1799\n",
      "1900 | strings: 1899, activity: 1899\n",
      "2000 | strings: 1999, activity: 1999\n",
      "2100 | strings: 2099, activity: 2099\n",
      "2200 | strings: 2199, activity: 2199\n",
      "2300 | strings: 2299, activity: 2299\n",
      "2400 | strings: 2399, activity: 2399\n",
      "2500 | strings: 2499, activity: 2499\n",
      "2600 | strings: 2599, activity: 2599\n",
      "2700 | strings: 2699, activity: 2699\n",
      "2800 | strings: 2799, activity: 2799\n",
      "2900 | strings: 2899, activity: 2899\n",
      "3000 | strings: 2999, activity: 2999\n",
      "3100 | strings: 3099, activity: 3099\n",
      "3200 | strings: 3199, activity: 3199\n",
      "3300 | strings: 3299, activity: 3299\n",
      "3400 | strings: 3399, activity: 3399\n",
      "3500 | strings: 3499, activity: 3499\n",
      "3600 | strings: 3599, activity: 3599\n",
      "3700 | strings: 3699, activity: 3699\n",
      "3800 | strings: 3799, activity: 3799\n",
      "3900 | strings: 3899, activity: 3899\n",
      "4000 | strings: 3999, activity: 3999\n",
      "4100 | strings: 4099, activity: 4099\n",
      "4200 | strings: 4199, activity: 4199\n",
      "4300 | strings: 4299, activity: 4299\n",
      "4400 | strings: 4399, activity: 4399\n",
      "4500 | strings: 4499, activity: 4499\n",
      "4600 | strings: 4599, activity: 4599\n",
      "4700 | strings: 4699, activity: 4699\n",
      "4800 | strings: 4799, activity: 4799\n",
      "4900 | strings: 4849, activity: 4849\n",
      "5000 | strings: 4899, activity: 4899\n",
      "5100 | strings: 4959, activity: 4959\n",
      "5200 | strings: 5009, activity: 5009\n",
      "5300 | strings: 5079, activity: 5079\n",
      "5400 | strings: 5149, activity: 5149\n",
      "5500 | strings: 5199, activity: 5199\n",
      "5600 | strings: 5249, activity: 5249\n",
      "5700 | strings: 5339, activity: 5339\n",
      "5800 | strings: 5399, activity: 5399\n",
      "5900 | strings: 5489, activity: 5489\n",
      "6000 | strings: 5559, activity: 5559\n",
      "6100 | strings: 5639, activity: 5639\n",
      "6200 | strings: 5699, activity: 5699\n",
      "6300 | strings: 5769, activity: 5769\n",
      "6400 | strings: 5859, activity: 5859\n",
      "6500 | strings: 5929, activity: 5929\n",
      "6600 | strings: 6019, activity: 6019\n",
      "6700 | strings: 6089, activity: 6089\n",
      "6800 | strings: 6169, activity: 6169\n",
      "6900 | strings: 6259, activity: 6259\n",
      "7000 | strings: 6339, activity: 6339\n",
      "7100 | strings: 6409, activity: 6409\n",
      "7200 | strings: 6459, activity: 6459\n",
      "7300 | strings: 6549, activity: 6549\n",
      "7400 | strings: 6619, activity: 6619\n",
      "7500 | strings: 6679, activity: 6679\n",
      "7600 | strings: 6739, activity: 6739\n",
      "7700 | strings: 6819, activity: 6819\n",
      "7800 | strings: 6879, activity: 6879\n",
      "7900 | strings: 6949, activity: 6949\n",
      "8000 | strings: 7049, activity: 7049\n",
      "8100 | strings: 7099, activity: 7099\n",
      "8200 | strings: 7169, activity: 7169\n",
      "8300 | strings: 7239, activity: 7239\n",
      "8400 | strings: 7319, activity: 7319\n",
      "8500 | strings: 7389, activity: 7389\n",
      "8600 | strings: 7459, activity: 7459\n",
      "8700 | strings: 7529, activity: 7529\n",
      "8800 | strings: 7599, activity: 7599\n",
      "8900 | strings: 7679, activity: 7679\n",
      "9000 | strings: 7749, activity: 7749\n",
      "9100 | strings: 7829, activity: 7829\n",
      "9200 | strings: 7919, activity: 7919\n",
      "9300 | strings: 7979, activity: 7979\n",
      "9400 | strings: 8069, activity: 8069\n",
      "9500 | strings: 8129, activity: 8129\n",
      "9600 | strings: 8219, activity: 8219\n",
      "9700 | strings: 8319, activity: 8319\n",
      "9800 | strings: 8389, activity: 8389\n",
      "9900 | strings: 8489, activity: 8489\n",
      "10000 | strings: 8559, activity: 8559\n",
      "10100 | strings: 8629, activity: 8629\n",
      "10200 | strings: 8709, activity: 8709\n",
      "10300 | strings: 8779, activity: 8779\n",
      "10400 | strings: 8839, activity: 8839\n",
      "10500 | strings: 8909, activity: 8909\n",
      "10600 | strings: 8969, activity: 8969\n",
      "10700 | strings: 9039, activity: 9039\n",
      "10800 | strings: 9119, activity: 9119\n",
      "10900 | strings: 9209, activity: 9209\n",
      "11000 | strings: 9269, activity: 9269\n",
      "11100 | strings: 9349, activity: 9349\n",
      "11200 | strings: 9389, activity: 9389\n",
      "11300 | strings: 9459, activity: 9459\n",
      "11400 | strings: 9539, activity: 9539\n",
      "11500 | strings: 9609, activity: 9609\n",
      "11600 | strings: 9669, activity: 9669\n",
      "11700 | strings: 9739, activity: 9739\n",
      "11800 | strings: 9809, activity: 9809\n",
      "11900 | strings: 9899, activity: 9899\n",
      "12000 | strings: 9969, activity: 9969\n",
      "12100 | strings: 10049, activity: 10049\n",
      "12200 | strings: 10119, activity: 10119\n",
      "12300 | strings: 10189, activity: 10189\n",
      "12400 | strings: 10279, activity: 10279\n",
      "12500 | strings: 10349, activity: 10349\n",
      "12600 | strings: 10409, activity: 10409\n",
      "12700 | strings: 10499, activity: 10499\n",
      "12800 | strings: 10569, activity: 10569\n",
      "12900 | strings: 10639, activity: 10639\n",
      "13000 | strings: 10699, activity: 10699\n",
      "13100 | strings: 10779, activity: 10779\n",
      "13200 | strings: 10829, activity: 10829\n",
      "13300 | strings: 10919, activity: 10919\n",
      "13400 | strings: 11019, activity: 11019\n",
      "13500 | strings: 11099, activity: 11099\n",
      "13600 | strings: 11169, activity: 11169\n",
      "13700 | strings: 11239, activity: 11239\n",
      "13800 | strings: 11329, activity: 11329\n",
      "13900 | strings: 11389, activity: 11389\n",
      "14000 | strings: 11459, activity: 11459\n",
      "14100 | strings: 11539, activity: 11539\n",
      "14200 | strings: 11609, activity: 11609\n",
      "14300 | strings: 11669, activity: 11669\n",
      "14400 | strings: 11749, activity: 11749\n",
      "14500 | strings: 11839, activity: 11839\n",
      "14600 | strings: 11899, activity: 11899\n",
      "14700 | strings: 11969, activity: 11969\n",
      "14800 | strings: 12029, activity: 12029\n",
      "14900 | strings: 12099, activity: 12099\n",
      "15000 | strings: 12169, activity: 12169\n",
      "15100 | strings: 12269, activity: 12269\n",
      "15200 | strings: 12359, activity: 12359\n",
      "15300 | strings: 12429, activity: 12429\n",
      "15400 | strings: 12509, activity: 12509\n",
      "15500 | strings: 12589, activity: 12589\n",
      "15600 | strings: 12649, activity: 12649\n",
      "15700 | strings: 12739, activity: 12739\n",
      "15800 | strings: 12799, activity: 12799\n",
      "15900 | strings: 12889, activity: 12889\n",
      "16000 | strings: 12969, activity: 12969\n",
      "16100 | strings: 13039, activity: 13039\n",
      "16200 | strings: 13109, activity: 13109\n",
      "16300 | strings: 13189, activity: 13189\n",
      "16400 | strings: 13259, activity: 13259\n",
      "16500 | strings: 13299, activity: 13299\n",
      "16600 | strings: 13369, activity: 13369\n",
      "16700 | strings: 13469, activity: 13469\n",
      "16800 | strings: 13549, activity: 13549\n",
      "16900 | strings: 13629, activity: 13629\n",
      "17000 | strings: 13719, activity: 13719\n",
      "17100 | strings: 13799, activity: 13799\n",
      "17200 | strings: 13879, activity: 13879\n",
      "17300 | strings: 13939, activity: 13939\n",
      "17400 | strings: 14009, activity: 14009\n",
      "17500 | strings: 14069, activity: 14069\n",
      "17600 | strings: 14139, activity: 14139\n",
      "17700 | strings: 14229, activity: 14229\n",
      "17800 | strings: 14299, activity: 14299\n",
      "17900 | strings: 14359, activity: 14359\n",
      "18000 | strings: 14439, activity: 14439\n",
      "18100 | strings: 14519, activity: 14519\n",
      "18200 | strings: 14559, activity: 14559\n",
      "18300 | strings: 14629, activity: 14629\n",
      "18400 | strings: 14709, activity: 14709\n",
      "18500 | strings: 14789, activity: 14789\n",
      "18600 | strings: 14869, activity: 14869\n",
      "18700 | strings: 14929, activity: 14929\n",
      "18800 | strings: 15009, activity: 15009\n",
      "18900 | strings: 15079, activity: 15079\n",
      "19000 | strings: 15179, activity: 15179\n",
      "19100 | strings: 15269, activity: 15269\n",
      "19200 | strings: 15349, activity: 15349\n",
      "19300 | strings: 15439, activity: 15439\n",
      "19400 | strings: 15519, activity: 15519\n",
      "19500 | strings: 15609, activity: 15609\n",
      "19600 | strings: 15679, activity: 15679\n",
      "19700 | strings: 15759, activity: 15759\n",
      "19800 | strings: 15859, activity: 15859\n",
      "19900 | strings: 15929, activity: 15929\n",
      "20000 | strings: 16009, activity: 16009\n",
      "20100 | strings: 16089, activity: 16089\n",
      "20200 | strings: 16149, activity: 16149\n"
     ]
    }
   ],
   "source": [
    "strings = []\n",
    "activity = []\n",
    "\n",
    "for i in 1:length(smiles[:, begin])\n",
    "    try\n",
    "        processed_tokens = [tokenizer[standardizeCase(j)] for j in return_tokens(smiles[:, begin][i])[begin]]\n",
    "        if typeof(max_length) != Bool && length(processed_tokens) <= max_length\n",
    "            push!(strings, processed_tokens)\n",
    "            push!(activity, smiles[:, end][i] == \"Active\" ? [1, 0] : [0, 1])\n",
    "        end\n",
    "        # https://discourse.julialang.org/t/using-push/30935/2\n",
    "    catch\n",
    "    end\n",
    "\n",
    "    if i % 100 == 0\n",
    "        println(\"$i | strings: $(length(strings)), activity: $(length(activity))\")\n",
    "    end\n",
    "end"
   ]
  },
  {
   "cell_type": "code",
   "execution_count": null,
   "metadata": {},
   "outputs": [],
   "source": [
    "# strings = [[tokenizer[standardizeCase(j)] for j in return_tokens(i)[begin]] for i in smiles[:, begin]]\n",
    "# activity = reduce(hcat, [i == \"Active\" ? [1, 0] : [0, 1] for i in smiles[:, end]])'\n",
    "\n",
    "activity = reduce(hcat, activity)'\n",
    "\n",
    "@assert length(strings) == size(activity)[begin]"
   ]
  },
  {
   "cell_type": "code",
   "execution_count": null,
   "metadata": {},
   "outputs": [],
   "source": [
    "convert_back(x) = join([i in keys(reverse_tokenizer) ? reverse_tokenizer[i] : \"\" for i in x])"
   ]
  },
  {
   "cell_type": "code",
   "execution_count": 22,
   "metadata": {},
   "outputs": [
    {
     "data": {
      "text/plain": [
       "196"
      ]
     },
     "execution_count": 22,
     "metadata": {},
     "output_type": "execute_result"
    }
   ],
   "source": [
    "max_length = maximum(length.(strings))"
   ]
  },
  {
   "cell_type": "code",
   "execution_count": null,
   "metadata": {},
   "outputs": [],
   "source": [
    "function pad_features(input_strings, length_max)\n",
    "    features = []\n",
    "    for i in input_strings\n",
    "        dim = size(i)[1]\n",
    "        pad_size = length_max - dim \n",
    "        if pad_size > 0\n",
    "            pad_array = zeros(Int64, pad_size)\n",
    "            result = append!(pad_array, i)\n",
    "        else\n",
    "            result = i[1:length_max]\n",
    "        end\n",
    "        push!(features, result)\n",
    "    end\n",
    "    return features\n",
    "end"
   ]
  },
  {
   "cell_type": "code",
   "execution_count": null,
   "metadata": {},
   "outputs": [],
   "source": [
    "padded_features = pad_features(strings, max_length)"
   ]
  },
  {
   "cell_type": "code",
   "execution_count": null,
   "metadata": {},
   "outputs": [],
   "source": [
    "padded_features = reduce(hcat, padded_features)'"
   ]
  },
  {
   "cell_type": "code",
   "execution_count": null,
   "metadata": {},
   "outputs": [],
   "source": [
    "Matrix(padded_features)"
   ]
  },
  {
   "cell_type": "code",
   "execution_count": 32,
   "metadata": {},
   "outputs": [],
   "source": [
    "# save to jld and then process rest in python\n",
    "save(\"unencoded_data.jld\", \"features\", Matrix(padded_features), compress=true)"
   ]
  },
  {
   "cell_type": "code",
   "execution_count": 27,
   "metadata": {},
   "outputs": [],
   "source": [
    "save(\"augmented_activity.jld\", \"activity\", Matrix(activity), compress=true)"
   ]
  },
  {
   "cell_type": "code",
   "execution_count": 20,
   "metadata": {},
   "outputs": [
    {
     "data": {
      "text/plain": [
       "onehot (generic function with 1 method)"
      ]
     },
     "execution_count": 20,
     "metadata": {},
     "output_type": "execute_result"
    }
   ],
   "source": [
    "function onehot(x)\n",
    "    onehot_array = zeros(length(keys(tokenizer)) + 1)\n",
    "    onehot_array[x + 1] = 1\n",
    "    return onehot_array\n",
    "end"
   ]
  },
  {
   "cell_type": "code",
   "execution_count": 21,
   "metadata": {},
   "outputs": [
    {
     "name": "stdout",
     "output_type": "stream",
     "text": [
      "156844\n"
     ]
    }
   ],
   "source": [
    "parsed = [onehot.(i) for i in padded_features]\n",
    "println(length(parsed))"
   ]
  },
  {
   "cell_type": "code",
   "execution_count": 25,
   "metadata": {},
   "outputs": [],
   "source": [
    "# py\"\"\"\n",
    "# import numpy as np \n",
    "\n",
    "# def to_numpy(x):\n",
    "#     return np.array(x)\n",
    "# \"\"\"\n",
    "\n",
    "# py\"to_numpy\"(parsed)"
   ]
  },
  {
   "cell_type": "code",
   "execution_count": null,
   "metadata": {},
   "outputs": [],
   "source": [
    "save(\"encoded_data.jld\", \"encoded_data\", parsed, compress=true)"
   ]
  },
  {
   "cell_type": "code",
   "execution_count": null,
   "metadata": {},
   "outputs": [],
   "source": [
    "matrix_parsed = [mapreduce(permutedims, vcat, i) for i in parsed]"
   ]
  },
  {
   "cell_type": "code",
   "execution_count": null,
   "metadata": {},
   "outputs": [],
   "source": [
    "X = [matrix_parsed[i] for i in 1:length(strings)]\n",
    "Y = convert(Matrix{Float32}, activity)"
   ]
  },
  {
   "cell_type": "code",
   "execution_count": null,
   "metadata": {},
   "outputs": [],
   "source": [
    "save(\"augmented_data.jld\", \"X\", X, \"Y\", Y, compress=true)"
   ]
  }
 ],
 "metadata": {
  "kernelspec": {
   "display_name": "Julia 1.8.1",
   "language": "julia",
   "name": "julia-1.8"
  },
  "language_info": {
   "file_extension": ".jl",
   "mimetype": "application/julia",
   "name": "julia",
   "version": "1.8.1"
  }
 },
 "nbformat": 4,
 "nbformat_minor": 2
}
