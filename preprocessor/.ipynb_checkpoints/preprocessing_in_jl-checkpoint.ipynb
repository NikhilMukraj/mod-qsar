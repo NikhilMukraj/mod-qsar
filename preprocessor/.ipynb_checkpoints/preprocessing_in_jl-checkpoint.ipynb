{
 "cells": [
  {
   "cell_type": "code",
   "execution_count": 1,
   "metadata": {},
   "outputs": [],
   "source": [
    "using PyCall\n",
    "using JLD"
   ]
  },
  {
   "cell_type": "code",
   "execution_count": 2,
   "metadata": {},
   "outputs": [
    {
     "data": {
      "text/plain": [
       "dfToStringMatrix (generic function with 1 method)"
      ]
     },
     "execution_count": 2,
     "metadata": {},
     "output_type": "execute_result"
    }
   ],
   "source": [
    "function getdf(path)\n",
    "    py\"\"\"\n",
    "    import pandas as pd\n",
    "\n",
    "    def read_csv(path):\n",
    "        return pd.read_csv(path)\n",
    "    \"\"\"\n",
    "    data = py\"read_csv\"(path)\n",
    "    return data\n",
    "end\n",
    "\n",
    "function dfToMatrix(df)\n",
    "    data_matrix = Array{Float64}(undef, 0, length(df.columns))\n",
    "\n",
    "    for i in df.index\n",
    "        data_matrix = vcat(data_matrix, [convert(Float64, j) for j in df.loc[convert(Int64, i) + 1]]')\n",
    "    end\n",
    "\n",
    "    return data_matrix\n",
    "end\n",
    "\n",
    "function dfToStringMatrix(df)\n",
    "    data_matrix = Array{String}(undef, 0, length(df.columns))\n",
    "\n",
    "    for i in df.index\n",
    "        data_matrix = vcat(data_matrix, reshape([j for j in df.loc[convert(Int64, i) + 1]], 1, length(df.columns)))\n",
    "    end\n",
    "\n",
    "    return data_matrix\n",
    "end"
   ]
  },
  {
   "cell_type": "code",
   "execution_count": 3,
   "metadata": {},
   "outputs": [
    {
     "data": {
      "text/html": [
       "<div>\n",
       "<style scoped>\n",
       "    .dataframe tbody tr th:only-of-type {\n",
       "        vertical-align: middle;\n",
       "    }\n",
       "\n",
       "    .dataframe tbody tr th {\n",
       "        vertical-align: top;\n",
       "    }\n",
       "\n",
       "    .dataframe thead th {\n",
       "        text-align: right;\n",
       "    }\n",
       "</style>\n",
       "<table border=\"1\" class=\"dataframe\">\n",
       "  <thead>\n",
       "    <tr style=\"text-align: right;\">\n",
       "      <th></th>\n",
       "      <th>PUBCHEM_EXT_DATASOURCE_SMILES</th>\n",
       "      <th>PUBCHEM_ACTIVITY_OUTCOME</th>\n",
       "    </tr>\n",
       "  </thead>\n",
       "  <tbody>\n",
       "    <tr>\n",
       "      <th>0</th>\n",
       "      <td>CC[C@H]([C@@H]1[C@H](C[C@@](O1)(CC)[C@H]2CC[C@...</td>\n",
       "      <td>Active</td>\n",
       "    </tr>\n",
       "    <tr>\n",
       "      <th>1</th>\n",
       "      <td>CC1=C(OC2=C1C=C(C=C2)OC)C(=O)NC3=NC4=CC=CC=C4N3</td>\n",
       "      <td>Active</td>\n",
       "    </tr>\n",
       "    <tr>\n",
       "      <th>2</th>\n",
       "      <td>CCCN1C[C@@H](C[C@H]2[C@H]1CC3=CNC4=CC=CC2=C34)...</td>\n",
       "      <td>Active</td>\n",
       "    </tr>\n",
       "    <tr>\n",
       "      <th>3</th>\n",
       "      <td>C1CN(CCN1CC2=CC=CC=C2)C(=O)CCCN3C(=O)CSC4=C3C=...</td>\n",
       "      <td>Active</td>\n",
       "    </tr>\n",
       "    <tr>\n",
       "      <th>4</th>\n",
       "      <td>CC1=CC(=C(C(=C1)C2=NNC3=C2C(N(C3=O)CC4=CC=CO4)...</td>\n",
       "      <td>Active</td>\n",
       "    </tr>\n",
       "    <tr>\n",
       "      <th>...</th>\n",
       "      <td>...</td>\n",
       "      <td>...</td>\n",
       "    </tr>\n",
       "    <tr>\n",
       "      <th>4825</th>\n",
       "      <td>CC1=C(C(=NN1CC(=O)NC2=C(C=CC(=C2)S(=O)(=O)N(C)...</td>\n",
       "      <td>Inactive</td>\n",
       "    </tr>\n",
       "    <tr>\n",
       "      <th>4826</th>\n",
       "      <td>C1=CC=C2C(=C1)C=CC(=C2Br)OCC(=O)NC(=S)NC3=CC=C...</td>\n",
       "      <td>Inactive</td>\n",
       "    </tr>\n",
       "    <tr>\n",
       "      <th>4827</th>\n",
       "      <td>CCN(CC)CCNC(=O)CN1C(=O)C=CC(=N1)C2=CC=C(C=C2)C</td>\n",
       "      <td>Inactive</td>\n",
       "    </tr>\n",
       "    <tr>\n",
       "      <th>4828</th>\n",
       "      <td>C1C(=O)NC2=CC=CC=C2N1C(=O)COC(=O)C3=CC=C(O3)[N...</td>\n",
       "      <td>Inactive</td>\n",
       "    </tr>\n",
       "    <tr>\n",
       "      <th>4829</th>\n",
       "      <td>CC1=CC=C(C=C1)S(=O)(=O)N2C3=CC=CC=C3C4=C(C2(C)...</td>\n",
       "      <td>Inactive</td>\n",
       "    </tr>\n",
       "  </tbody>\n",
       "</table>\n",
       "<p>4830 rows × 2 columns</p>\n",
       "</div>"
      ],
      "text/plain": [
       "PyObject                           PUBCHEM_EXT_DATASOURCE_SMILES PUBCHEM_ACTIVITY_OUTCOME\n",
       "0     CC[C@H]([C@@H]1[C@H](C[C@@](O1)(CC)[C@H]2CC[C@...                   Active\n",
       "1       CC1=C(OC2=C1C=C(C=C2)OC)C(=O)NC3=NC4=CC=CC=C4N3                   Active\n",
       "2     CCCN1C[C@@H](C[C@H]2[C@H]1CC3=CNC4=CC=CC2=C34)...                   Active\n",
       "3     C1CN(CCN1CC2=CC=CC=C2)C(=O)CCCN3C(=O)CSC4=C3C=...                   Active\n",
       "4     CC1=CC(=C(C(=C1)C2=NNC3=C2C(N(C3=O)CC4=CC=CO4)...                   Active\n",
       "...                                                 ...                      ...\n",
       "4825  CC1=C(C(=NN1CC(=O)NC2=C(C=CC(=C2)S(=O)(=O)N(C)...                 Inactive\n",
       "4826  C1=CC=C2C(=C1)C=CC(=C2Br)OCC(=O)NC(=S)NC3=CC=C...                 Inactive\n",
       "4827     CCN(CC)CCNC(=O)CN1C(=O)C=CC(=N1)C2=CC=C(C=C2)C                 Inactive\n",
       "4828  C1C(=O)NC2=CC=CC=C2N1C(=O)COC(=O)C3=CC=C(O3)[N...                 Inactive\n",
       "4829  CC1=CC=C(C=C1)S(=O)(=O)N2C3=CC=CC=C3C4=C(C2(C)...                 Inactive\n",
       "\n",
       "[4830 rows x 2 columns]"
      ]
     },
     "execution_count": 3,
     "metadata": {},
     "output_type": "execute_result"
    }
   ],
   "source": [
    "df = getdf(joinpath(@__DIR__, \"sero_filtered_dataset.csv\"))"
   ]
  },
  {
   "cell_type": "code",
   "execution_count": 4,
   "metadata": {},
   "outputs": [
    {
     "data": {
      "text/plain": [
       "4830×2 Matrix{String}:\n",
       " \"CC[C@H]([C@@H]1[C@H](C[C@@](O1)\" ⋯ 73 bytes ⋯ \"C(=C(C=C3)C)O)C(=O)[O-])O.[Na+]\"  …  \"Active\"\n",
       " \"CC1=C(OC2=C1C=C(C=C2)OC)C(=O)NC3=NC4=CC=CC=C4N3\"                                                                                             \"Active\"\n",
       " \"CCCN1C[C@@H](C[C@H]2[C@H]1CC3=CNC4=CC=CC2=C34)CSC.CS(=O)(=O)O\"                                                                               \"Active\"\n",
       " \"C1CN(CCN1CC2=CC=CC=C2)C(=O)CCCN3C(=O)CSC4=C3C=CC=N4\"                                                                                         \"Active\"\n",
       " \"CC1=CC(=C(C(=C1)C2=NNC3=C2C(N(C3=O)CC4=CC=CO4)C5=CC(=CC=C5)O)O)C\"                                                                            \"Active\"\n",
       " \"COC1=CC=C(C=C1)NC(=O)CC2=NC3=CC=CC=C3N2\"                                                                                                  …  \"Active\"\n",
       " \"C1=CC2=C(C=C1O)C(=CN2)CCN.Cl\"                                                                                                                \"Active\"\n",
       " \"CC(CC1=CNC2=C1C=C(C=C2)Cl)N.Cl\"                                                                                                              \"Active\"\n",
       " \"COC1=CC=CC(=C1O)C2=NC3=CC=CC=C3C(=N2)NC4CCCC4\"                                                                                               \"Active\"\n",
       " \"CC1=CC(=C(C=C1)C)C2C(=C(NC(=O)N2)CN3C=NC4=CC=CC=C43)C(=O)OC\"                                                                                 \"Active\"\n",
       " \"C1CN(CCN1)C2=NC3=CC=CC=C3C=C2.C(=C\\\\C(=O)[O-])\\\\C(=O)[O-]\"                                                                                …  \"Active\"\n",
       " \"CN1CCC2=C3[C@H]1CC4=C(C3=CC=C2)C(=C(C=C4)O)O.O.Cl\"                                                                                           \"Active\"\n",
       " \"CC(CC1=CC(=C(C=C1OC)I)OC)N.Cl\"                                                                                                               \"Active\"\n",
       " ⋮                                                                                                                                          ⋱  \n",
       " \"CCOC(=O)C1=CC=C(C=C1)NC(=O)CSC2=NC(=NS2)SC\"                                                                                                  \"Inactive\"\n",
       " \"C1CN(CCN1CC(=O)N)C2CC(=O)N(C2=O)CCC3=CC=CC=C3\"                                                                                               \"Inactive\"\n",
       " \"CC1=C(N=C(S1)NC(=S)NC(=O)C2=CC=CS2)C3=CC=C(C=C3)CC(C)C\"                                                                                   …  \"Inactive\"\n",
       " \"CC1=CC=C(C=C1)OC2=NC(=NC=C2S(=O)(=O)C)C3=CC=CC=C3\"                                                                                           \"Inactive\"\n",
       " \"CCC1=NN(C(=O)C2=CC=CN21)CC(=O)N3CCN(CC3)C\"                                                                                                   \"Inactive\"\n",
       " \"CC1=C2C=NNC(=O)C2=C(N1)C\"                                                                                                                    \"Inactive\"\n",
       " \"C1=CC=C2C(=C1)N=C(C(=N2)NS(=O)(=O)C3=CC=CS3)NC4=CC=CC(=C4)C(=O)O\"                                                                            \"Inactive\"\n",
       " \"CC1=C(C(=NN1CC(=O)NC2=C(C=CC(=C2)S(=O)(=O)N(C)C)Cl)C)[N+](=O)[O-]\"                                                                        …  \"Inactive\"\n",
       " \"C1=CC=C2C(=C1)C=CC(=C2Br)OCC(=O)NC(=S)NC3=CC=CC(=C3)CO\"                                                                                      \"Inactive\"\n",
       " \"CCN(CC)CCNC(=O)CN1C(=O)C=CC(=N1)C2=CC=C(C=C2)C\"                                                                                              \"Inactive\"\n",
       " \"C1C(=O)NC2=CC=CC=C2N1C(=O)COC(=O)C3=CC=C(O3)[N+](=O)[O-]\"                                                                                    \"Inactive\"\n",
       " \"CC1=CC=C(C=C1)S(=O)(=O)N2C3=CC=CC=C3C4=C(C2(C)C)SSC4=S\"                                                                                      \"Inactive\""
      ]
     },
     "execution_count": 4,
     "metadata": {},
     "output_type": "execute_result"
    }
   ],
   "source": [
    "smiles = dfToStringMatrix(df)"
   ]
  },
  {
   "cell_type": "code",
   "execution_count": 5,
   "metadata": {},
   "outputs": [],
   "source": [
    "py\"\"\"\n",
    "from smiles_tools import return_tokens\n",
    "from smiles_tools import SmilesEnumerator\n",
    "\"\"\""
   ]
  },
  {
   "cell_type": "code",
   "execution_count": 8,
   "metadata": {},
   "outputs": [
    {
     "data": {
      "text/plain": [
       "Dict{Int64, String} with 71 entries:\n",
       "  5  => \"/\"\n",
       "  56 => \"[NH3+]\"\n",
       "  16 => \"B\"\n",
       "  35 => \"[C@H]\"\n",
       "  55 => \"[NH2+]\"\n",
       "  20 => \"F\"\n",
       "  60 => \"[Nd+3]\"\n",
       "  30 => \"[Ba+2]\"\n",
       "  19 => \"Cl\"\n",
       "  32 => \"[C-]\"\n",
       "  49 => \"[N+]\"\n",
       "  6  => \"1\"\n",
       "  67 => \"[S-]\"\n",
       "  45 => \"[I-]\"\n",
       "  44 => \"[Hg]\"\n",
       "  9  => \"4\"\n",
       "  31 => \"[Br-]\"\n",
       "  64 => \"[Pt+2]\"\n",
       "  61 => \"[O-]\"\n",
       "  29 => \"[B-]\"\n",
       "  46 => \"[K+]\"\n",
       "  57 => \"[NH4+]\"\n",
       "  70 => \"[Zn+2]\"\n",
       "  4  => \".\"\n",
       "  13 => \"8\"\n",
       "  ⋮  => ⋮"
      ]
     },
     "execution_count": 8,
     "metadata": {},
     "output_type": "execute_result"
    }
   ],
   "source": [
    "vocab = dfToStringMatrix(getdf(joinpath(@__DIR__, \"vocab.csv\")))\n",
    "\n",
    "tokenizer = Dict(j => i for (i, j) in enumerate(vocab))\n",
    "reverse_tokenizer = Dict(value => key for (key, value) in tokenizer)"
   ]
  },
  {
   "cell_type": "code",
   "execution_count": 9,
   "metadata": {},
   "outputs": [
    {
     "data": {
      "text/plain": [
       "return_tokens (generic function with 1 method)"
      ]
     },
     "execution_count": 9,
     "metadata": {},
     "output_type": "execute_result"
    }
   ],
   "source": [
    "py\"\"\"\n",
    "def augment_smiles(string, n):\n",
    "    sme = SmilesEnumerator()\n",
    "    output = []\n",
    "    for i in range(n):\n",
    "        output.append(sme.randomize_smiles(string))\n",
    "    \n",
    "    return output\n",
    "\"\"\"\n",
    "\n",
    "augment_smiles(str, n) = py\"augment_smiles\"(str, n)\n",
    "return_tokens(str) = py\"return_tokens\"(str)"
   ]
  },
  {
   "cell_type": "code",
   "execution_count": 10,
   "metadata": {},
   "outputs": [],
   "source": [
    "n = 10\n",
    "\n",
    "for i in 1:length(smiles[:, begin])\n",
    "    for augmented in augment_smiles(smiles[:, begin][i], n)\n",
    "        smiles = vcat(smiles, String[augmented smiles[:, end][i]])\n",
    "    end\n",
    "end"
   ]
  },
  {
   "cell_type": "code",
   "execution_count": 12,
   "metadata": {},
   "outputs": [
    {
     "data": {
      "text/plain": [
       "53130×2 adjoint(::Matrix{Int64}) with eltype Int64:\n",
       " 1  0\n",
       " 1  0\n",
       " 1  0\n",
       " 1  0\n",
       " 1  0\n",
       " 1  0\n",
       " 1  0\n",
       " 1  0\n",
       " 1  0\n",
       " 1  0\n",
       " 1  0\n",
       " 1  0\n",
       " 1  0\n",
       " ⋮  \n",
       " 0  1\n",
       " 0  1\n",
       " 0  1\n",
       " 0  1\n",
       " 0  1\n",
       " 0  1\n",
       " 0  1\n",
       " 0  1\n",
       " 0  1\n",
       " 0  1\n",
       " 0  1\n",
       " 0  1"
      ]
     },
     "execution_count": 12,
     "metadata": {},
     "output_type": "execute_result"
    }
   ],
   "source": [
    "activity = reduce(hcat, [i == \"Active\" ? [1, 0] : [0, 1] for i in smiles[:, end]])'"
   ]
  },
  {
   "cell_type": "code",
   "execution_count": 13,
   "metadata": {},
   "outputs": [
    {
     "data": {
      "text/plain": [
       "standardizeCase (generic function with 1 method)"
      ]
     },
     "execution_count": 13,
     "metadata": {},
     "output_type": "execute_result"
    }
   ],
   "source": [
    "function standardizeCase(str)\n",
    "    str = titlecase(str)\n",
    "    str = replace(str, \"h\" => \"H\")\n",
    "end"
   ]
  },
  {
   "cell_type": "code",
   "execution_count": null,
   "metadata": {},
   "outputs": [
    {
     "name": "stdout",
     "output_type": "stream",
     "text": [
      "100 | strings: 100, activity: 100\n",
      "200 | strings: 200, activity: 200\n",
      "300 | strings: 300, activity: 300\n",
      "400 | strings: 400, activity: 400\n",
      "500 | strings: 500, activity: 500\n",
      "600 | strings: 600, activity: 600\n",
      "700 | strings: 700, activity: 700\n",
      "800 | strings: 800, activity: 800\n",
      "900 | strings: 900, activity: 900\n",
      "1000 | strings: 1000, activity: 1000\n",
      "1100 | strings: 1100, activity: 1100\n",
      "1200 | strings: 1200, activity: 1200\n",
      "1300 | strings: 1300, activity: 1300\n"
     ]
    }
   ],
   "source": [
    "strings = []\n",
    "activity = []\n",
    "\n",
    "for i in 1:length(smiles[:, begin])\n",
    "    try\n",
    "        push!(strings, [tokenizer[standardizeCase(j)] for j in return_tokens(smiles[:, begin][i])[begin]])\n",
    "        push!(activity, smiles[:, end][i] == \"Active\" ? [1, 0] : [0, 1])\n",
    "        # https://discourse.julialang.org/t/using-push/30935/2\n",
    "    catch\n",
    "    end\n",
    "\n",
    "    if i % 100 == 0\n",
    "        println(\"$i | strings: $(length(strings)), activity: $(length(activity))\")\n",
    "    end\n",
    "end"
   ]
  },
  {
   "cell_type": "code",
   "execution_count": 13,
   "metadata": {},
   "outputs": [],
   "source": [
    "# strings = [[tokenizer[standardizeCase(j)] for j in return_tokens(i)[begin]] for i in smiles[:, begin]]\n",
    "# activity = reduce(hcat, [i == \"Active\" ? [1, 0] : [0, 1] for i in smiles[:, end]])'\n",
    "\n",
    "activity = reduce(hcat, activity)'\n",
    "\n",
    "@assert length(strings) == size(activity)[begin]"
   ]
  },
  {
   "cell_type": "code",
   "execution_count": 14,
   "metadata": {},
   "outputs": [
    {
     "data": {
      "text/plain": [
       "convert_back (generic function with 1 method)"
      ]
     },
     "execution_count": 14,
     "metadata": {},
     "output_type": "execute_result"
    }
   ],
   "source": [
    "convert_back(x) = join([i in keys(reverse_tokenizer) ? reverse_tokenizer[i] : \"\" for i in x])"
   ]
  },
  {
   "cell_type": "code",
   "execution_count": 15,
   "metadata": {},
   "outputs": [
    {
     "data": {
      "text/plain": [
       "190"
      ]
     },
     "execution_count": 15,
     "metadata": {},
     "output_type": "execute_result"
    }
   ],
   "source": [
    "max_length = maximum(length.(strings))"
   ]
  },
  {
   "cell_type": "code",
   "execution_count": 16,
   "metadata": {},
   "outputs": [
    {
     "data": {
      "text/plain": [
       "pad_features (generic function with 1 method)"
      ]
     },
     "execution_count": 16,
     "metadata": {},
     "output_type": "execute_result"
    }
   ],
   "source": [
    "function pad_features(input_strings, length_max)\n",
    "    features = []\n",
    "    for i in input_strings\n",
    "        dim = size(i)[1]\n",
    "        pad_size = length_max - dim \n",
    "        if pad_size > 0\n",
    "            pad_array = zeros(Int64, pad_size)\n",
    "            result = append!(pad_array, i)\n",
    "        else\n",
    "            result = i[1:length_max]\n",
    "        end\n",
    "        push!(features, result)\n",
    "    end\n",
    "    return features\n",
    "end"
   ]
  },
  {
   "cell_type": "code",
   "execution_count": 17,
   "metadata": {},
   "outputs": [
    {
     "data": {
      "text/plain": [
       "156844-element Vector{Any}:\n",
       " [0, 0, 0, 0, 0, 0, 0, 0, 0, 0  …  18, 15, 18, 18, 15, 18, 9, 3, 23, 18]\n",
       " [0, 0, 0, 0, 0, 0, 0, 0, 0, 0  …  18, 15, 18, 18, 15, 18, 9, 3, 23, 18]\n",
       " [0, 0, 0, 0, 0, 0, 0, 0, 0, 0  …  18, 18, 15, 18, 18, 15, 18, 8, 3, 22]\n",
       " [0, 0, 0, 0, 0, 0, 0, 0, 0, 0  …  15, 18, 18, 15, 18, 18, 15, 18, 8, 17]\n",
       " [0, 0, 0, 0, 0, 0, 0, 0, 0, 0  …  3, 18, 3, 23, 10, 3, 18, 3, 18, 23]\n",
       " [0, 0, 0, 0, 0, 0, 0, 0, 0, 0  …  15, 18, 2, 18, 15, 18, 7, 23, 3, 23]\n",
       " [0, 0, 0, 0, 0, 0, 0, 0, 0, 0  …  18, 6, 18, 3, 18, 18, 2, 18, 3, 18]\n",
       " [0, 0, 0, 0, 0, 0, 0, 0, 0, 0  …  3, 23, 3, 23, 3, 23, 3, 23, 3, 23]\n",
       " [0, 0, 0, 0, 0, 0, 0, 0, 0, 0  …  18, 18, 15, 18, 11, 10, 3, 18, 3, 18]\n",
       " [0, 0, 0, 0, 0, 0, 0, 0, 0, 0  …  8, 3, 23, 3, 23, 18, 3, 18, 3, 18]\n",
       " [0, 0, 0, 0, 0, 0, 0, 0, 0, 0  …  18, 8, 3, 23, 18, 3, 23, 18, 3, 18]\n",
       " [0, 0, 0, 0, 0, 0, 0, 0, 0, 0  …  18, 9, 15, 22, 25, 22, 15, 18, 9, 8]\n",
       " [0, 0, 0, 0, 0, 0, 0, 0, 0, 0  …  19, 3, 49, 2, 15, 23, 3, 61, 3, 23]\n",
       " ⋮\n",
       " [0, 0, 0, 0, 0, 0, 0, 0, 0, 0  …  7, 23, 18, 3, 18, 18, 6, 3, 15, 23]\n",
       " [0, 0, 0, 0, 0, 0, 0, 0, 0, 0  …  18, 18, 2, 19, 3, 18, 7, 3, 18, 6]\n",
       " [0, 0, 0, 0, 0, 0, 0, 0, 0, 0  …  49, 2, 61, 3, 15, 23, 3, 18, 18, 6]\n",
       " [0, 0, 0, 0, 0, 0, 0, 0, 0, 0  …  15, 23, 3, 18, 18, 7, 3, 18, 18, 6]\n",
       " [0, 0, 0, 0, 0, 0, 0, 0, 0, 0  …  3, 61, 3, 18, 18, 7, 3, 18, 18, 6]\n",
       " [0, 0, 0, 0, 0, 0, 0, 0, 0, 0  …  18, 18, 7, 3, 18, 18, 6, 3, 15, 23]\n",
       " [0, 0, 0, 0, 0, 0, 0, 0, 0, 0  …  3, 15, 23, 3, 18, 18, 15, 18, 18, 7]\n",
       " [0, 0, 0, 0, 0, 0, 0, 0, 0, 0  …  18, 18, 7, 3, 18, 18, 6, 3, 15, 23]\n",
       " [0, 0, 0, 0, 0, 0, 0, 0, 0, 0  …  8, 3, 18, 2, 15, 23, 3, 18, 6, 7]\n",
       " [0, 0, 0, 0, 0, 0, 0, 0, 0, 0  …  15, 23, 3, 18, 18, 7, 3, 18, 18, 6]\n",
       " [0, 0, 0, 0, 0, 0, 0, 0, 0, 0  …  3, 15, 23, 3, 18, 18, 7, 3, 18, 6]\n",
       " [0, 0, 0, 0, 0, 0, 0, 0, 0, 0  …  2, 49, 2, 15, 23, 3, 61, 3, 18, 6]"
      ]
     },
     "execution_count": 17,
     "metadata": {},
     "output_type": "execute_result"
    }
   ],
   "source": [
    "padded_features = pad_features(strings, max_length)"
   ]
  },
  {
   "cell_type": "code",
   "execution_count": 18,
   "metadata": {},
   "outputs": [],
   "source": [
    "# save to jld and then process rest in python\n",
    "save(\"unencoded_data.jld\", \"features\", padded_features, compress=true)"
   ]
  },
  {
   "cell_type": "code",
   "execution_count": 19,
   "metadata": {},
   "outputs": [],
   "source": [
    "save(\"augmented_activity.jld\", \"activity\", Matrix(activity), compress=true)"
   ]
  },
  {
   "cell_type": "code",
   "execution_count": 20,
   "metadata": {},
   "outputs": [
    {
     "data": {
      "text/plain": [
       "onehot (generic function with 1 method)"
      ]
     },
     "execution_count": 20,
     "metadata": {},
     "output_type": "execute_result"
    }
   ],
   "source": [
    "function onehot(x)\n",
    "    onehot_array = zeros(length(keys(tokenizer)) + 1)\n",
    "    onehot_array[x + 1] = 1\n",
    "    return onehot_array\n",
    "end"
   ]
  },
  {
   "cell_type": "code",
   "execution_count": 21,
   "metadata": {},
   "outputs": [
    {
     "name": "stdout",
     "output_type": "stream",
     "text": [
      "156844\n"
     ]
    }
   ],
   "source": [
    "parsed = [onehot.(i) for i in padded_features]\n",
    "println(length(parsed))"
   ]
  },
  {
   "cell_type": "code",
   "execution_count": 25,
   "metadata": {},
   "outputs": [],
   "source": [
    "# py\"\"\"\n",
    "# import numpy as np \n",
    "\n",
    "# def to_numpy(x):\n",
    "#     return np.array(x)\n",
    "# \"\"\"\n",
    "\n",
    "# py\"to_numpy\"(parsed)"
   ]
  },
  {
   "cell_type": "code",
   "execution_count": null,
   "metadata": {},
   "outputs": [],
   "source": [
    "save(\"encoded_data.jld\", \"encoded_data\", parsed, compress=true)"
   ]
  },
  {
   "cell_type": "code",
   "execution_count": null,
   "metadata": {},
   "outputs": [],
   "source": [
    "matrix_parsed = [mapreduce(permutedims, vcat, i) for i in parsed]"
   ]
  },
  {
   "cell_type": "code",
   "execution_count": null,
   "metadata": {},
   "outputs": [],
   "source": [
    "X = [matrix_parsed[i] for i in 1:length(strings)]\n",
    "Y = convert(Matrix{Float32}, activity)"
   ]
  },
  {
   "cell_type": "code",
   "execution_count": null,
   "metadata": {},
   "outputs": [],
   "source": [
    "save(\"augmented_data.jld\", \"X\", X, \"Y\", Y, compress=true)"
   ]
  }
 ],
 "metadata": {
  "kernelspec": {
   "display_name": "Julia 1.8.1",
   "language": "julia",
   "name": "julia-1.8"
  },
  "language_info": {
   "file_extension": ".jl",
   "mimetype": "application/julia",
   "name": "julia",
   "version": "1.8.1"
  }
 },
 "nbformat": 4,
 "nbformat_minor": 2
}
