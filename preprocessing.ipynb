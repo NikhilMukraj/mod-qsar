{
 "cells": [
  {
   "cell_type": "code",
   "execution_count": 1,
   "metadata": {},
   "outputs": [],
   "source": [
    "import pandas as pd\n",
    "import numpy as np\n",
    "from sklearn.preprocessing import OneHotEncoder\n",
    "from tensorflow.keras.utils import to_categorical\n",
    "import numpy as np\n",
    "from julia import Main\n",
    "from smilesenumeration import SmilesEnumerator\n",
    "import os"
   ]
  },
  {
   "cell_type": "code",
   "execution_count": 2,
   "metadata": {},
   "outputs": [],
   "source": [
    "df = pd.read_csv(f'{os.getcwd()}\\\\filtered_dataset.csv')"
   ]
  },
  {
   "cell_type": "code",
   "execution_count": 3,
   "metadata": {},
   "outputs": [],
   "source": [
    "vocab = pd.read_csv(f'{os.getcwd()}\\\\vocab.csv')['tokens'].to_list()"
   ]
  },
  {
   "cell_type": "code",
   "execution_count": 4,
   "metadata": {},
   "outputs": [],
   "source": [
    "tokenizer = {i : n for n, i in enumerate(vocab)}\n",
    "reverse_tokenizer = {value: key for key, value in tokenizer.items()}\n",
    "convert_back = lambda x: ''.join(reverse_tokenizer.get(np.argmax(i)-1, '') for i in x)"
   ]
  },
  {
   "cell_type": "code",
   "execution_count": 5,
   "metadata": {},
   "outputs": [],
   "source": [
    "# onehot encode data from jl and then clean up code so its not messy as hell"
   ]
  },
  {
   "cell_type": "code",
   "execution_count": 6,
   "metadata": {},
   "outputs": [],
   "source": [
    "Main.eval('using JLD; unencoded_data = load(\"unencoded_data.jld\")')\n",
    "Main.eval('activity = load(\"augmented_activity.jld\")')\n",
    "unencoded_data = Main.unencoded_data\n",
    "activity = Main.activity"
   ]
  },
  {
   "cell_type": "code",
   "execution_count": 7,
   "metadata": {},
   "outputs": [],
   "source": [
    "unencoded_data = np.array(unencoded_data['features'])"
   ]
  },
  {
   "cell_type": "code",
   "execution_count": 8,
   "metadata": {},
   "outputs": [],
   "source": [
    "activity = np.array(activity['activity'])"
   ]
  },
  {
   "cell_type": "code",
   "execution_count": 9,
   "metadata": {},
   "outputs": [],
   "source": [
    "# # # def onehot(num, nmax):\n",
    "# # #     temp = np.zeros(nmax)\n",
    "# # #     temp[num] = 1\n",
    "\n",
    "# # #     return temp\n",
    "\n",
    "# Main.eval(\"\"\"\n",
    "# function onehot(x, n)\n",
    "#     onehot_array = zeros(n + 1)\n",
    "#     onehot_array[x + 1] = 1\n",
    "#     return onehot_array\n",
    "# end\n",
    "# \"\"\"\n",
    "# )"
   ]
  },
  {
   "cell_type": "code",
   "execution_count": 10,
   "metadata": {},
   "outputs": [],
   "source": [
    "# Main.eval(f'parsed = [onehot.(i, {len(tokenizer)}) for i in unencoded_data[\"features\"]]')"
   ]
  },
  {
   "cell_type": "code",
   "execution_count": 11,
   "metadata": {},
   "outputs": [],
   "source": [
    "# enc = OneHotEncoder(sparse=False)\n",
    "# encoded_seqs = enc.fit_transform(unencoded_data)"
   ]
  },
  {
   "cell_type": "code",
   "execution_count": 12,
   "metadata": {},
   "outputs": [],
   "source": [
    "# decoded = enc.inverse_transform(encoded_seqs)\n",
    "# ''.join(reverse_tokenizer.get(i-1, '') for i in decoded[np.random.randint(0, len(decoded))])"
   ]
  },
  {
   "cell_type": "code",
   "execution_count": 13,
   "metadata": {},
   "outputs": [],
   "source": [
    "# https://stackoverflow.com/questions/49604765/create-model-using-one-hot-encoding-in-keras"
   ]
  },
  {
   "cell_type": "code",
   "execution_count": 14,
   "metadata": {},
   "outputs": [],
   "source": [
    "# encoded_data = np.zeros((*unencoded_data.shape, np.max(unencoded_data)+1))\n",
    "\n",
    "# for i in range(unencoded_data.shape[0]):\n",
    "#     encoded_data[i] = to_categorical(unencoded_data[i], np.max(unencoded_data)+1)\n",
    "\n",
    "#     if i % 100 == 0:\n",
    "#         print(f'at {i}/{unencoded_data.shape[0]}')\n",
    "\n",
    "# encoded_data = np.array(encoded_data)"
   ]
  },
  {
   "cell_type": "code",
   "execution_count": 15,
   "metadata": {},
   "outputs": [],
   "source": [
    "# might need c refactor"
   ]
  }
 ],
 "metadata": {
  "kernelspec": {
   "display_name": "Python 3",
   "language": "python",
   "name": "python3"
  },
  "language_info": {
   "codemirror_mode": {
    "name": "ipython",
    "version": 3
   },
   "file_extension": ".py",
   "mimetype": "text/x-python",
   "name": "python",
   "nbconvert_exporter": "python",
   "pygments_lexer": "ipython3",
   "version": "3.8.10 (tags/v3.8.10:3d8993a, May  3 2021, 11:48:03) [MSC v.1928 64 bit (AMD64)]"
  },
  "orig_nbformat": 4,
  "vscode": {
   "interpreter": {
    "hash": "e49f74e46b456e49c6fe038b9d452af7a62c4b3c345dd5f08f3508413a9f0789"
   }
  }
 },
 "nbformat": 4,
 "nbformat_minor": 2
}
