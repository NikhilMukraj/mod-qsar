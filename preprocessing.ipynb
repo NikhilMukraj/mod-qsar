{
 "cells": [
  {
   "cell_type": "code",
   "execution_count": 1,
   "metadata": {},
   "outputs": [
    {
     "name": "stderr",
     "output_type": "stream",
     "text": [
      "2023-02-12 19:07:18.798403: I tensorflow/core/platform/cpu_feature_guard.cc:193] This TensorFlow binary is optimized with oneAPI Deep Neural Network Library (oneDNN) to use the following CPU instructions in performance-critical operations:  AVX2 FMA\n",
      "To enable them in other operations, rebuild TensorFlow with the appropriate compiler flags.\n",
      "2023-02-12 19:07:20.526347: W tensorflow/compiler/xla/stream_executor/platform/default/dso_loader.cc:64] Could not load dynamic library 'libcudart.so.11.0'; dlerror: libcudart.so.11.0: cannot open shared object file: No such file or directory\n",
      "2023-02-12 19:07:20.526403: I tensorflow/compiler/xla/stream_executor/cuda/cudart_stub.cc:29] Ignore above cudart dlerror if you do not have a GPU set up on your machine.\n",
      "2023-02-12 19:07:22.674889: W tensorflow/compiler/xla/stream_executor/platform/default/dso_loader.cc:64] Could not load dynamic library 'libnvinfer.so.7'; dlerror: libnvinfer.so.7: cannot open shared object file: No such file or directory\n",
      "2023-02-12 19:07:22.675106: W tensorflow/compiler/xla/stream_executor/platform/default/dso_loader.cc:64] Could not load dynamic library 'libnvinfer_plugin.so.7'; dlerror: libnvinfer_plugin.so.7: cannot open shared object file: No such file or directory\n",
      "2023-02-12 19:07:22.675118: W tensorflow/compiler/tf2tensorrt/utils/py_utils.cc:38] TF-TRT Warning: Cannot dlopen some TensorRT libraries. If you would like to use Nvidia GPU with TensorRT, please make sure the missing libraries mentioned above are installed properly.\n"
     ]
    }
   ],
   "source": [
    "import pandas as pd\n",
    "import numpy as np\n",
    "# from sklearn.preprocessing import OneHotEncoder\n",
    "# from tensorflow.keras.utils import to_categorical\n",
    "import numpy as np\n",
    "from cfunc_wrapper import seqsOneHot, seqOneHot\n",
    "# from julia import Main\n",
    "from smilesenumeration import SmilesEnumerator\n",
    "import h5py\n",
    "import os"
   ]
  },
  {
   "cell_type": "code",
   "execution_count": 2,
   "metadata": {},
   "outputs": [],
   "source": [
    "df = pd.read_csv(f'{os.getcwd()}//filtered_dataset.csv')"
   ]
  },
  {
   "cell_type": "code",
   "execution_count": 3,
   "metadata": {},
   "outputs": [],
   "source": [
    "vocab = pd.read_csv(f'{os.getcwd()}//vocab.csv')['tokens'].to_list()"
   ]
  },
  {
   "cell_type": "code",
   "execution_count": 4,
   "metadata": {},
   "outputs": [],
   "source": [
    "tokenizer = {i : n for n, i in enumerate(vocab)}\n",
    "reverse_tokenizer = {value: key for key, value in tokenizer.items()}\n",
    "convert_back = lambda x: ''.join(reverse_tokenizer.get(np.argmax(i)-1, '') for i in x)"
   ]
  },
  {
   "cell_type": "code",
   "execution_count": 6,
   "metadata": {},
   "outputs": [],
   "source": [
    "# clean up code so its not messy as hell"
   ]
  },
  {
   "cell_type": "code",
   "execution_count": 7,
   "metadata": {},
   "outputs": [],
   "source": [
    "# Main.eval('using JLD; unencoded_data = load(\"unencoded_data.jld\"); activity = load(\"augmented_activity.jld\")')\n",
    "# unencoded_data = Main.unencoded_data\n",
    "# activity = Main.activity\n",
    "# unencoded_data = np.array(unencoded_data['features'])\n",
    "# activity = np.array(activity['activity'])\n",
    "\n",
    "####################### needs to be implemented somewhere ########################\n",
    "# unencoded_data = np.save(f'{os.getcwd()}//unencoded_data.npy', unencoded_data) #\n",
    "# activity = np.save(f'{os.getcwd()}//activity.npy', activity)                   # "
   ]
  },
  {
   "cell_type": "code",
   "execution_count": 5,
   "metadata": {},
   "outputs": [],
   "source": [
    "unencoded_data = np.load(f'{os.getcwd()}//unencoded_data.npy')\n",
    "activity = np.load(f'{os.getcwd()}//activity.npy')"
   ]
  },
  {
   "cell_type": "code",
   "execution_count": 10,
   "metadata": {},
   "outputs": [
    {
     "data": {
      "text/plain": [
       "(156844, 190)"
      ]
     },
     "execution_count": 10,
     "metadata": {},
     "output_type": "execute_result"
    }
   ],
   "source": [
    "unencoded_data.shape"
   ]
  },
  {
   "cell_type": "code",
   "execution_count": null,
   "metadata": {},
   "outputs": [],
   "source": [
    "# encoded_data = np.zeros((*unencoded_data.shape, np.max(unencoded_data)+1))\n",
    "\n",
    "# for i in range(unencoded_data.shape[0]):\n",
    "#     encoded_data[i] = to_categorical(unencoded_data[i], np.max(unencoded_data)+1)\n",
    "\n",
    "#     if i % 100 == 0:\n",
    "#         print(f'at {i}/{unencoded_data.shape[0]}')\n",
    "\n",
    "# encoded_data = np.array(encoded_data)"
   ]
  },
  {
   "cell_type": "code",
   "execution_count": 6,
   "metadata": {},
   "outputs": [],
   "source": [
    "seqs_shape = np.array([len(unencoded_data), len(unencoded_data[0]), np.max(unencoded_data)+1], dtype=np.int32)\n",
    "unencoded_data = np.array(unencoded_data, dtype=np.int32)\n",
    "\n",
    "encoded_seqs = seqsOneHot(unencoded_data, seqs_shape) # need to ensure is of dtype=np.int32 otherwise data is mangled"
   ]
  },
  {
   "cell_type": "code",
   "execution_count": 8,
   "metadata": {},
   "outputs": [
    {
     "data": {
      "text/plain": [
       "'COC1=C(C=C(C=C1)C2=C(NC(=C2C(=O)C3=CC=C(C=C3)Br)N)C(=O)C4=CC=CC=C4)OC'"
      ]
     },
     "execution_count": 8,
     "metadata": {},
     "output_type": "execute_result"
    }
   ],
   "source": [
    "convert_back(encoded_seqs[0])"
   ]
  },
  {
   "cell_type": "code",
   "execution_count": 11,
   "metadata": {},
   "outputs": [],
   "source": [
    "np.save(f'{os.getcwd()}//encoded_seqs.npy', encoded_seqs)"
   ]
  }
 ],
 "metadata": {
  "kernelspec": {
   "display_name": "Python 3 (ipykernel)",
   "language": "python",
   "name": "python3"
  },
  "language_info": {
   "codemirror_mode": {
    "name": "ipython",
    "version": 3
   },
   "file_extension": ".py",
   "mimetype": "text/x-python",
   "name": "python",
   "nbconvert_exporter": "python",
   "pygments_lexer": "ipython3",
   "version": "3.8.10"
  },
  "vscode": {
   "interpreter": {
    "hash": "e49f74e46b456e49c6fe038b9d452af7a62c4b3c345dd5f08f3508413a9f0789"
   }
  }
 },
 "nbformat": 4,
 "nbformat_minor": 2
}
