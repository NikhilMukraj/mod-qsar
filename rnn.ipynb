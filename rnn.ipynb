{
 "cells": [
  {
   "cell_type": "code",
   "execution_count": 1,
   "metadata": {},
   "outputs": [],
   "source": [
    "using Flux\n",
    "using Flux.Data: DataLoader\n",
    "using PyCall\n",
    "using Plots\n",
    "using PlotThemes\n",
    "using TOML\n",
    "using Pkg\n",
    "using BSON: @save"
   ]
  },
  {
   "cell_type": "code",
   "execution_count": 2,
   "metadata": {},
   "outputs": [
    {
     "name": "stderr",
     "output_type": "stream",
     "text": [
      "\u001b[32m\u001b[1m  Activating\u001b[22m\u001b[39m environment at `C:\\Users\\nikhi\\OneDrive\\Documents\\julia\\MLTools\\Project.toml`\n"
     ]
    }
   ],
   "source": [
    "env_path = TOML.parse(read(\"mltools.toml\", String))[\"env_path\"]\n",
    "Pkg.activate(env_path)"
   ]
  },
  {
   "cell_type": "code",
   "execution_count": 3,
   "metadata": {},
   "outputs": [
    {
     "name": "stderr",
     "output_type": "stream",
     "text": [
      "┌ Info: Precompiling MLTools [1eca4633-f73c-4459-9b1e-59996da1b775]\n",
      "└ @ Base loading.jl:1342\n"
     ]
    }
   ],
   "source": [
    "import MLTools as mlt"
   ]
  },
  {
   "cell_type": "code",
   "execution_count": 4,
   "metadata": {},
   "outputs": [
    {
     "data": {
      "text/html": [
       "<div>\n",
       "<style scoped>\n",
       "    .dataframe tbody tr th:only-of-type {\n",
       "        vertical-align: middle;\n",
       "    }\n",
       "\n",
       "    .dataframe tbody tr th {\n",
       "        vertical-align: top;\n",
       "    }\n",
       "\n",
       "    .dataframe thead th {\n",
       "        text-align: right;\n",
       "    }\n",
       "</style>\n",
       "<table border=\"1\" class=\"dataframe\">\n",
       "  <thead>\n",
       "    <tr style=\"text-align: right;\">\n",
       "      <th></th>\n",
       "      <th>PUBCHEM_EXT_DATASOURCE_SMILES</th>\n",
       "      <th>PUBCHEM_ACTIVITY_OUTCOME</th>\n",
       "    </tr>\n",
       "  </thead>\n",
       "  <tbody>\n",
       "    <tr>\n",
       "      <th>0</th>\n",
       "      <td>COC1=C(C=C(C=C1)C2=C(NC(=C2C(=O)C3=CC=C(C=C3)B...</td>\n",
       "      <td>Active</td>\n",
       "    </tr>\n",
       "    <tr>\n",
       "      <th>1</th>\n",
       "      <td>COC1=C(C=C(C=C1)C2=C(NC(=C2C(=O)C3=CC=CC=C3)N)...</td>\n",
       "      <td>Active</td>\n",
       "    </tr>\n",
       "    <tr>\n",
       "      <th>2</th>\n",
       "      <td>C1CN(CCN1)C(=O)C2=C(SC(=C2)C3=CC=CC=C3)N</td>\n",
       "      <td>Active</td>\n",
       "    </tr>\n",
       "    <tr>\n",
       "      <th>3</th>\n",
       "      <td>C1=CC=C(C=C1)C(=O)C2=C(C(=C(N2)N)C(=O)N)C3=CC=...</td>\n",
       "      <td>Active</td>\n",
       "    </tr>\n",
       "    <tr>\n",
       "      <th>4</th>\n",
       "      <td>CC1=C(C(=O)OC(C1)[C@@H](C)C2CC[C@@H]3[C@@]2(CC...</td>\n",
       "      <td>Active</td>\n",
       "    </tr>\n",
       "    <tr>\n",
       "      <th>...</th>\n",
       "      <td>...</td>\n",
       "      <td>...</td>\n",
       "    </tr>\n",
       "    <tr>\n",
       "      <th>18229</th>\n",
       "      <td>CCCOC1=C(C=C(C=C1)/C=C/C(=O)OCC(=O)N(C)C2=C(N(...</td>\n",
       "      <td>Inactive</td>\n",
       "    </tr>\n",
       "    <tr>\n",
       "      <th>18230</th>\n",
       "      <td>CC(C)NC1=NN=C(S1)SCC(=O)NC2=CC(=C(C(=C2)OC)OC)OC</td>\n",
       "      <td>Inactive</td>\n",
       "    </tr>\n",
       "    <tr>\n",
       "      <th>18231</th>\n",
       "      <td>CC1=NN(C2=C1C=C(C=N2)C(=O)C3=C(C=CC(=C3)F)O)CCO</td>\n",
       "      <td>Inactive</td>\n",
       "    </tr>\n",
       "    <tr>\n",
       "      <th>18232</th>\n",
       "      <td>CC1=CSC(=N1)NC(=O)CC2=CC(=C(C=C2)OC)S(=O)(=O)N...</td>\n",
       "      <td>Inactive</td>\n",
       "    </tr>\n",
       "    <tr>\n",
       "      <th>18233</th>\n",
       "      <td>CC1=C(C(=NN1C2=CC=CC=C2)C)C(=O)NC3=CC=C(C=C3)N...</td>\n",
       "      <td>Inactive</td>\n",
       "    </tr>\n",
       "  </tbody>\n",
       "</table>\n",
       "<p>18234 rows × 2 columns</p>\n",
       "</div>"
      ],
      "text/plain": [
       "PyObject                            PUBCHEM_EXT_DATASOURCE_SMILES PUBCHEM_ACTIVITY_OUTCOME\n",
       "0      COC1=C(C=C(C=C1)C2=C(NC(=C2C(=O)C3=CC=C(C=C3)B...                   Active\n",
       "1      COC1=C(C=C(C=C1)C2=C(NC(=C2C(=O)C3=CC=CC=C3)N)...                   Active\n",
       "2               C1CN(CCN1)C(=O)C2=C(SC(=C2)C3=CC=CC=C3)N                   Active\n",
       "3      C1=CC=C(C=C1)C(=O)C2=C(C(=C(N2)N)C(=O)N)C3=CC=...                   Active\n",
       "4      CC1=C(C(=O)OC(C1)[C@@H](C)C2CC[C@@H]3[C@@]2(CC...                   Active\n",
       "...                                                  ...                      ...\n",
       "18229  CCCOC1=C(C=C(C=C1)/C=C/C(=O)OCC(=O)N(C)C2=C(N(...                 Inactive\n",
       "18230   CC(C)NC1=NN=C(S1)SCC(=O)NC2=CC(=C(C(=C2)OC)OC)OC                 Inactive\n",
       "18231    CC1=NN(C2=C1C=C(C=N2)C(=O)C3=C(C=CC(=C3)F)O)CCO                 Inactive\n",
       "18232  CC1=CSC(=N1)NC(=O)CC2=CC(=C(C=C2)OC)S(=O)(=O)N...                 Inactive\n",
       "18233  CC1=C(C(=NN1C2=CC=CC=C2)C)C(=O)NC3=CC=C(C=C3)N...                 Inactive\n",
       "\n",
       "[18234 rows x 2 columns]"
      ]
     },
     "execution_count": 4,
     "metadata": {},
     "output_type": "execute_result"
    }
   ],
   "source": [
    "df = mlt.getdf(joinpath(@__DIR__, \"filtered_dataset.csv\"))"
   ]
  },
  {
   "cell_type": "code",
   "execution_count": 6,
   "metadata": {},
   "outputs": [
    {
     "data": {
      "text/plain": [
       "18234×2 Matrix{String}:\n",
       " \"COC1=C(C=C(C=C1)C2=C(NC(=C2C(=O)C3=CC=C(C=C3)Br)N)C(=O)C4=CC=CC=C4)OC\"                                                         …  \"Active\"\n",
       " \"COC1=C(C=C(C=C1)C2=C(NC(=C2C(=O)C3=CC=CC=C3)N)C(=O)C4=CC=CC=C4)OC\"                                                                \"Active\"\n",
       " \"C1CN(CCN1)C(=O)C2=C(SC(=C2)C3=CC=CC=C3)N\"                                                                                         \"Active\"\n",
       " \"C1=CC=C(C=C1)C(=O)C2=C(C(=C(N2)N)C(=O)N)C3=CC=CC=C3Br\"                                                                            \"Active\"\n",
       " \"CC1=C(C(=O)OC(C1)[C@@H](C)C2CC[C@@H]3[C@@]2(CCC4C3C[C@@H]5[C@]6([C@@]4(C(=O)C=C[C@@H]6O)C)O5)C)CO\"                                \"Active\"\n",
       " \"CC1CCC/C=C/C(=O)C2=C(CC(=O)O1)C=C(C=C2O)O\"                                                                                     …  \"Active\"\n",
       " \"CC1C2C(NC(=O)C23C(/C=C(/CCC(C(/C=C/C3=O)O)O)\\\\C)C=C1C)CC(C)C\"                                                                     \"Active\"\n",
       " \"C1=CC(=CC=C1C2=CC(=O)C3=C(O2)C=C(C(=C3O)C4C(C(C(C(O4)CO)O)O)O)O)O\"                                                                \"Active\"\n",
       " \"C[C@H]\\\\1C/C=C/[C@H]2[C@H]3[C@](O3)([C@H]([C@@H]4[C@@]2(C(=O)/C=C/C(=O)[C@@H](/C(=C1)/C)O)C(=O)N[C@H]4CC5=CNC6=CC=CC=C65)C)C\"     \"Active\"\n",
       " \"CC1(C2CCC1(C(C2)OC(=O)/C=C/C3=CC(=C(C=C3)O)OC)C)C\"                                                                                \"Active\"\n",
       " \"CC1=CC(=CC(=C1)CC2CC(=O)N(C2=O)C3=C(C=CC(=C3)OC)OC)C\"                                                                          …  \"Active\"\n",
       " \"CC1=CC2=C(C=C1)NC(=O)C(=C2)CN(CCCO)S(=O)(=O)C3=CC=CC4=NSN=C43\"                                                                    \"Active\"\n",
       " \"C1=CC=C(C(=C1)NC2=C(C3=NON=C3C(=C2)Cl)[N+](=O)[O-])O\"                                                                             \"Active\"\n",
       " ⋮                                                                                                                               ⋱  \n",
       " \"CC1=C(C(C2=C(N1)CCCC2=O)C3=CC=C(C=C3)N(C)C)C(=O)OCCOC\"                                                                            \"Inactive\"\n",
       " \"CCOC1=CC=C(C=C1)S(=O)(=O)NC2=CC=CC(=C2)C(=O)N3CCN(CC3)C4=CC=C(C=C4)OC\"                                                            \"Inactive\"\n",
       " \"CCC1=CC=C(C=C1)NC(=O)CSC2=NC3=CC=CC=C3C(=O)N2CCN4CCOCC4\"                                                                          \"Inactive\"\n",
       " \"CCN1C(=O)C2=CC=CC=C2C(=N1)C(=O)NC3=CC(=CC=C3)S(=O)(=O)N4CCCC4\"                                                                 …  \"Inactive\"\n",
       " \"CN1C2=C(C=C(C=C2)C3=CC4=C(C=C3)NC=C4)C(=C1C5=CC(=CC(=C5)OC)OC)C6=CC=CS6\"                                                          \"Inactive\"\n",
       " \"CN1C(=CC=C1S(=O)(=O)N(C2CCCCC2)C3CCCCC3)C(=O)OC\"                                                                                  \"Inactive\"\n",
       " \"CN(C)CC1=CC=CC=C1C(C2=CC=CC=C2)(C3=CC=CC=C3)O\"                                                                                    \"Inactive\"\n",
       " \"CCCOC1=C(C=C(C=C1)/C=C/C(=O)OCC(=O)N(C)C2=C(N(C(=O)NC2=O)CC3=CC=CC=C3)N)OCC\"                                                      \"Inactive\"\n",
       " \"CC(C)NC1=NN=C(S1)SCC(=O)NC2=CC(=C(C(=C2)OC)OC)OC\"                                                                              …  \"Inactive\"\n",
       " \"CC1=NN(C2=C1C=C(C=N2)C(=O)C3=C(C=CC(=C3)F)O)CCO\"                                                                                  \"Inactive\"\n",
       " \"CC1=CSC(=N1)NC(=O)CC2=CC(=C(C=C2)OC)S(=O)(=O)N3CCOCC3\"                                                                            \"Inactive\"\n",
       " \"CC1=C(C(=NN1C2=CC=CC=C2)C)C(=O)NC3=CC=C(C=C3)N4CCOCC4\"                                                                            \"Inactive\""
      ]
     },
     "execution_count": 6,
     "metadata": {},
     "output_type": "execute_result"
    }
   ],
   "source": [
    "smiles = mlt.dfToStringMatrix(df)"
   ]
  },
  {
   "cell_type": "code",
   "execution_count": 17,
   "metadata": {},
   "outputs": [
    {
     "data": {
      "text/plain": [
       "71×1 Matrix{String}:\n",
       " \"#\"\n",
       " \"(\"\n",
       " \")\"\n",
       " \".\"\n",
       " \"/\"\n",
       " \"1\"\n",
       " \"2\"\n",
       " \"3\"\n",
       " \"4\"\n",
       " \"5\"\n",
       " \"6\"\n",
       " \"7\"\n",
       " \"8\"\n",
       " ⋮\n",
       " \"[Nd+3]\"\n",
       " \"[O-]\"\n",
       " \"[OH-]\"\n",
       " \"[P+]\"\n",
       " \"[Pt+2]\"\n",
       " \"[Pt]\"\n",
       " \"[S+]\"\n",
       " \"[S-]\"\n",
       " \"[Se]\"\n",
       " \"[Si]\"\n",
       " \"[Zn+2]\"\n",
       " \"\\\\\""
      ]
     },
     "execution_count": 17,
     "metadata": {},
     "output_type": "execute_result"
    }
   ],
   "source": [
    "vocab = mlt.dfToStringMatrix(mlt.getdf(joinpath(@__DIR__, \"vocab.csv\")))"
   ]
  },
  {
   "cell_type": "code",
   "execution_count": 18,
   "metadata": {},
   "outputs": [
    {
     "data": {
      "text/plain": [
       "Dict{String, Int64} with 71 entries:\n",
       "  \"1\"      => 6\n",
       "  \"[N@@+]\" => 52\n",
       "  \"[H+]\"   => 42\n",
       "  \"C\"      => 18\n",
       "  \"P\"      => 24\n",
       "  \"2\"      => 7\n",
       "  \"6\"      => 11\n",
       "  \"[C-]\"   => 32\n",
       "  \"[C@@H]\" => 33\n",
       "  \"[Hg]\"   => 44\n",
       "  \"[S-]\"   => 67\n",
       "  \"O\"      => 23\n",
       "  \"[Co+3]\" => 40\n",
       "  \"B\"      => 16\n",
       "  \"=\"      => 15\n",
       "  \"/\"      => 5\n",
       "  \".\"      => 4\n",
       "  \"Cl\"     => 19\n",
       "  \"[Pt+2]\" => 64\n",
       "  \"[C@@]\"  => 34\n",
       "  \"[Ca+2]\" => 38\n",
       "  \"[Pt]\"   => 65\n",
       "  \"7\"      => 12\n",
       "  \"[NH-]\"  => 54\n",
       "  \"#\"      => 1\n",
       "  ⋮        => ⋮"
      ]
     },
     "execution_count": 18,
     "metadata": {},
     "output_type": "execute_result"
    }
   ],
   "source": [
    "tokenizer = Dict(j => i for (i, j) in enumerate(vocab))"
   ]
  },
  {
   "cell_type": "code",
   "execution_count": null,
   "metadata": {},
   "outputs": [],
   "source": [
    "function readPyFile(path)\n",
    "    py\"\"\"\n",
    "    exec(open($(path)).read(), globals(), locals())\n",
    "    \"\"\"\n",
    "end\n",
    "\n",
    "readPyFile(\"tokenization.py\")\n",
    "return_tokens(str) = py\"return_tokens\"(str)\n",
    "# test output"
   ]
  }
 ],
 "metadata": {
  "kernelspec": {
   "display_name": "flux_kernel 1.6.6",
   "language": "julia",
   "name": "flux_kernel-1.6"
  },
  "language_info": {
   "file_extension": ".jl",
   "mimetype": "application/julia",
   "name": "julia",
   "version": "1.6.6"
  },
  "orig_nbformat": 4
 },
 "nbformat": 4,
 "nbformat_minor": 2
}
