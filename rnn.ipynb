{
 "cells": [
  {
   "cell_type": "code",
   "execution_count": 1,
   "metadata": {},
   "outputs": [],
   "source": [
    "using Flux\n",
    "using Flux.Data: DataLoader\n",
    "using PyCall\n",
    "using Plots\n",
    "using PlotThemes\n",
    "using TOML\n",
    "using Pkg\n",
    "using BSON: @save"
   ]
  },
  {
   "cell_type": "code",
   "execution_count": 2,
   "metadata": {},
   "outputs": [
    {
     "name": "stderr",
     "output_type": "stream",
     "text": [
      "\u001b[32m\u001b[1m  Activating\u001b[22m\u001b[39m environment at `C:\\Users\\nikhi\\OneDrive\\Documents\\julia\\MLTools\\Project.toml`\n"
     ]
    }
   ],
   "source": [
    "env_path = TOML.parse(read(\"mltools.toml\", String))[\"env_path\"]\n",
    "Pkg.activate(env_path)"
   ]
  },
  {
   "cell_type": "code",
   "execution_count": 3,
   "metadata": {},
   "outputs": [],
   "source": [
    "import MLTools as mlt"
   ]
  },
  {
   "cell_type": "code",
   "execution_count": 4,
   "metadata": {},
   "outputs": [
    {
     "data": {
      "text/html": [
       "<div>\n",
       "<style scoped>\n",
       "    .dataframe tbody tr th:only-of-type {\n",
       "        vertical-align: middle;\n",
       "    }\n",
       "\n",
       "    .dataframe tbody tr th {\n",
       "        vertical-align: top;\n",
       "    }\n",
       "\n",
       "    .dataframe thead th {\n",
       "        text-align: right;\n",
       "    }\n",
       "</style>\n",
       "<table border=\"1\" class=\"dataframe\">\n",
       "  <thead>\n",
       "    <tr style=\"text-align: right;\">\n",
       "      <th></th>\n",
       "      <th>PUBCHEM_EXT_DATASOURCE_SMILES</th>\n",
       "      <th>PUBCHEM_ACTIVITY_OUTCOME</th>\n",
       "    </tr>\n",
       "  </thead>\n",
       "  <tbody>\n",
       "    <tr>\n",
       "      <th>0</th>\n",
       "      <td>COC1=C(C=C(C=C1)C2=C(NC(=C2C(=O)C3=CC=C(C=C3)B...</td>\n",
       "      <td>Active</td>\n",
       "    </tr>\n",
       "    <tr>\n",
       "      <th>1</th>\n",
       "      <td>COC1=C(C=C(C=C1)C2=C(NC(=C2C(=O)C3=CC=CC=C3)N)...</td>\n",
       "      <td>Active</td>\n",
       "    </tr>\n",
       "    <tr>\n",
       "      <th>2</th>\n",
       "      <td>C1CN(CCN1)C(=O)C2=C(SC(=C2)C3=CC=CC=C3)N</td>\n",
       "      <td>Active</td>\n",
       "    </tr>\n",
       "    <tr>\n",
       "      <th>3</th>\n",
       "      <td>C1=CC=C(C=C1)C(=O)C2=C(C(=C(N2)N)C(=O)N)C3=CC=...</td>\n",
       "      <td>Active</td>\n",
       "    </tr>\n",
       "    <tr>\n",
       "      <th>4</th>\n",
       "      <td>CC1=C(C(=O)OC(C1)[C@@H](C)C2CC[C@@H]3[C@@]2(CC...</td>\n",
       "      <td>Active</td>\n",
       "    </tr>\n",
       "    <tr>\n",
       "      <th>...</th>\n",
       "      <td>...</td>\n",
       "      <td>...</td>\n",
       "    </tr>\n",
       "    <tr>\n",
       "      <th>18229</th>\n",
       "      <td>C1CN(CCC1CNC(=O)NC2=CC=CC=C2)C3=CC=C(C=C3)S(=O...</td>\n",
       "      <td>Inactive</td>\n",
       "    </tr>\n",
       "    <tr>\n",
       "      <th>18230</th>\n",
       "      <td>CN1C(=O)C(=C(N(C1=O)CC2=CC=CC=C2)N)C(=O)CN3CCOCC3</td>\n",
       "      <td>Inactive</td>\n",
       "    </tr>\n",
       "    <tr>\n",
       "      <th>18231</th>\n",
       "      <td>COC1=C(C=C(C=C1)Cl)NC(=S)NCCC2=CC=C(C=C2)S(=O)...</td>\n",
       "      <td>Inactive</td>\n",
       "    </tr>\n",
       "    <tr>\n",
       "      <th>18232</th>\n",
       "      <td>C1CN(CCN1C2=CC=C(C=C2)[N+](=O)[O-])C(=O)CN3C(=...</td>\n",
       "      <td>Inactive</td>\n",
       "    </tr>\n",
       "    <tr>\n",
       "      <th>18233</th>\n",
       "      <td>CN=C1C2=C(C3=C(N2CCN1C)C=CC(=C3)OC)C4=CC=CC=C4.Cl</td>\n",
       "      <td>Inactive</td>\n",
       "    </tr>\n",
       "  </tbody>\n",
       "</table>\n",
       "<p>18234 rows × 2 columns</p>\n",
       "</div>"
      ],
      "text/plain": [
       "PyObject                            PUBCHEM_EXT_DATASOURCE_SMILES PUBCHEM_ACTIVITY_OUTCOME\n",
       "0      COC1=C(C=C(C=C1)C2=C(NC(=C2C(=O)C3=CC=C(C=C3)B...                   Active\n",
       "1      COC1=C(C=C(C=C1)C2=C(NC(=C2C(=O)C3=CC=CC=C3)N)...                   Active\n",
       "2               C1CN(CCN1)C(=O)C2=C(SC(=C2)C3=CC=CC=C3)N                   Active\n",
       "3      C1=CC=C(C=C1)C(=O)C2=C(C(=C(N2)N)C(=O)N)C3=CC=...                   Active\n",
       "4      CC1=C(C(=O)OC(C1)[C@@H](C)C2CC[C@@H]3[C@@]2(CC...                   Active\n",
       "...                                                  ...                      ...\n",
       "18229  C1CN(CCC1CNC(=O)NC2=CC=CC=C2)C3=CC=C(C=C3)S(=O...                 Inactive\n",
       "18230  CN1C(=O)C(=C(N(C1=O)CC2=CC=CC=C2)N)C(=O)CN3CCOCC3                 Inactive\n",
       "18231  COC1=C(C=C(C=C1)Cl)NC(=S)NCCC2=CC=C(C=C2)S(=O)...                 Inactive\n",
       "18232  C1CN(CCN1C2=CC=C(C=C2)[N+](=O)[O-])C(=O)CN3C(=...                 Inactive\n",
       "18233  CN=C1C2=C(C3=C(N2CCN1C)C=CC(=C3)OC)C4=CC=CC=C4.Cl                 Inactive\n",
       "\n",
       "[18234 rows x 2 columns]"
      ]
     },
     "execution_count": 4,
     "metadata": {},
     "output_type": "execute_result"
    }
   ],
   "source": [
    "df = mlt.getdf(joinpath(@__DIR__, \"filtered_dataset.csv\"))"
   ]
  },
  {
   "cell_type": "code",
   "execution_count": 5,
   "metadata": {},
   "outputs": [
    {
     "data": {
      "text/plain": [
       "18234×2 Matrix{String}:\n",
       " \"COC1=C(C=C(C=C1)C2=C(NC(=C2C(=O)C3=CC=C(C=C3)Br)N)C(=O)C4=CC=CC=C4)OC\"                                                         …  \"Active\"\n",
       " \"COC1=C(C=C(C=C1)C2=C(NC(=C2C(=O)C3=CC=CC=C3)N)C(=O)C4=CC=CC=C4)OC\"                                                                \"Active\"\n",
       " \"C1CN(CCN1)C(=O)C2=C(SC(=C2)C3=CC=CC=C3)N\"                                                                                         \"Active\"\n",
       " \"C1=CC=C(C=C1)C(=O)C2=C(C(=C(N2)N)C(=O)N)C3=CC=CC=C3Br\"                                                                            \"Active\"\n",
       " \"CC1=C(C(=O)OC(C1)[C@@H](C)C2CC[C@@H]3[C@@]2(CCC4C3C[C@@H]5[C@]6([C@@]4(C(=O)C=C[C@@H]6O)C)O5)C)CO\"                                \"Active\"\n",
       " \"CC1CCC/C=C/C(=O)C2=C(CC(=O)O1)C=C(C=C2O)O\"                                                                                     …  \"Active\"\n",
       " \"CC1C2C(NC(=O)C23C(/C=C(/CCC(C(/C=C/C3=O)O)O)\\\\C)C=C1C)CC(C)C\"                                                                     \"Active\"\n",
       " \"C1=CC(=CC=C1C2=CC(=O)C3=C(O2)C=C(C(=C3O)C4C(C(C(C(O4)CO)O)O)O)O)O\"                                                                \"Active\"\n",
       " \"C[C@H]\\\\1C/C=C/[C@H]2[C@H]3[C@](O3)([C@H]([C@@H]4[C@@]2(C(=O)/C=C/C(=O)[C@@H](/C(=C1)/C)O)C(=O)N[C@H]4CC5=CNC6=CC=CC=C65)C)C\"     \"Active\"\n",
       " \"CC1(C2CCC1(C(C2)OC(=O)/C=C/C3=CC(=C(C=C3)O)OC)C)C\"                                                                                \"Active\"\n",
       " \"CC1=CC(=CC(=C1)CC2CC(=O)N(C2=O)C3=C(C=CC(=C3)OC)OC)C\"                                                                          …  \"Active\"\n",
       " \"CC1=CC2=C(C=C1)NC(=O)C(=C2)CN(CCCO)S(=O)(=O)C3=CC=CC4=NSN=C43\"                                                                    \"Active\"\n",
       " \"C1=CC=C(C(=C1)NC2=C(C3=NON=C3C(=C2)Cl)[N+](=O)[O-])O\"                                                                             \"Active\"\n",
       " ⋮                                                                                                                               ⋱  \n",
       " \"CC(C)(C#CC1=C(OC2=CC=CC=C21)C3=CC=C(C=C3)OC)O\"                                                                                    \"Inactive\"\n",
       " \"CCOC(=O)C1=C(NC(=O)NC1C)COC(=O)C2=C(C3=CC=CC=C3C=C2)O\"                                                                            \"Inactive\"\n",
       " \"C1COCCN1C2=NN(C=C2C3=CC=CC=N3)C(=O)NC4=CC=CC=C4\"                                                                                  \"Inactive\"\n",
       " \"COCCCN1C(=CC2=C1N=C3C=CC=CN3C2=O)C(=O)NCCN4CCOCC4\"                                                                             …  \"Inactive\"\n",
       " \"C1=CC(=CC=C1C2=NN=CO2)OC3=NC=CN=C3\"                                                                                               \"Inactive\"\n",
       " \"CC1(C2CCC1(C(C2)OC(=O)CSC3=NC(=CC(=O)N3)N)C)C\"                                                                                    \"Inactive\"\n",
       " \"C1CN(CCN1C2=CC=C(C=C2)F)C(=O)C(CC3=CC=CC=C3)NC(=O)C4=CC=CC=C4\"                                                                    \"Inactive\"\n",
       " \"C1CN(CCC1CNC(=O)NC2=CC=CC=C2)C3=CC=C(C=C3)S(=O)(=O)N4CCOCC4\"                                                                      \"Inactive\"\n",
       " \"CN1C(=O)C(=C(N(C1=O)CC2=CC=CC=C2)N)C(=O)CN3CCOCC3\"                                                                             …  \"Inactive\"\n",
       " \"COC1=C(C=C(C=C1)Cl)NC(=S)NCCC2=CC=C(C=C2)S(=O)(=O)N\"                                                                              \"Inactive\"\n",
       " \"C1CN(CCN1C2=CC=C(C=C2)[N+](=O)[O-])C(=O)CN3C(=O)C4CC=CCC4C3=O\"                                                                    \"Inactive\"\n",
       " \"CN=C1C2=C(C3=C(N2CCN1C)C=CC(=C3)OC)C4=CC=CC=C4.Cl\"                                                                                \"Inactive\""
      ]
     },
     "execution_count": 5,
     "metadata": {},
     "output_type": "execute_result"
    }
   ],
   "source": [
    "smiles = mlt.dfToStringMatrix(df)"
   ]
  },
  {
   "cell_type": "code",
   "execution_count": 6,
   "metadata": {},
   "outputs": [
    {
     "data": {
      "text/plain": [
       "71×1 Matrix{String}:\n",
       " \"#\"\n",
       " \"(\"\n",
       " \")\"\n",
       " \".\"\n",
       " \"/\"\n",
       " \"1\"\n",
       " \"2\"\n",
       " \"3\"\n",
       " \"4\"\n",
       " \"5\"\n",
       " \"6\"\n",
       " \"7\"\n",
       " \"8\"\n",
       " ⋮\n",
       " \"[Nd+3]\"\n",
       " \"[O-]\"\n",
       " \"[OH-]\"\n",
       " \"[P+]\"\n",
       " \"[Pt+2]\"\n",
       " \"[Pt]\"\n",
       " \"[S+]\"\n",
       " \"[S-]\"\n",
       " \"[Se]\"\n",
       " \"[Si]\"\n",
       " \"[Zn+2]\"\n",
       " \"\\\\\""
      ]
     },
     "execution_count": 6,
     "metadata": {},
     "output_type": "execute_result"
    }
   ],
   "source": [
    "vocab = mlt.dfToStringMatrix(mlt.getdf(joinpath(@__DIR__, \"vocab.csv\")))"
   ]
  },
  {
   "cell_type": "code",
   "execution_count": 23,
   "metadata": {},
   "outputs": [
    {
     "data": {
      "text/plain": [
       "Dict{Int64, String} with 71 entries:\n",
       "  5  => \"/\"\n",
       "  56 => \"[NH3+]\"\n",
       "  16 => \"B\"\n",
       "  35 => \"[C@H]\"\n",
       "  55 => \"[NH2+]\"\n",
       "  20 => \"F\"\n",
       "  60 => \"[Nd+3]\"\n",
       "  30 => \"[Ba+2]\"\n",
       "  19 => \"Cl\"\n",
       "  32 => \"[C-]\"\n",
       "  49 => \"[N+]\"\n",
       "  6  => \"1\"\n",
       "  67 => \"[S-]\"\n",
       "  45 => \"[I-]\"\n",
       "  44 => \"[Hg]\"\n",
       "  9  => \"4\"\n",
       "  31 => \"[Br-]\"\n",
       "  64 => \"[Pt+2]\"\n",
       "  61 => \"[O-]\"\n",
       "  29 => \"[B-]\"\n",
       "  46 => \"[K+]\"\n",
       "  57 => \"[NH4+]\"\n",
       "  70 => \"[Zn+2]\"\n",
       "  4  => \".\"\n",
       "  13 => \"8\"\n",
       "  ⋮  => ⋮"
      ]
     },
     "execution_count": 23,
     "metadata": {},
     "output_type": "execute_result"
    }
   ],
   "source": [
    "tokenizer = Dict(j => i for (i, j) in enumerate(vocab))\n",
    "reverse_tokenizer = Dict(value => key for (key, value) in tokenizer)"
   ]
  },
  {
   "cell_type": "code",
   "execution_count": 8,
   "metadata": {},
   "outputs": [
    {
     "data": {
      "text/plain": [
       "return_tokens (generic function with 1 method)"
      ]
     },
     "execution_count": 8,
     "metadata": {},
     "output_type": "execute_result"
    }
   ],
   "source": [
    "function readPyFile(path)\n",
    "    py\"\"\"\n",
    "    exec(open($(path)).read(), globals(), locals())\n",
    "    \"\"\"\n",
    "end\n",
    "\n",
    "readPyFile(\"tokenization.py\")\n",
    "return_tokens(str) = py\"return_tokens\"(str)"
   ]
  },
  {
   "cell_type": "code",
   "execution_count": 35,
   "metadata": {},
   "outputs": [],
   "source": [
    "strings = [[tokenizer[j] for j in return_tokens(i)[begin]] for i in smiles[:, begin]]\n",
    "activity = [i == \"Active\" ? 1 : 0 for i in smiles[:, end]]\n",
    "\n",
    "@assert size(strings) == size(activity) "
   ]
  },
  {
   "cell_type": "code",
   "execution_count": 21,
   "metadata": {},
   "outputs": [
    {
     "data": {
      "text/plain": [
       "49.81024459800373"
      ]
     },
     "execution_count": 21,
     "metadata": {},
     "output_type": "execute_result"
    }
   ],
   "source": [
    "sum(length.(strings))/length(strings)"
   ]
  },
  {
   "cell_type": "code",
   "execution_count": 33,
   "metadata": {},
   "outputs": [
    {
     "data": {
      "text/plain": [
       "\"COC1=C(C=C(C=C1)C2=C(NC(=C2C(=O)C3=CC=C(C=C3)Br)N)C(=O)C4=CC=CC=C4)OC\""
      ]
     },
     "execution_count": 33,
     "metadata": {},
     "output_type": "execute_result"
    }
   ],
   "source": [
    "test_tokens = [reverse_tokenizer[i] for i in strings[begin]]\n",
    "test_string = \"\"\n",
    "for i in test_tokens\n",
    "    test_string *= i \n",
    "end\n",
    "\n",
    "test_string"
   ]
  },
  {
   "attachments": {},
   "cell_type": "markdown",
   "metadata": {},
   "source": [
    "https://fluxml.ai/Flux.jl/v0.2/examples/char-rnn.html\n",
    "\n",
    "could potentially use smiles enumeration for data augmentation during training"
   ]
  }
 ],
 "metadata": {
  "kernelspec": {
   "display_name": "flux_kernel 1.6.6",
   "language": "julia",
   "name": "flux_kernel-1.6"
  },
  "language_info": {
   "file_extension": ".jl",
   "mimetype": "application/julia",
   "name": "julia",
   "version": "1.6.6"
  },
  "orig_nbformat": 4
 },
 "nbformat": 4,
 "nbformat_minor": 2
}
