{
 "cells": [
  {
   "cell_type": "code",
   "execution_count": 1,
   "metadata": {},
   "outputs": [],
   "source": [
    "using Flux\n",
    "using Flux.Data: DataLoader\n",
    "# using CUDA\n",
    "using PyCall\n",
    "using TOML\n",
    "using CSV\n",
    "using DataFrames\n",
    "# using DataSets\n",
    "using JLD\n",
    "using DelimitedFiles\n",
    "# using Plots\n",
    "# using PlotThemes\n",
    "using BSON: @save"
   ]
  },
  {
   "cell_type": "code",
   "execution_count": 2,
   "metadata": {},
   "outputs": [],
   "source": [
    "# full_vocab = open(Vector{UInt8}, dataset(\"NikhilMukraj/smiles_vocab\")) do buf\n",
    "#     CSV.read(buf, DataFrame)\n",
    "# end\n",
    "\n",
    "# vocab = Matrix(full_vocab)\n",
    "\n",
    "# buf = open(Vector{UInt8}, dataset(\"NikhilMukraj/preprocessed_d3_activity\"))\n",
    "# open(\"data.jld\", \"w\") do f\n",
    "#     write(f, buf)\n",
    "# end"
   ]
  },
  {
   "cell_type": "code",
   "execution_count": 3,
   "metadata": {},
   "outputs": [
    {
     "data": {
      "text/plain": [
       "71-element Vector{String7}:\n",
       " \"#\"\n",
       " \"(\"\n",
       " \")\"\n",
       " \".\"\n",
       " \"/\"\n",
       " \"1\"\n",
       " \"2\"\n",
       " \"3\"\n",
       " \"4\"\n",
       " \"5\"\n",
       " \"6\"\n",
       " \"7\"\n",
       " \"8\"\n",
       " ⋮\n",
       " \"[Nd+3]\"\n",
       " \"[O-]\"\n",
       " \"[OH-]\"\n",
       " \"[P+]\"\n",
       " \"[Pt+2]\"\n",
       " \"[Pt]\"\n",
       " \"[S+]\"\n",
       " \"[S-]\"\n",
       " \"[Se]\"\n",
       " \"[Si]\"\n",
       " \"[Zn+2]\"\n",
       " \"\\\\\""
      ]
     },
     "execution_count": 3,
     "metadata": {},
     "output_type": "execute_result"
    }
   ],
   "source": [
    "vocab = CSV.read(\"vocab.csv\", DataFrame).tokens"
   ]
  },
  {
   "cell_type": "code",
   "execution_count": 4,
   "metadata": {},
   "outputs": [
    {
     "data": {
      "text/plain": [
       "Dict{String, Any} with 2 entries:\n",
       "  \"Y\" => Float32[1.0 0.0; 1.0 0.0; … ; 0.0 1.0; 0.0 1.0]\n",
       "  \"X\" => [[1.0 0.0 … 0.0 0.0; 1.0 0.0 … 0.0 0.0; … ; 0.0 0.0 … 0.0 0.0; 0.0 0.0…"
      ]
     },
     "execution_count": 4,
     "metadata": {},
     "output_type": "execute_result"
    }
   ],
   "source": [
    "data = load(\"data.jld\")"
   ]
  },
  {
   "cell_type": "code",
   "execution_count": 5,
   "metadata": {},
   "outputs": [
    {
     "data": {
      "text/plain": [
       "18234×2 Matrix{Float32}:\n",
       " 1.0  0.0\n",
       " 1.0  0.0\n",
       " 1.0  0.0\n",
       " 1.0  0.0\n",
       " 1.0  0.0\n",
       " 1.0  0.0\n",
       " 1.0  0.0\n",
       " 1.0  0.0\n",
       " 1.0  0.0\n",
       " 1.0  0.0\n",
       " 1.0  0.0\n",
       " 1.0  0.0\n",
       " 1.0  0.0\n",
       " ⋮    \n",
       " 0.0  1.0\n",
       " 0.0  1.0\n",
       " 0.0  1.0\n",
       " 0.0  1.0\n",
       " 0.0  1.0\n",
       " 0.0  1.0\n",
       " 0.0  1.0\n",
       " 0.0  1.0\n",
       " 0.0  1.0\n",
       " 0.0  1.0\n",
       " 0.0  1.0\n",
       " 0.0  1.0"
      ]
     },
     "execution_count": 5,
     "metadata": {},
     "output_type": "execute_result"
    }
   ],
   "source": [
    "X = data[\"X\"]\n",
    "Y = data[\"Y\"]"
   ]
  },
  {
   "cell_type": "code",
   "execution_count": 6,
   "metadata": {},
   "outputs": [
    {
     "data": {
      "text/plain": [
       "trainTestSplit (generic function with 1 method)"
      ]
     },
     "execution_count": 6,
     "metadata": {},
     "output_type": "execute_result"
    }
   ],
   "source": [
    "function trainTestSplit(X, Y; percent_train=.7, add_transpose=false)\n",
    "    @assert size(X)[begin] == size(Y)[begin]\n",
    "\n",
    "    train_length = floor(Int, size(X)[begin] * percent_train)\n",
    "\n",
    "    if length(size(X)) == 1\n",
    "        trainX = zeros(0,1)\n",
    "        testX = zeros(0,1)\n",
    "    else\n",
    "        trainX = zeros(0,size(X)[end])\n",
    "        testX = zeros(0,size(X)[end])\n",
    "    end\n",
    "\n",
    "    if length(size(Y)) == 1\n",
    "        trainY = zeros(0,1)\n",
    "        testY = zeros(0,1)\n",
    "    else\n",
    "        trainY = zeros(0,size(Y)[end])\n",
    "        testY = zeros(0,size(Y)[end])\n",
    "    end\n",
    "\n",
    "    indices = collect(1:size(X)[begin])\n",
    "    train_indices = []\n",
    "    \n",
    "    count = 0\n",
    "    while count < train_length\n",
    "        idx = rand(1:length(indices))\n",
    "        push!(train_indices, indices[idx])\n",
    "        deleteat!(indices, idx)\n",
    "        count += 1\n",
    "    end\n",
    "\n",
    "    for i in train_indices\n",
    "        trainX = vcat(trainX, X[i, :]')\n",
    "        trainY = vcat(trainY, Y[i, :]')\n",
    "    end\n",
    "\n",
    "    for i in indices\n",
    "        testX = vcat(testX, X[i, :]')\n",
    "        testY = vcat(testY, Y[i, :]')\n",
    "    end\n",
    "\n",
    "    if add_transpose\n",
    "        trainX = trainX'\n",
    "        trainY = trainY'\n",
    "\n",
    "        testX = testX'\n",
    "        testY = testY'\n",
    "    end\n",
    "\n",
    "    return trainX, trainY, testX, testY\n",
    "end"
   ]
  },
  {
   "cell_type": "code",
   "execution_count": 49,
   "metadata": {},
   "outputs": [
    {
     "data": {
      "text/plain": [
       "190×72 Matrix{Float64}:\n",
       " 1.0  0.0  0.0  0.0  0.0  0.0  0.0  0.0  …  0.0  0.0  0.0  0.0  0.0  0.0  0.0\n",
       " 1.0  0.0  0.0  0.0  0.0  0.0  0.0  0.0     0.0  0.0  0.0  0.0  0.0  0.0  0.0\n",
       " 1.0  0.0  0.0  0.0  0.0  0.0  0.0  0.0     0.0  0.0  0.0  0.0  0.0  0.0  0.0\n",
       " 1.0  0.0  0.0  0.0  0.0  0.0  0.0  0.0     0.0  0.0  0.0  0.0  0.0  0.0  0.0\n",
       " 1.0  0.0  0.0  0.0  0.0  0.0  0.0  0.0     0.0  0.0  0.0  0.0  0.0  0.0  0.0\n",
       " 1.0  0.0  0.0  0.0  0.0  0.0  0.0  0.0  …  0.0  0.0  0.0  0.0  0.0  0.0  0.0\n",
       " 1.0  0.0  0.0  0.0  0.0  0.0  0.0  0.0     0.0  0.0  0.0  0.0  0.0  0.0  0.0\n",
       " 1.0  0.0  0.0  0.0  0.0  0.0  0.0  0.0     0.0  0.0  0.0  0.0  0.0  0.0  0.0\n",
       " 1.0  0.0  0.0  0.0  0.0  0.0  0.0  0.0     0.0  0.0  0.0  0.0  0.0  0.0  0.0\n",
       " 1.0  0.0  0.0  0.0  0.0  0.0  0.0  0.0     0.0  0.0  0.0  0.0  0.0  0.0  0.0\n",
       " 1.0  0.0  0.0  0.0  0.0  0.0  0.0  0.0  …  0.0  0.0  0.0  0.0  0.0  0.0  0.0\n",
       " 1.0  0.0  0.0  0.0  0.0  0.0  0.0  0.0     0.0  0.0  0.0  0.0  0.0  0.0  0.0\n",
       " 1.0  0.0  0.0  0.0  0.0  0.0  0.0  0.0     0.0  0.0  0.0  0.0  0.0  0.0  0.0\n",
       " ⋮                        ⋮              ⋱  ⋮                        ⋮    \n",
       " 0.0  0.0  0.0  0.0  0.0  0.0  0.0  0.0     0.0  0.0  0.0  0.0  0.0  0.0  0.0\n",
       " 0.0  0.0  0.0  0.0  0.0  0.0  0.0  0.0     0.0  0.0  0.0  0.0  0.0  0.0  0.0\n",
       " 0.0  0.0  0.0  0.0  0.0  0.0  0.0  0.0  …  0.0  0.0  0.0  0.0  0.0  0.0  0.0\n",
       " 0.0  0.0  0.0  0.0  0.0  0.0  0.0  0.0     0.0  0.0  0.0  0.0  0.0  0.0  0.0\n",
       " 0.0  0.0  0.0  0.0  0.0  0.0  0.0  0.0     0.0  0.0  0.0  0.0  0.0  0.0  0.0\n",
       " 0.0  0.0  0.0  0.0  0.0  0.0  0.0  0.0     0.0  0.0  0.0  0.0  0.0  0.0  0.0\n",
       " 0.0  0.0  0.0  0.0  0.0  0.0  0.0  0.0     0.0  0.0  0.0  0.0  0.0  0.0  0.0\n",
       " 0.0  0.0  0.0  0.0  0.0  0.0  0.0  0.0  …  0.0  0.0  0.0  0.0  0.0  0.0  0.0\n",
       " 0.0  0.0  0.0  0.0  0.0  0.0  0.0  0.0     0.0  0.0  0.0  0.0  0.0  0.0  0.0\n",
       " 0.0  0.0  0.0  1.0  0.0  0.0  0.0  0.0     0.0  0.0  0.0  0.0  0.0  0.0  0.0\n",
       " 0.0  0.0  0.0  0.0  0.0  0.0  0.0  0.0     0.0  0.0  0.0  0.0  0.0  0.0  0.0\n",
       " 0.0  0.0  0.0  0.0  0.0  0.0  0.0  0.0     0.0  0.0  0.0  0.0  0.0  0.0  0.0"
      ]
     },
     "execution_count": 49,
     "metadata": {},
     "output_type": "execute_result"
    }
   ],
   "source": [
    "trainX[begin]\n",
    "X[begin]"
   ]
  },
  {
   "cell_type": "code",
   "execution_count": 7,
   "metadata": {},
   "outputs": [
    {
     "data": {
      "text/plain": [
       "((16410, 1), (16410, 2), (1824, 1), (1824, 2))"
      ]
     },
     "execution_count": 7,
     "metadata": {},
     "output_type": "execute_result"
    }
   ],
   "source": [
    "trainX, trainY, testX, testY = trainTestSplit(X, Y, percent_train=.9)\n",
    "size(trainX), size(trainY), size(testX), size(testY)"
   ]
  },
  {
   "cell_type": "code",
   "execution_count": 8,
   "metadata": {},
   "outputs": [
    {
     "data": {
      "text/plain": [
       "1824×2 Matrix{Float32}:\n",
       " 1.0  0.0\n",
       " 1.0  0.0\n",
       " 1.0  0.0\n",
       " 1.0  0.0\n",
       " 1.0  0.0\n",
       " 1.0  0.0\n",
       " 1.0  0.0\n",
       " 1.0  0.0\n",
       " 1.0  0.0\n",
       " 1.0  0.0\n",
       " 1.0  0.0\n",
       " 1.0  0.0\n",
       " 1.0  0.0\n",
       " ⋮    \n",
       " 0.0  1.0\n",
       " 0.0  1.0\n",
       " 0.0  1.0\n",
       " 0.0  1.0\n",
       " 0.0  1.0\n",
       " 0.0  1.0\n",
       " 0.0  1.0\n",
       " 0.0  1.0\n",
       " 0.0  1.0\n",
       " 0.0  1.0\n",
       " 0.0  1.0\n",
       " 0.0  1.0"
      ]
     },
     "execution_count": 8,
     "metadata": {},
     "output_type": "execute_result"
    }
   ],
   "source": [
    "trainX = convert.(Matrix{Float32}, trainX)\n",
    "trainY = convert(Matrix{Float32}, Float32.(trainY))\n",
    "testX = convert.(Matrix{Float32}, testX)\n",
    "testY = convert(Matrix{Float32}, Float32.(testY))"
   ]
  },
  {
   "cell_type": "code",
   "execution_count": 9,
   "metadata": {},
   "outputs": [
    {
     "data": {
      "text/plain": [
       "2×1824 adjoint(::Matrix{Float32}) with eltype Float32:\n",
       " 1.0  1.0  1.0  1.0  1.0  1.0  1.0  1.0  …  0.0  0.0  0.0  0.0  0.0  0.0  0.0\n",
       " 0.0  0.0  0.0  0.0  0.0  0.0  0.0  0.0     1.0  1.0  1.0  1.0  1.0  1.0  1.0"
      ]
     },
     "execution_count": 9,
     "metadata": {},
     "output_type": "execute_result"
    }
   ],
   "source": [
    "trainX = reshape(trainX, 1, size(trainX)[begin])\n",
    "trainY = trainY'\n",
    "testX = reshape(testX, 1, size(testX)[begin])\n",
    "testY = testY'"
   ]
  },
  {
   "cell_type": "code",
   "execution_count": 10,
   "metadata": {},
   "outputs": [
    {
     "data": {
      "text/plain": [
       "Chain(\n",
       "  Recur(\n",
       "    LSTMCell(72 => 128),                \u001b[90m# 103_168 parameters\u001b[39m\n",
       "  ),\n",
       "  NNlib.relu,\n",
       "  Recur(\n",
       "    LSTMCell(128 => 16),                \u001b[90m# 9_312 parameters\u001b[39m\n",
       "  ),\n",
       "  NNlib.relu,\n",
       "  Dense(16 => 2),                       \u001b[90m# 34 parameters\u001b[39m\n",
       "  NNlib.softmax,\n",
       ") \u001b[90m        # Total: 12 trainable arrays, \u001b[39m112_514 parameters,\n",
       "\u001b[90m          # plus 4 non-trainable, 288 parameters, summarysize \u001b[39m440.305 KiB."
      ]
     },
     "execution_count": 10,
     "metadata": {},
     "output_type": "execute_result"
    }
   ],
   "source": [
    "N = length(vocab) + 1\n",
    "\n",
    "model = Chain(\n",
    "    LSTM(N, 128), relu,\n",
    "    LSTM(128, 16), relu,\n",
    "    Dense(16, 2), softmax\n",
    ") # |> gpu"
   ]
  },
  {
   "cell_type": "code",
   "execution_count": 11,
   "metadata": {},
   "outputs": [
    {
     "data": {
      "text/plain": [
       "gpu_loss (generic function with 1 method)"
      ]
     },
     "execution_count": 11,
     "metadata": {},
     "output_type": "execute_result"
    }
   ],
   "source": [
    "function eval_model(x)    \n",
    "    out = model(x)[:, end]\n",
    "    Flux.reset!(model)\n",
    "\n",
    "    return out'\n",
    "end\n",
    "\n",
    "function vcatTranspose(x)\n",
    "    temp_matrix = Matrix{Float32}(undef, 0, size(x[begin])[end])\n",
    "\n",
    "    for i in x \n",
    "        temp_matrix = vcat(temp_matrix, i)\n",
    "    end\n",
    "\n",
    "    return temp_matrix\n",
    "end\n",
    "\n",
    "function gpu_vcat(x)\n",
    "    mat = zeros(size(x)[end], 2) |> gpu\n",
    "    for i = 1:length(x)\n",
    "        @inbounds mat[i, :] = Matrix(x[i])\n",
    "    end\n",
    "    \n",
    "    return mat\n",
    "end\n",
    "\n",
    "function loss(x, y)\n",
    "    pred = eval_model.(x)\n",
    "    pred = vcatTranspose(pred)\n",
    "\n",
    "    return Flux.crossentropy(pred', y)\n",
    "end\n",
    "\n",
    "function gpu_loss(x, y)\n",
    "    pred = gpu_vcat(eval_model.(x))'\n",
    "\n",
    "    return Flux.crossentropy(pred, y)\n",
    "end"
   ]
  },
  {
   "cell_type": "code",
   "execution_count": 31,
   "metadata": {},
   "outputs": [
    {
     "data": {
      "text/plain": [
       "gpu_acc (generic function with 1 method)"
      ]
     },
     "execution_count": 31,
     "metadata": {},
     "output_type": "execute_result"
    }
   ],
   "source": [
    "function accuracy(ŷ, y)\n",
    "    # check accuracy of prediction\n",
    "    # ŷ\n",
    "    # ŷ = eval_model(x)\n",
    "    return sum(argmax.(eachrow(ŷ)) .== argmax.(eachrow(y))) / size(y)[begin]\n",
    "end\n",
    "\n",
    "function gpu_acc(ŷ, y)\n",
    "    return sum(argmax.(eachrow(ŷ)) .== argmax.(eachrow(y))) / length(y)\n",
    "end"
   ]
  },
  {
   "cell_type": "code",
   "execution_count": 38,
   "metadata": {},
   "outputs": [
    {
     "data": {
      "text/plain": [
       "Adam(0.1, (0.9, 0.999), 1.0e-8, IdDict{Any, Any}())"
      ]
     },
     "execution_count": 38,
     "metadata": {},
     "output_type": "execute_result"
    }
   ],
   "source": [
    "data = DataLoader((trainX, trainY), batchsize=32, shuffle=true)\n",
    "opt = ADAM(0.1, (0.9, 0.999))"
   ]
  },
  {
   "cell_type": "code",
   "execution_count": 20,
   "metadata": {},
   "outputs": [
    {
     "data": {
      "text/plain": [
       "100-element Vector{Float32}:\n",
       " 0.0\n",
       " 0.0\n",
       " 0.0\n",
       " 0.0\n",
       " 0.0\n",
       " 0.0\n",
       " 0.0\n",
       " 0.0\n",
       " 0.0\n",
       " 0.0\n",
       " 0.0\n",
       " 0.0\n",
       " 0.0\n",
       " ⋮\n",
       " 0.0\n",
       " 0.0\n",
       " 0.0\n",
       " 0.0\n",
       " 0.0\n",
       " 0.0\n",
       " 0.0\n",
       " 0.0\n",
       " 0.0\n",
       " 0.0\n",
       " 0.0\n",
       " 0.0"
      ]
     },
     "execution_count": 20,
     "metadata": {},
     "output_type": "execute_result"
    }
   ],
   "source": [
    "epochs = 1:100\n",
    "\n",
    "training_losses = zeros(Float32, length(epochs))\n",
    "testing_losses = zeros(Float32, length(epochs))\n",
    "training_accs = zeros(Float32, length(epochs))\n",
    "testing_accs = zeros(Float32, length(epochs))"
   ]
  },
  {
   "cell_type": "code",
   "execution_count": 42,
   "metadata": {},
   "outputs": [
    {
     "name": "stdout",
     "output_type": "stream",
     "text": [
      "Epoch: 3\n",
      "Finished train at epoch 3\n",
      "Training Accuracy: 0.499025\n",
      "Testing Accuracy: 0.50877196\n",
      "Training Loss: 0.6977161\n",
      "Testing Loss: 0.6958887\n"
     ]
    }
   ],
   "source": [
    "i = 3\n",
    "\n",
    "println(\"Epoch: $i\")\n",
    "Flux.train!(loss, Flux.params(model), data, opt)\n",
    "println(\"Finished train at epoch $i\")\n",
    "\n",
    "pred = eval_model.(trainX)\n",
    "test_pred = eval_model.(testX)\n",
    "pred = vcatTranspose(pred)\n",
    "test_pred = vcatTranspose(test_pred)\n",
    "\n",
    "training_losses[i] = Flux.crossentropy(pred', trainY)\n",
    "testing_losses[i] = Flux.crossentropy(test_pred', testY)\n",
    "\n",
    "training_accs[i] = accuracy(pred, trainY')\n",
    "testing_accs[i] = accuracy(test_pred, testY')\n",
    "\n",
    "println(\"Training Accuracy: $(training_accs[i])\")\n",
    "println(\"Testing Accuracy: $(testing_accs[i])\")\n",
    "\n",
    "println(\"Training Loss: $(training_losses[i])\")\n",
    "println(\"Testing Loss: $(testing_losses[i])\")"
   ]
  },
  {
   "cell_type": "code",
   "execution_count": 15,
   "metadata": {},
   "outputs": [
    {
     "name": "stdout",
     "output_type": "stream",
     "text": [
      "Epoch: 1\n",
      "Finished train at epoch 1\n"
     ]
    },
    {
     "ename": "LoadError",
     "evalue": "BoundsError: attempt to access Tuple{} at index [0]",
     "output_type": "error",
     "traceback": [
      "BoundsError: attempt to access Tuple{} at index [0]",
      "",
      "Stacktrace:",
      " [1] getindex(t::Tuple, i::Int64)",
      "   @ Base .\\tuple.jl:29",
      " [2] vcatTranspose(x::Matrix{Float32})",
      "   @ Main .\\In[11]:9",
      " [3] top-level scope",
      "   @ .\\In[15]:16"
     ]
    }
   ],
   "source": [
    "epochs = 1:100\n",
    "\n",
    "training_losses = zeros(Float32, length(epochs))\n",
    "testing_losses = zeros(Float32, length(epochs))\n",
    "training_accs = zeros(Float32, length(epochs))\n",
    "testing_accs = zeros(Float32, length(epochs))\n",
    "\n",
    "for i in epochs\n",
    "    println(\"Epoch: $i\")\n",
    "    Flux.train!(loss, Flux.params(model), data, opt)\n",
    "    println(\"Finished train at epoch $i\")\n",
    "\n",
    "    pred = eval_model.(trainX)\n",
    "    test_pred = eval_model.(testX)\n",
    "    pred = vcatTranspose(pred)\n",
    "    test_pred = vcatTranspose(pred)\n",
    "\n",
    "    training_losses[i] = Flux.crossentropy(pred', trainY)\n",
    "    testing_losses[i] = Flux.crossentropy(test_pred', testY)\n",
    "\n",
    "    training_accs[i] = accuracy(pred, trainY')\n",
    "    testing_accs[i] = accuracy(test_pred, testY')\n",
    "\n",
    "    println(\"Training Accuracy: $(training_accs[i])\")\n",
    "    println(\"Testing Accuracy: $(testing_accs[i])\")\n",
    "\n",
    "    println(\"Training Loss: $(training_losses[i])\")\n",
    "    println(\"Testing Loss: $(testing_losses[i])\")\n",
    "end"
   ]
  },
  {
   "cell_type": "code",
   "execution_count": 16,
   "metadata": {},
   "outputs": [
    {
     "data": {
      "text/plain": [
       "1×16410 Matrix{LinearAlgebra.Adjoint{Float32, Vector{Float32}}}:\n",
       " [0.61571 0.38429]  [0.59434 0.40566]  …  [0.59434 0.40566]"
      ]
     },
     "execution_count": 16,
     "metadata": {},
     "output_type": "execute_result"
    }
   ],
   "source": [
    "pred = eval_model.(trainX)"
   ]
  },
  {
   "cell_type": "code",
   "execution_count": null,
   "metadata": {},
   "outputs": [],
   "source": [
    "@save \"rnn.bson\" model"
   ]
  },
  {
   "cell_type": "code",
   "execution_count": null,
   "metadata": {},
   "outputs": [],
   "source": [
    "writedlm(\"training_accs.txt\", training_accs)\n",
    "writedlm(\"testing_accs.txt\", testing_accs)\n",
    "writedlm(\"training_losses.txt\", training_losses)\n",
    "writedlm(\"testing_losses.txt\", testing_losses)"
   ]
  }
 ],
 "metadata": {
  "kernelspec": {
   "display_name": "flux_kernel 1.6.6",
   "language": "julia",
   "name": "flux_kernel-1.6"
  },
  "language_info": {
   "file_extension": ".jl",
   "mimetype": "application/julia",
   "name": "julia",
   "version": "1.6.6"
  },
  "orig_nbformat": 4
 },
 "nbformat": 4,
 "nbformat_minor": 2
}
