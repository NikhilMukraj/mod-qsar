{
 "cells": [
  {
   "cell_type": "code",
   "execution_count": 4,
   "metadata": {},
   "outputs": [],
   "source": [
    "using Flux\n",
    "using Flux.Data: DataLoader\n",
    "# using CUDA\n",
    "using PyCall\n",
    "using TOML\n",
    "using CSV\n",
    "using DataFrames\n",
    "# using DataSets\n",
    "using JLD\n",
    "using DelimitedFiles\n",
    "# using Plots\n",
    "# using PlotThemes\n",
    "using BSON: @save"
   ]
  },
  {
   "cell_type": "code",
   "execution_count": 2,
   "metadata": {},
   "outputs": [
    {
     "data": {
      "text/plain": [
       "71×1 Matrix{String7}:\n",
       " \"#\"\n",
       " \"(\"\n",
       " \")\"\n",
       " \".\"\n",
       " \"/\"\n",
       " \"1\"\n",
       " \"2\"\n",
       " \"3\"\n",
       " \"4\"\n",
       " \"5\"\n",
       " ⋮\n",
       " \"[P+]\"\n",
       " \"[Pt+2]\"\n",
       " \"[Pt]\"\n",
       " \"[S+]\"\n",
       " \"[S-]\"\n",
       " \"[Se]\"\n",
       " \"[Si]\"\n",
       " \"[Zn+2]\"\n",
       " \"\\\\\""
      ]
     },
     "metadata": {},
     "output_type": "display_data"
    }
   ],
   "source": [
    "# full_vocab = open(Vector{UInt8}, dataset(\"NikhilMukraj/smiles_vocab\")) do buf\n",
    "#     CSV.read(buf, DataFrame)\n",
    "# end\n",
    "\n",
    "# vocab = Matrix(full_vocab)\n",
    "\n",
    "# buf = open(Vector{UInt8}, dataset(\"NikhilMukraj/preprocessed_d3_activity\"))\n",
    "# open(\"data.jld\", \"w\") do f\n",
    "#     write(f, buf)\n",
    "# end"
   ]
  },
  {
   "cell_type": "code",
   "execution_count": 9,
   "metadata": {},
   "outputs": [
    {
     "data": {
      "text/plain": [
       "71-element Vector{String7}:\n",
       " \"#\"\n",
       " \"(\"\n",
       " \")\"\n",
       " \".\"\n",
       " \"/\"\n",
       " \"1\"\n",
       " \"2\"\n",
       " \"3\"\n",
       " \"4\"\n",
       " \"5\"\n",
       " \"6\"\n",
       " \"7\"\n",
       " \"8\"\n",
       " ⋮\n",
       " \"[Nd+3]\"\n",
       " \"[O-]\"\n",
       " \"[OH-]\"\n",
       " \"[P+]\"\n",
       " \"[Pt+2]\"\n",
       " \"[Pt]\"\n",
       " \"[S+]\"\n",
       " \"[S-]\"\n",
       " \"[Se]\"\n",
       " \"[Si]\"\n",
       " \"[Zn+2]\"\n",
       " \"\\\\\""
      ]
     },
     "execution_count": 9,
     "metadata": {},
     "output_type": "execute_result"
    }
   ],
   "source": [
    "vocab = CSV.read(\"vocab.csv\", DataFrame).tokens"
   ]
  },
  {
   "cell_type": "code",
   "execution_count": 10,
   "metadata": {},
   "outputs": [
    {
     "data": {
      "text/plain": [
       "Dict{String, Any} with 2 entries:\n",
       "  \"Y\" => Float32[1.0 0.0; 1.0 0.0; … ; 0.0 1.0; 0.0 1.0]\n",
       "  \"X\" => [[1.0 0.0 … 0.0 0.0; 1.0 0.0 … 0.0 0.0; … ; 0.0 0.0 … 0.0 0.0; 0.0 0.0…"
      ]
     },
     "execution_count": 10,
     "metadata": {},
     "output_type": "execute_result"
    }
   ],
   "source": [
    "data = load(\"data.jld\")"
   ]
  },
  {
   "cell_type": "code",
   "execution_count": 11,
   "metadata": {},
   "outputs": [
    {
     "data": {
      "text/plain": [
       "18234×2 Matrix{Float32}:\n",
       " 1.0  0.0\n",
       " 1.0  0.0\n",
       " 1.0  0.0\n",
       " 1.0  0.0\n",
       " 1.0  0.0\n",
       " 1.0  0.0\n",
       " 1.0  0.0\n",
       " 1.0  0.0\n",
       " 1.0  0.0\n",
       " 1.0  0.0\n",
       " 1.0  0.0\n",
       " 1.0  0.0\n",
       " 1.0  0.0\n",
       " ⋮    \n",
       " 0.0  1.0\n",
       " 0.0  1.0\n",
       " 0.0  1.0\n",
       " 0.0  1.0\n",
       " 0.0  1.0\n",
       " 0.0  1.0\n",
       " 0.0  1.0\n",
       " 0.0  1.0\n",
       " 0.0  1.0\n",
       " 0.0  1.0\n",
       " 0.0  1.0\n",
       " 0.0  1.0"
      ]
     },
     "execution_count": 11,
     "metadata": {},
     "output_type": "execute_result"
    }
   ],
   "source": [
    "X = data[\"X\"]\n",
    "Y = data[\"Y\"]"
   ]
  },
  {
   "cell_type": "code",
   "execution_count": 12,
   "metadata": {},
   "outputs": [
    {
     "data": {
      "text/plain": [
       "trainTestSplit (generic function with 1 method)"
      ]
     },
     "execution_count": 12,
     "metadata": {},
     "output_type": "execute_result"
    }
   ],
   "source": [
    "function trainTestSplit(X, Y; percent_train=.7, add_transpose=false)\n",
    "    @assert size(X)[begin] == size(Y)[begin]\n",
    "\n",
    "    train_length = floor(Int, size(X)[begin] * percent_train)\n",
    "\n",
    "    if length(size(X)) == 1\n",
    "        trainX = zeros(0,1)\n",
    "        testX = zeros(0,1)\n",
    "    else\n",
    "        trainX = zeros(0,size(X)[end])\n",
    "        testX = zeros(0,size(X)[end])\n",
    "    end\n",
    "\n",
    "    if length(size(Y)) == 1\n",
    "        trainY = zeros(0,1)\n",
    "        testY = zeros(0,1)\n",
    "    else\n",
    "        trainY = zeros(0,size(Y)[end])\n",
    "        testY = zeros(0,size(Y)[end])\n",
    "    end\n",
    "\n",
    "    indices = collect(1:size(X)[begin])\n",
    "    train_indices = []\n",
    "    \n",
    "    count = 0\n",
    "    while count < train_length\n",
    "        idx = rand(1:length(indices))\n",
    "        push!(train_indices, indices[idx])\n",
    "        deleteat!(indices, idx)\n",
    "        count += 1\n",
    "    end\n",
    "\n",
    "    for i in train_indices\n",
    "        trainX = vcat(trainX, X[i, :]')\n",
    "        trainY = vcat(trainY, Y[i, :]')\n",
    "    end\n",
    "\n",
    "    for i in indices\n",
    "        testX = vcat(testX, X[i, :]')\n",
    "        testY = vcat(testY, Y[i, :]')\n",
    "    end\n",
    "\n",
    "    if add_transpose\n",
    "        trainX = trainX'\n",
    "        trainY = trainY'\n",
    "\n",
    "        testX = testX'\n",
    "        testY = testY'\n",
    "    end\n",
    "\n",
    "    return trainX, trainY, testX, testY\n",
    "end"
   ]
  },
  {
   "cell_type": "code",
   "execution_count": 13,
   "metadata": {},
   "outputs": [
    {
     "data": {
      "text/plain": [
       "((16410, 1), (16410, 2), (1824, 1), (1824, 2))"
      ]
     },
     "execution_count": 13,
     "metadata": {},
     "output_type": "execute_result"
    }
   ],
   "source": [
    "trainX, trainY, testX, testY = trainTestSplit(X, Y, percent_train=.9)\n",
    "size(trainX), size(trainY), size(testX), size(testY)"
   ]
  },
  {
   "cell_type": "code",
   "execution_count": 14,
   "metadata": {},
   "outputs": [
    {
     "data": {
      "text/plain": [
       "1824×2 Matrix{Float32}:\n",
       " 1.0  0.0\n",
       " 1.0  0.0\n",
       " 1.0  0.0\n",
       " 1.0  0.0\n",
       " 1.0  0.0\n",
       " 1.0  0.0\n",
       " 1.0  0.0\n",
       " 1.0  0.0\n",
       " 1.0  0.0\n",
       " 1.0  0.0\n",
       " 1.0  0.0\n",
       " 1.0  0.0\n",
       " 1.0  0.0\n",
       " ⋮    \n",
       " 0.0  1.0\n",
       " 0.0  1.0\n",
       " 0.0  1.0\n",
       " 0.0  1.0\n",
       " 0.0  1.0\n",
       " 0.0  1.0\n",
       " 0.0  1.0\n",
       " 0.0  1.0\n",
       " 0.0  1.0\n",
       " 0.0  1.0\n",
       " 0.0  1.0\n",
       " 0.0  1.0"
      ]
     },
     "execution_count": 14,
     "metadata": {},
     "output_type": "execute_result"
    }
   ],
   "source": [
    "trainX = convert.(Matrix{Float32}, trainX)\n",
    "trainY = convert(Matrix{Float32}, Float32.(trainY))\n",
    "testX = convert.(Matrix{Float32}, testX)\n",
    "testY = convert(Matrix{Float32}, Float32.(testY))"
   ]
  },
  {
   "cell_type": "code",
   "execution_count": 15,
   "metadata": {},
   "outputs": [
    {
     "data": {
      "text/plain": [
       "2×1824 adjoint(::Matrix{Float32}) with eltype Float32:\n",
       " 1.0  1.0  1.0  1.0  1.0  1.0  1.0  1.0  …  0.0  0.0  0.0  0.0  0.0  0.0  0.0\n",
       " 0.0  0.0  0.0  0.0  0.0  0.0  0.0  0.0     1.0  1.0  1.0  1.0  1.0  1.0  1.0"
      ]
     },
     "execution_count": 15,
     "metadata": {},
     "output_type": "execute_result"
    }
   ],
   "source": [
    "trainX = reshape(trainX, 1, size(trainX)[begin])\n",
    "trainY = trainY'\n",
    "testX = reshape(testX, 1, size(testX)[begin])\n",
    "testY = testY'"
   ]
  },
  {
   "cell_type": "code",
   "execution_count": 16,
   "metadata": {},
   "outputs": [
    {
     "data": {
      "text/plain": [
       "Chain(\n",
       "  Recur(\n",
       "    LSTMCell(72, 128),                  \u001b[90m# 103_168 parameters\u001b[39m\n",
       "  ),\n",
       "  NNlib.relu,\n",
       "  Recur(\n",
       "    LSTMCell(128, 16),                  \u001b[90m# 9_312 parameters\u001b[39m\n",
       "  ),\n",
       "  NNlib.relu,\n",
       "  Dense(16, 2),                         \u001b[90m# 34 parameters\u001b[39m\n",
       "  NNlib.softmax,\n",
       ")\u001b[90m         # Total: 12 trainable arrays, \u001b[39m112_514 parameters,\n",
       "\u001b[90m          # plus 4 non-trainable, 288 parameters, summarysize \u001b[39m440.305 KiB."
      ]
     },
     "execution_count": 16,
     "metadata": {},
     "output_type": "execute_result"
    }
   ],
   "source": [
    "N = length(vocab) + 1\n",
    "\n",
    "model = Chain(\n",
    "    LSTM(N, 128), relu,\n",
    "    LSTM(128, 16), relu,\n",
    "    Dense(16, 2), softmax\n",
    ") # |> gpu"
   ]
  },
  {
   "cell_type": "code",
   "execution_count": 17,
   "metadata": {},
   "outputs": [
    {
     "data": {
      "text/plain": [
       "gpu_loss (generic function with 1 method)"
      ]
     },
     "execution_count": 17,
     "metadata": {},
     "output_type": "execute_result"
    }
   ],
   "source": [
    "function eval_model(x)    \n",
    "    out = model(x)[:, end]\n",
    "    Flux.reset!(model)\n",
    "\n",
    "    return out'\n",
    "end\n",
    "\n",
    "function vcatTranspose(x)\n",
    "    temp_matrix = Matrix{Float32}(undef, 0, size(x[begin])[end])\n",
    "\n",
    "    for i in x \n",
    "        temp_matrix = vcat(temp_matrix, i)\n",
    "    end\n",
    "\n",
    "    return temp_matrix\n",
    "end\n",
    "\n",
    "function gpu_vcat(x)\n",
    "    mat = zeros(size(x)[end], 2) |> gpu\n",
    "    for i = 1:length(x)\n",
    "        @inbounds mat[i, :] = Matrix(x[i])\n",
    "    end\n",
    "    \n",
    "    return mat\n",
    "end\n",
    "\n",
    "function loss(x, y)\n",
    "    pred = eval_model.(x)\n",
    "    pred = vcatTranspose(pred)\n",
    "\n",
    "    return Flux.crossentropy(pred', y)\n",
    "end\n",
    "\n",
    "function gpu_loss(x, y)\n",
    "    pred = gpu_vcat(eval_model.(x))'\n",
    "\n",
    "    return Flux.crossentropy(pred, y)\n",
    "end"
   ]
  },
  {
   "cell_type": "code",
   "execution_count": 18,
   "metadata": {},
   "outputs": [
    {
     "data": {
      "text/plain": [
       "gpu_acc (generic function with 1 method)"
      ]
     },
     "execution_count": 18,
     "metadata": {},
     "output_type": "execute_result"
    }
   ],
   "source": [
    "function accuracy(ŷ, y)\n",
    "    # check accuracy of prediction\n",
    "    # ŷ\n",
    "    # ŷ = eval_model(x)\n",
    "    return sum(argmax.(ŷ) .== argmax.(y)) / length(y)\n",
    "end\n",
    "\n",
    "function gpu_acc(ŷ, y)\n",
    "    return sum(argmax.(eachrow(ŷ)) .== argmax.(eachrow(y))) / length(y)\n",
    "end"
   ]
  },
  {
   "cell_type": "code",
   "execution_count": 13,
   "metadata": {},
   "outputs": [],
   "source": [
    "# trainX = trainX |> gpu\n",
    "# trainY = trainY |> gpu\n",
    "# testX = testX |> gpu\n",
    "# testY = testY |> gpu"
   ]
  },
  {
   "cell_type": "code",
   "execution_count": 19,
   "metadata": {},
   "outputs": [
    {
     "data": {
      "text/plain": [
       "ADAM(0.001, (0.9, 0.999), 1.0e-8, IdDict{Any, Any}())"
      ]
     },
     "execution_count": 19,
     "metadata": {},
     "output_type": "execute_result"
    }
   ],
   "source": [
    "data = DataLoader((trainX, trainY), batchsize=32, shuffle=true)\n",
    "opt = ADAM(0.001, (0.9, 0.999))"
   ]
  },
  {
   "cell_type": "code",
   "execution_count": 47,
   "metadata": {},
   "outputs": [
    {
     "name": "stdout",
     "output_type": "stream",
     "text": [
      "Float32[0.0, 1.0]\n"
     ]
    }
   ],
   "source": [
    "for \n",
    "    println(j)\n",
    "    break\n",
    "end"
   ]
  },
  {
   "cell_type": "code",
   "execution_count": 95,
   "metadata": {},
   "outputs": [],
   "source": [
    "for n, batch in enumerate(data)\n",
    "    gs = []\n",
    "    xbatch = batch[begin]\n",
    "    ybatch = batch[end]\n",
    "    for (x, y) in zip(xbatch, eachrow(ybatch')) \n",
    "        Flux.reset!(model)\n",
    "        ∇ = gradient(Flux.params(model)) do\n",
    "            [model(x[:, i] |> gpu) for i in 1:size(x[:, begin:end-1])[end]]\n",
    "            Flux.crossentropy(model(x[:, end] |> gpu), y |> gpu)\n",
    "        end\n",
    "\n",
    "        push!(gs, ∇)\n",
    "    end\n",
    "\n",
    "    Flux.update!(opt, Flux.params(model), [sum(i)/length(i) for i in eachrow(gpu_vcat(gs')')])\n",
    "    println(\"Completed batch $n\")\n",
    "end\n",
    "\n",
    "# for x, y in batch \n",
    "#     ...\n",
    "# end\n",
    "\n",
    "# yes i know this is literally the same as Flux.train! but it doesnt know how to deal with\n",
    "# conversion of vectors of vectors to matrices it thinks its part of the differential but its not\n",
    "# and zygote buffers dont make sense so here we are\n",
    "\n",
    "# We take the average of the gradients of all the training examples and then use that mean gradient \n",
    "# to update our parameters. So that’s just one step of gradient descent in one epoch."
   ]
  },
  {
   "cell_type": "code",
   "execution_count": 15,
   "metadata": {},
   "outputs": [
    {
     "name": "stdout",
     "output_type": "stream",
     "text": [
      "Epoch: 1\n"
     ]
    },
    {
     "ename": "UndefVarError",
     "evalue": "UndefVarError: opt not defined",
     "output_type": "error",
     "traceback": [
      "UndefVarError: opt not defined\n",
      "\n",
      "Stacktrace:\n",
      " [1] top-level scope\n",
      "   @ ~/data/code/rnn.ipynb:10"
     ]
    }
   ],
   "source": [
    "epochs = 1:100\n",
    "\n",
    "training_losses = []\n",
    "testing_losses = []\n",
    "training_accs = []\n",
    "testing_accs = []\n",
    "\n",
    "for i in epochs\n",
    "    println(\"Epoch: $i\")\n",
    "    Flux.train!(gpu_loss, Flux.params(model), data, opt)\n",
    "    println(\"Finished train at epoch $i\")\n",
    "\n",
    "    pred = eval_model.(trainX)\n",
    "    test_pred = eval_model.(testX)\n",
    "    pred = gpu_vcat(pred)\n",
    "    test_pred = gpu_vcat(pred)\n",
    "\n",
    "    push!(training_losses, Flux.crossentropy(pred', trainY))\n",
    "    push!(testing_losses, Flux.crossentropy(test_pred', testY))\n",
    "\n",
    "    push!(training_accs, gpu_acc(pred, trainY'))\n",
    "    push!(testing_accs, gpu_acc(test_pred, testY'))\n",
    "\n",
    "    println(\"Training Accuracy: $(training_accs[i])\")\n",
    "    println(\"Testing Accuracy: $(testing_accs[i])\")\n",
    "\n",
    "    println(\"Training Loss: $(training_losses[i])\")\n",
    "    println(\"Testing Loss: $(testing_losses[i])\")\n",
    "end"
   ]
  },
  {
   "cell_type": "code",
   "execution_count": 16,
   "metadata": {},
   "outputs": [],
   "source": [
    "@save \"rnn.bson\" model"
   ]
  },
  {
   "cell_type": "code",
   "execution_count": 17,
   "metadata": {},
   "outputs": [],
   "source": [
    "writedlm(\"training_accs.txt\", training_accs)\n",
    "writedlm(\"testing_accs.txt\", testing_accs)\n",
    "writedlm(\"training_losses.txt\", training_losses)\n",
    "writedlm(\"testing_losses.txt\", testing_losses)"
   ]
  }
 ],
 "metadata": {
  "kernelspec": {
   "display_name": "Julia 1.6.6",
   "language": "julia",
   "name": "julia-1.6"
  },
  "language_info": {
   "file_extension": ".jl",
   "mimetype": "application/julia",
   "name": "julia",
   "version": "1.6.6"
  },
  "orig_nbformat": 4
 },
 "nbformat": 4,
 "nbformat_minor": 2
}
