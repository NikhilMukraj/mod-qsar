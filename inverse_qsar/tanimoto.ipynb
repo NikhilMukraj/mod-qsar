{
 "cells": [
  {
   "cell_type": "code",
   "execution_count": 43,
   "metadata": {},
   "outputs": [],
   "source": [
    "import pandas as pd\n",
    "import numpy as np\n",
    "import os\n",
    "from tqdm import tqdm\n",
    "from rdkit import DataStructs\n",
    "from rdkit.Chem.Fingerprints import FingerprintMols\n",
    "from rdkit.Chem import Descriptors\n",
    "from rdkit import Chem"
   ]
  },
  {
   "cell_type": "code",
   "execution_count": 3,
   "metadata": {},
   "outputs": [
    {
     "data": {
      "text/html": [
       "<div>\n",
       "<style scoped>\n",
       "    .dataframe tbody tr th:only-of-type {\n",
       "        vertical-align: middle;\n",
       "    }\n",
       "\n",
       "    .dataframe tbody tr th {\n",
       "        vertical-align: top;\n",
       "    }\n",
       "\n",
       "    .dataframe thead th {\n",
       "        text-align: right;\n",
       "    }\n",
       "</style>\n",
       "<table border=\"1\" class=\"dataframe\">\n",
       "  <thead>\n",
       "    <tr style=\"text-align: right;\">\n",
       "      <th></th>\n",
       "      <th>score</th>\n",
       "      <th>string</th>\n",
       "    </tr>\n",
       "  </thead>\n",
       "  <tbody>\n",
       "    <tr>\n",
       "      <th>0</th>\n",
       "      <td>-0.025151</td>\n",
       "      <td>CC1=C=CC(NC2CN(CCCC3=CC=CC(Cl)=C3)C2)CCCC1</td>\n",
       "    </tr>\n",
       "    <tr>\n",
       "      <th>1</th>\n",
       "      <td>-0.027720</td>\n",
       "      <td>C1(C2=CCN(CCCC3=CC=CC(Cl)=C3)C2)CCCC1</td>\n",
       "    </tr>\n",
       "    <tr>\n",
       "      <th>2</th>\n",
       "      <td>-0.030168</td>\n",
       "      <td>CC1(C2=CC=CC(Cl)=C2)C=CCCC1</td>\n",
       "    </tr>\n",
       "    <tr>\n",
       "      <th>3</th>\n",
       "      <td>-0.032306</td>\n",
       "      <td>ClC[NH+]1CCC(-C2CN(CCCC3=CC=CC(Cl)=C3)C2)CC1</td>\n",
       "    </tr>\n",
       "    <tr>\n",
       "      <th>4</th>\n",
       "      <td>-0.037851</td>\n",
       "      <td>CC1=CC=C=CC=CC(NC2/C(=O)N(CCCC3=CC=CC(Cl)=C3)C...</td>\n",
       "    </tr>\n",
       "    <tr>\n",
       "      <th>5</th>\n",
       "      <td>-0.042654</td>\n",
       "      <td>C[NH+]1CC=CC=C=CC(NC2/C(=O)N(CCCC3=CC=CC(Cl)=C...</td>\n",
       "    </tr>\n",
       "    <tr>\n",
       "      <th>6</th>\n",
       "      <td>-0.044624</td>\n",
       "      <td>C1(C2=CC=CC=C2)NC(=O)N(CCOC2=CCC=CC=CC(Cl)=C2)...</td>\n",
       "    </tr>\n",
       "    <tr>\n",
       "      <th>7</th>\n",
       "      <td>-0.046446</td>\n",
       "      <td>ClC[NH+]1CCC(NC2CC(=O)N(CCC3=CC(Cl)=C3)C2)CC1</td>\n",
       "    </tr>\n",
       "    <tr>\n",
       "      <th>8</th>\n",
       "      <td>-0.048542</td>\n",
       "      <td>CC1=C=CC(NC2/C(=O)N(CCCC3=CC=CC(Cl)=C3)C2)CCCC1</td>\n",
       "    </tr>\n",
       "    <tr>\n",
       "      <th>9</th>\n",
       "      <td>-0.049678</td>\n",
       "      <td>C[NH+]1CCC(NC2CC(=O)N(CCC3=CC(Cl)=C3)C2)CC1</td>\n",
       "    </tr>\n",
       "    <tr>\n",
       "      <th>10</th>\n",
       "      <td>-0.053066</td>\n",
       "      <td>C[NH+]1CC=CC(NC2/C(=O)C2)CCCN=C1</td>\n",
       "    </tr>\n",
       "    <tr>\n",
       "      <th>11</th>\n",
       "      <td>-0.053565</td>\n",
       "      <td>C1(C2=CC=CC=C2)NC(=O)N(CCOC2=CC=CC=CC(Cl)=C2)C...</td>\n",
       "    </tr>\n",
       "    <tr>\n",
       "      <th>12</th>\n",
       "      <td>-0.055288</td>\n",
       "      <td>C[NH+]1CC=CC=CC(NC2/C(=O)N(CCCC3=CC=CC(Cl)=C3)...</td>\n",
       "    </tr>\n",
       "    <tr>\n",
       "      <th>13</th>\n",
       "      <td>-0.055423</td>\n",
       "      <td>C1=CC=CC(NC2/C(=O)N(CCCC3=CC=CC(Cl)=C3)C2)CCCC1</td>\n",
       "    </tr>\n",
       "    <tr>\n",
       "      <th>14</th>\n",
       "      <td>-0.055610</td>\n",
       "      <td>ClC1C=CC=CC(=O)N(CCOC2=CC=CC=CC(Cl)=C2)CCCN=C1</td>\n",
       "    </tr>\n",
       "    <tr>\n",
       "      <th>15</th>\n",
       "      <td>-0.056117</td>\n",
       "      <td>ClC1C=C1C1(C2=CC=CC(Cl)=C2)CCC1</td>\n",
       "    </tr>\n",
       "    <tr>\n",
       "      <th>16</th>\n",
       "      <td>-0.056599</td>\n",
       "      <td>ClC1C=CC=C1C[NH+]1CC=CC(NC2/C(=O)N(CCC3=CC=CC=...</td>\n",
       "    </tr>\n",
       "    <tr>\n",
       "      <th>17</th>\n",
       "      <td>-0.056932</td>\n",
       "      <td>C[NH+]1CC=CC(NC2/C(=O)N(CCC3=CC=CC=CC(Cl)=C3)C...</td>\n",
       "    </tr>\n",
       "    <tr>\n",
       "      <th>18</th>\n",
       "      <td>-0.057202</td>\n",
       "      <td>ClCC1=CC(NC2/C(=O)N(CCCC3=CC=CC(Cl)=C3)C2)CCCC1</td>\n",
       "    </tr>\n",
       "    <tr>\n",
       "      <th>19</th>\n",
       "      <td>-0.058607</td>\n",
       "      <td>C[NH+]1CCC(NC2CC(=O)N(CCC3=CC=CC(Cl)=C3)C2)CCC...</td>\n",
       "    </tr>\n",
       "  </tbody>\n",
       "</table>\n",
       "</div>"
      ],
      "text/plain": [
       "       score                                             string\n",
       "0  -0.025151         CC1=C=CC(NC2CN(CCCC3=CC=CC(Cl)=C3)C2)CCCC1\n",
       "1  -0.027720              C1(C2=CCN(CCCC3=CC=CC(Cl)=C3)C2)CCCC1\n",
       "2  -0.030168                        CC1(C2=CC=CC(Cl)=C2)C=CCCC1\n",
       "3  -0.032306       ClC[NH+]1CCC(-C2CN(CCCC3=CC=CC(Cl)=C3)C2)CC1\n",
       "4  -0.037851  CC1=CC=C=CC=CC(NC2/C(=O)N(CCCC3=CC=CC(Cl)=C3)C...\n",
       "5  -0.042654  C[NH+]1CC=CC=C=CC(NC2/C(=O)N(CCCC3=CC=CC(Cl)=C...\n",
       "6  -0.044624  C1(C2=CC=CC=C2)NC(=O)N(CCOC2=CCC=CC=CC(Cl)=C2)...\n",
       "7  -0.046446      ClC[NH+]1CCC(NC2CC(=O)N(CCC3=CC(Cl)=C3)C2)CC1\n",
       "8  -0.048542    CC1=C=CC(NC2/C(=O)N(CCCC3=CC=CC(Cl)=C3)C2)CCCC1\n",
       "9  -0.049678        C[NH+]1CCC(NC2CC(=O)N(CCC3=CC(Cl)=C3)C2)CC1\n",
       "10 -0.053066                   C[NH+]1CC=CC(NC2/C(=O)C2)CCCN=C1\n",
       "11 -0.053565  C1(C2=CC=CC=C2)NC(=O)N(CCOC2=CC=CC=CC(Cl)=C2)C...\n",
       "12 -0.055288  C[NH+]1CC=CC=CC(NC2/C(=O)N(CCCC3=CC=CC(Cl)=C3)...\n",
       "13 -0.055423    C1=CC=CC(NC2/C(=O)N(CCCC3=CC=CC(Cl)=C3)C2)CCCC1\n",
       "14 -0.055610     ClC1C=CC=CC(=O)N(CCOC2=CC=CC=CC(Cl)=C2)CCCN=C1\n",
       "15 -0.056117                    ClC1C=C1C1(C2=CC=CC(Cl)=C2)CCC1\n",
       "16 -0.056599  ClC1C=CC=C1C[NH+]1CC=CC(NC2/C(=O)N(CCC3=CC=CC=...\n",
       "17 -0.056932  C[NH+]1CC=CC(NC2/C(=O)N(CCC3=CC=CC=CC(Cl)=C3)C...\n",
       "18 -0.057202    ClCC1=CC(NC2/C(=O)N(CCCC3=CC=CC(Cl)=C3)C2)CCCC1\n",
       "19 -0.058607  C[NH+]1CCC(NC2CC(=O)N(CCC3=CC=CC(Cl)=C3)C2)CCC..."
      ]
     },
     "execution_count": 3,
     "metadata": {},
     "output_type": "execute_result"
    }
   ],
   "source": [
    "df = pd.read_csv('generated_drugs/high_pop_test.csv')\n",
    "df"
   ]
  },
  {
   "cell_type": "code",
   "execution_count": 4,
   "metadata": {},
   "outputs": [],
   "source": [
    "mols = [Chem.MolFromSmiles(i) for i in df['string']]"
   ]
  },
  {
   "cell_type": "code",
   "execution_count": 5,
   "metadata": {},
   "outputs": [],
   "source": [
    "generated_fps = [FingerprintMols.FingerprintMol(i, minPath=1, maxPath=7, fpSize=2048, bitsPerHash=2, useHs=True, tgtDensity=0.0, minSize=128) for i in mols]"
   ]
  },
  {
   "cell_type": "code",
   "execution_count": 6,
   "metadata": {},
   "outputs": [],
   "source": [
    "# DataStructs.BulkTanimotoSimilarity(fps[0], [fps[0], fps[0]])"
   ]
  },
  {
   "cell_type": "code",
   "execution_count": 7,
   "metadata": {},
   "outputs": [],
   "source": [
    "og_df = pd.read_csv('../unused/filtered_dataset.csv', low_memory=False)"
   ]
  },
  {
   "cell_type": "code",
   "execution_count": 8,
   "metadata": {},
   "outputs": [],
   "source": [
    "og_mols = [Chem.MolFromSmiles(i) for i in og_df['PUBCHEM_EXT_DATASOURCE_SMILES']]"
   ]
  },
  {
   "cell_type": "code",
   "execution_count": 9,
   "metadata": {},
   "outputs": [
    {
     "name": "stderr",
     "output_type": "stream",
     "text": [
      "100%|██████████| 18234/18234 [00:46<00:00, 389.51it/s]\n"
     ]
    }
   ],
   "source": [
    "og_fps = [FingerprintMols.FingerprintMol(i, minPath=1, maxPath=7, fpSize=2048, bitsPerHash=2, useHs=True, tgtDensity=0.0, minSize=128) for i in tqdm(og_mols)]"
   ]
  },
  {
   "cell_type": "code",
   "execution_count": 18,
   "metadata": {},
   "outputs": [
    {
     "data": {
      "text/plain": [
       "[0.20509837417113258,\n",
       " 0.19862037132431223,\n",
       " 0.17843027853602703,\n",
       " 0.17613834927432084,\n",
       " 0.2353521941919275,\n",
       " 0.23153580135107404,\n",
       " 0.2550016527531748,\n",
       " 0.18493233549404411,\n",
       " 0.2346177504698924,\n",
       " 0.18081902553741294,\n",
       " 0.13857314436467733,\n",
       " 0.2565360312159961,\n",
       " 0.2289682813079061,\n",
       " 0.22855783399301224,\n",
       " 0.19240826867780986,\n",
       " 0.21273923811734552,\n",
       " 0.22823044048895327,\n",
       " 0.20843186518400975,\n",
       " 0.23990287082978173,\n",
       " 0.23686680993559672]"
      ]
     },
     "execution_count": 18,
     "metadata": {},
     "output_type": "execute_result"
    }
   ],
   "source": [
    "[np.average(DataStructs.BulkTanimotoSimilarity(i, og_fps)) for i in generated_fps]"
   ]
  },
  {
   "cell_type": "code",
   "execution_count": 28,
   "metadata": {},
   "outputs": [],
   "source": [
    "naive_df = pd.concat([pd.read_csv(f'./generated_drugs/{i}') for i in os.listdir('./generated_drugs/') if 'custom_lipi' in i])"
   ]
  },
  {
   "cell_type": "code",
   "execution_count": 29,
   "metadata": {},
   "outputs": [],
   "source": [
    "naive_mols = [Chem.MolFromSmiles(i) for i in naive_df['string']]"
   ]
  },
  {
   "cell_type": "code",
   "execution_count": 30,
   "metadata": {},
   "outputs": [],
   "source": [
    "naive_fps = [FingerprintMols.FingerprintMol(i, minPath=1, maxPath=7, fpSize=2048, bitsPerHash=2, useHs=True, tgtDensity=0.0, minSize=128) for i in naive_mols]"
   ]
  },
  {
   "cell_type": "code",
   "execution_count": 34,
   "metadata": {},
   "outputs": [
    {
     "data": {
      "text/plain": [
       "[(0.20153296598654852, 0),\n",
       " (0.16175403415671952, 1),\n",
       " (0.03560039907378216, 2),\n",
       " (0.2259865687539655, 3),\n",
       " (0.22864893072535805, 4),\n",
       " (0.2626413624156172, 5),\n",
       " (0.24773483027273033, 6),\n",
       " (0.3201097712814645, 7),\n",
       " (0.28188426467786, 8),\n",
       " (0.2913825062155849, 9),\n",
       " (0.2976504830493346, 10),\n",
       " (0.30723792241718983, 11),\n",
       " (0.05329304347947529, 12),\n",
       " (0.027355708615441978, 13),\n",
       " (0.1340586104697433, 14),\n",
       " (0.015452096953849812, 15),\n",
       " (0.048752687603629656, 16),\n",
       " (0.10976504364364313, 17),\n",
       " (0.053737429082165514, 18),\n",
       " (0.0613363268440576, 19),\n",
       " (0.25120019215826594, 20),\n",
       " (0.2781802069038573, 21),\n",
       " (0.023423918020319616, 22),\n",
       " (0.29503541045893517, 23),\n",
       " (0.2939376592410789, 24),\n",
       " (0.307828070649803, 25),\n",
       " (0.26125911618372133, 26),\n",
       " (0.2469799382309164, 27)]"
      ]
     },
     "execution_count": 34,
     "metadata": {},
     "output_type": "execute_result"
    }
   ],
   "source": [
    "[(np.average(DataStructs.BulkTanimotoSimilarity(i, og_fps)), n) for n, i in enumerate(naive_fps)]"
   ]
  },
  {
   "cell_type": "code",
   "execution_count": 35,
   "metadata": {},
   "outputs": [
    {
     "data": {
      "text/plain": [
       "'O=C1C=C(C2=CC=CS2)CC(C2=CC=CS2)C1N1C=NC([N+](=O)[O-])=CCC1'"
      ]
     },
     "execution_count": 35,
     "metadata": {},
     "output_type": "execute_result"
    }
   ],
   "source": [
    "naive_df['string'].iloc[7]"
   ]
  },
  {
   "cell_type": "code",
   "execution_count": 36,
   "metadata": {},
   "outputs": [],
   "source": [
    "with open('./string_ga/ZINC_first_1000.smi') as f:\n",
    "    zinc = f.read()"
   ]
  },
  {
   "cell_type": "code",
   "execution_count": 39,
   "metadata": {},
   "outputs": [],
   "source": [
    "zinc_mols = [Chem.MolFromSmiles(i) for i in zinc.split()]"
   ]
  },
  {
   "cell_type": "code",
   "execution_count": 40,
   "metadata": {},
   "outputs": [],
   "source": [
    "zinc_fps = [FingerprintMols.FingerprintMol(i, minPath=1, maxPath=7, fpSize=2048, bitsPerHash=2, useHs=True, tgtDensity=0.0, minSize=128) for i in zinc_mols]"
   ]
  },
  {
   "cell_type": "code",
   "execution_count": 41,
   "metadata": {},
   "outputs": [
    {
     "data": {
      "text/plain": [
       "[0.20527712610728632,\n",
       " 0.19808249182014168,\n",
       " 0.17632610169305388,\n",
       " 0.17710714239465658,\n",
       " 0.2371368820717831,\n",
       " 0.23256204200318376,\n",
       " 0.25229583051470045,\n",
       " 0.1913128684624799,\n",
       " 0.2369196226394575,\n",
       " 0.18811463454703223,\n",
       " 0.14349863499473672,\n",
       " 0.253811206670795,\n",
       " 0.2303500612496228,\n",
       " 0.23162480382144995,\n",
       " 0.19219361935417908,\n",
       " 0.20863028850175425,\n",
       " 0.22733440998132795,\n",
       " 0.21073077572033957,\n",
       " 0.2411473932199905,\n",
       " 0.2396645760165975]"
      ]
     },
     "execution_count": 41,
     "metadata": {},
     "output_type": "execute_result"
    }
   ],
   "source": [
    "[np.average(DataStructs.BulkTanimotoSimilarity(i, zinc_fps)) for i in generated_fps]"
   ]
  },
  {
   "cell_type": "code",
   "execution_count": 51,
   "metadata": {},
   "outputs": [
    {
     "data": {
      "text/plain": [
       "[1.2476000000000012,\n",
       " 1.2762000000000011,\n",
       " 1.1844500000000007,\n",
       " 0.7738999999999999,\n",
       " 1.212300000000001,\n",
       " 0.5068750000000002,\n",
       " 1.2882750000000012,\n",
       " 0.31832499999999986,\n",
       " 1.129250000000001,\n",
       " 0.1767000000000001,\n",
       " -0.1052499999999996,\n",
       " 1.1907500000000009,\n",
       " 0.4681000000000003,\n",
       " 1.132000000000001,\n",
       " 1.139625000000001,\n",
       " 1.1772750000000007,\n",
       " 0.9623000000000005,\n",
       " 0.5938499999999999,\n",
       " 1.145200000000001,\n",
       " 0.6216250000000001]"
      ]
     },
     "execution_count": 51,
     "metadata": {},
     "output_type": "execute_result"
    }
   ],
   "source": [
    "logps = [Descriptors.MolLogP(i) for i in mols]\n",
    "[(i - (-0.4)) / 4.0 for i in logps]"
   ]
  },
  {
   "cell_type": "code",
   "execution_count": null,
   "metadata": {},
   "outputs": [],
   "source": []
  }
 ],
 "metadata": {
  "kernelspec": {
   "display_name": "Python 3",
   "language": "python",
   "name": "python3"
  },
  "language_info": {
   "codemirror_mode": {
    "name": "ipython",
    "version": 3
   },
   "file_extension": ".py",
   "mimetype": "text/x-python",
   "name": "python",
   "nbconvert_exporter": "python",
   "pygments_lexer": "ipython3",
   "version": "3.8.10"
  },
  "orig_nbformat": 4
 },
 "nbformat": 4,
 "nbformat_minor": 2
}
