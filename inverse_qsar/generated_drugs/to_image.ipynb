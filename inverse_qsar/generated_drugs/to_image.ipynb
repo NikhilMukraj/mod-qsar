{
 "cells": [
  {
   "cell_type": "code",
   "execution_count": 1,
   "metadata": {},
   "outputs": [],
   "source": [
    "from rdkit import Chem\n",
    "from rdkit.Chem import Draw\n",
    "from IPython.display import SVG\n",
    "import pubchempy\n",
    "import matplotlib.pyplot as plt\n",
    "import pandas as pd\n",
    "import os"
   ]
  },
  {
   "cell_type": "code",
   "execution_count": 2,
   "metadata": {},
   "outputs": [],
   "source": [
    "def mol_to_img(string, name):\n",
    "    mol = Chem.MolFromSmiles(string)\n",
    "    d2d = Draw.MolDraw2DCairo(1000, 1000)\n",
    "    d2d.DrawMolecule(mol)\n",
    "    d2d.FinishDrawing()\n",
    "    png_data = d2d.GetDrawingText()\n",
    "\n",
    "    with open(f'images/{name}.png', 'wb') as png_file:\n",
    "        png_file.write(png_data)"
   ]
  },
  {
   "cell_type": "code",
   "execution_count": 3,
   "metadata": {},
   "outputs": [],
   "source": [
    "# mol_to_img('O=C(CC1=CSC(NC(=O)NC2=CC=C(Cl)C=C2)=N1)NCCC1=CC=C(Cl)C=C1', '1')"
   ]
  },
  {
   "cell_type": "code",
   "execution_count": 4,
   "metadata": {},
   "outputs": [],
   "source": [
    "files = [i for i in os.listdir() if 'round_2.csv' in i]\n",
    "df = pd.concat([pd.read_csv(i) for i in files])\n",
    "df.reset_index(drop=True, inplace=True)"
   ]
  },
  {
   "cell_type": "code",
   "execution_count": 5,
   "metadata": {},
   "outputs": [
    {
     "data": {
      "text/html": [
       "<div>\n",
       "<style scoped>\n",
       "    .dataframe tbody tr th:only-of-type {\n",
       "        vertical-align: middle;\n",
       "    }\n",
       "\n",
       "    .dataframe tbody tr th {\n",
       "        vertical-align: top;\n",
       "    }\n",
       "\n",
       "    .dataframe thead th {\n",
       "        text-align: right;\n",
       "    }\n",
       "</style>\n",
       "<table border=\"1\" class=\"dataframe\">\n",
       "  <thead>\n",
       "    <tr style=\"text-align: right;\">\n",
       "      <th></th>\n",
       "      <th>score</th>\n",
       "      <th>string</th>\n",
       "    </tr>\n",
       "  </thead>\n",
       "  <tbody>\n",
       "    <tr>\n",
       "      <th>0</th>\n",
       "      <td>-0.070728</td>\n",
       "      <td>NC(=O)CC(=O)C(NC1=CC=CC(/C2=CC=CC=C2)=C=C1)C1=...</td>\n",
       "    </tr>\n",
       "    <tr>\n",
       "      <th>1</th>\n",
       "      <td>-0.077636</td>\n",
       "      <td>NC(=O)C(NC1=CCC(OC2=CC=CC=C2)=C=C1)C1=CC=CC=C(...</td>\n",
       "    </tr>\n",
       "    <tr>\n",
       "      <th>2</th>\n",
       "      <td>-0.086932</td>\n",
       "      <td>NC(=O)C(NC1=CC=CC(OC2=CC=CC=C2)=C=C1)C1=CC=CC=...</td>\n",
       "    </tr>\n",
       "    <tr>\n",
       "      <th>3</th>\n",
       "      <td>-0.127923</td>\n",
       "      <td>O=C1NN1CCO</td>\n",
       "    </tr>\n",
       "    <tr>\n",
       "      <th>4</th>\n",
       "      <td>-0.160441</td>\n",
       "      <td>NC(=O)C(NC1=CC=CC(OC2=CC=CC=C2)=C1)C1=CC=CC=C(...</td>\n",
       "    </tr>\n",
       "  </tbody>\n",
       "</table>\n",
       "</div>"
      ],
      "text/plain": [
       "      score                                             string\n",
       "0 -0.070728  NC(=O)CC(=O)C(NC1=CC=CC(/C2=CC=CC=C2)=C=C1)C1=...\n",
       "1 -0.077636  NC(=O)C(NC1=CCC(OC2=CC=CC=C2)=C=C1)C1=CC=CC=C(...\n",
       "2 -0.086932  NC(=O)C(NC1=CC=CC(OC2=CC=CC=C2)=C=C1)C1=CC=CC=...\n",
       "3 -0.127923                                         O=C1NN1CCO\n",
       "4 -0.160441  NC(=O)C(NC1=CC=CC(OC2=CC=CC=C2)=C1)C1=CC=CC=C(..."
      ]
     },
     "execution_count": 5,
     "metadata": {},
     "output_type": "execute_result"
    }
   ],
   "source": [
    "df = df.sort_values('score', ascending=False)\n",
    "df.reset_index(drop=True, inplace=True)\n",
    "df"
   ]
  },
  {
   "cell_type": "code",
   "execution_count": 6,
   "metadata": {},
   "outputs": [],
   "source": [
    "for n, i in enumerate(df['string']):\n",
    "    mol_to_img(Chem.MolToSmiles(Chem.MolFromSmiles(i, sanitize=True)), n)"
   ]
  },
  {
   "cell_type": "code",
   "execution_count": null,
   "metadata": {},
   "outputs": [],
   "source": []
  }
 ],
 "metadata": {
  "kernelspec": {
   "display_name": "Python 3",
   "language": "python",
   "name": "python3"
  },
  "language_info": {
   "codemirror_mode": {
    "name": "ipython",
    "version": 3
   },
   "file_extension": ".py",
   "mimetype": "text/x-python",
   "name": "python",
   "nbconvert_exporter": "python",
   "pygments_lexer": "ipython3",
   "version": "3.8.10"
  },
  "orig_nbformat": 4,
  "vscode": {
   "interpreter": {
    "hash": "e49f74e46b456e49c6fe038b9d452af7a62c4b3c345dd5f08f3508413a9f0789"
   }
  }
 },
 "nbformat": 4,
 "nbformat_minor": 2
}
