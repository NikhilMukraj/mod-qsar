{
 "cells": [
  {
   "cell_type": "code",
   "execution_count": 9,
   "id": "0db355d0",
   "metadata": {},
   "outputs": [],
   "source": [
    "from rdkit import Chem\n",
    "from rdkit.Chem import Descriptors\n",
    "from rdkit.Chem import AllChem\n",
    "from rdkit.Chem import Draw\n",
    "import matplotlib.pyplot as plt\n",
    "import py3Dmol\n",
    "import numpy as np\n",
    "import pandas as pd\n",
    "import os\n",
    "# import string_crossover as co\n",
    "# import string_mutate as mu\n",
    "# import string_scoring_functions as sc\n",
    "os.environ['TF_CPP_MIN_LOG_LEVEL'] = '3' \n",
    "from tensorflow.keras import models\n",
    "from smiles_tools import return_tokens\n",
    "from c_wrapper import seqOneHot\n",
    "from ml_scorer import get_score #, ensemble_predict\n",
    "import string_ga\n",
    "import json"
   ]
  },
  {
   "cell_type": "code",
   "execution_count": 2,
   "id": "c2fa728b",
   "metadata": {},
   "outputs": [],
   "source": [
    "# need to test getting scoring function from a config file\n",
    "# probably in bash"
   ]
  },
  {
   "cell_type": "code",
   "execution_count": 2,
   "id": "1cd7118f",
   "metadata": {},
   "outputs": [],
   "source": [
    "# models_array = [models.load_model(f'{os.getcwd()}//{i}') for i in os.listdir() if '.h5' in i]\n",
    "# [model.compile() for model in models_array]\n",
    "vocab = pd.read_csv('../preprocessor/vocab.csv')['tokens'].to_list()\n",
    "tokenizer = {i : n for n, i in enumerate(vocab)}\n",
    "seq_shape = np.array([190, np.max([i+1 for i in tokenizer.values()])+1], dtype=np.int32)"
   ]
  },
  {
   "cell_type": "code",
   "execution_count": 4,
   "id": "43d77a78",
   "metadata": {},
   "outputs": [],
   "source": [
    "dopa_model = models.load_model(f'{os.getcwd()}//dopa_rnn_model.h5')\n",
    "dopa_model.compile()"
   ]
  },
  {
   "cell_type": "code",
   "execution_count": 5,
   "id": "864edfe9",
   "metadata": {},
   "outputs": [],
   "source": [
    "# def get_score_from_string(string, target):\n",
    "#     predicted = ensemble_predict(string, seq_shape, models_array, vocab=vocab, tokenizer=tokenizer)\n",
    "#     return -1 * get_score(predicted, target)"
   ]
  },
  {
   "cell_type": "code",
   "execution_count": 5,
   "id": "4135d054",
   "metadata": {},
   "outputs": [],
   "source": [
    "def pred_on_tokens(tokens, seq_shape, max_len, model, tokenizer):\n",
    "    initial_seq = np.array([tokenizer[i]+1 for i in tokens])\n",
    "    full_seq = np.hstack([np.zeros(max_len-len(initial_seq)), initial_seq])\n",
    "    full_seq = seqOneHot(np.array(full_seq, dtype=np.int32), seq_shape).reshape(1, *seq_shape)\n",
    "    \n",
    "    return model.predict(full_seq, verbose=0)"
   ]
  },
  {
   "cell_type": "code",
   "execution_count": 10,
   "id": "0fc0beb0",
   "metadata": {},
   "outputs": [],
   "source": [
    "def get_qed(string):\n",
    "    molecule = Chem.MolFromSmiles(string)\n",
    "    qed = 0\n",
    "    \n",
    "    molecular_weight = Descriptors.ExactMolWt(molecule)\n",
    "    logp = Descriptors.MolLogP(molecule)\n",
    "    h_bond_donor = Descriptors.NumHDonors(molecule)\n",
    "    h_bond_acceptors = Descriptors.NumHAcceptors(molecule)\n",
    "    rotatable_bonds = Descriptors.NumRotatableBonds(molecule)\n",
    "    num_of_rings = Chem.rdMolDescriptors.CalcNumRings(molecule)\n",
    "\n",
    "    if molecular_weight < 400:\n",
    "        qed += 1/6\n",
    "    if num_of_rings > 0:\n",
    "        qed += 1/6\n",
    "    if rotatable_bonds < 5:\n",
    "        qed += 1/6\n",
    "    if h_bond_donor <= 5:\n",
    "        qed += 1/6\n",
    "    if h_bond_acceptors <= 10:\n",
    "        qed += 1/6\n",
    "    if logp < 5:\n",
    "        qed += 1/6\n",
    "        \n",
    "    return qed"
   ]
  },
  {
   "cell_type": "code",
   "execution_count": 7,
   "id": "84373c98",
   "metadata": {},
   "outputs": [],
   "source": [
    "# pred_on_tokens(return_tokens(\"COC1=CC=C(C=C1)NC(=O)CC2=NC3=CC=CC=C3N2\", vocab)[0], seq_shape, 190, dopa_model, tokenizer)"
   ]
  },
  {
   "cell_type": "code",
   "execution_count": 32,
   "id": "6cd42417",
   "metadata": {},
   "outputs": [],
   "source": [
    "def single_score(string, model):\n",
    "    raw_return = return_tokens(string, vocab)\n",
    "    isNotValidToken = raw_return[1]\n",
    "    tokens = raw_return[0]\n",
    "    if isNotValidToken:\n",
    "        return -100\n",
    "    else:\n",
    "        pred = pred_on_tokens(tokens, seq_shape, 190, model, tokenizer)\n",
    "        qed = np.array([get_qed(string)])\n",
    "        return -1 * get_score(np.hstack([pred[0], qed]), np.array([1, 0, 1]))"
   ]
  },
  {
   "cell_type": "code",
   "execution_count": 33,
   "id": "ab7a749f",
   "metadata": {},
   "outputs": [
    {
     "data": {
      "text/plain": [
       "-0.8207349238115514"
      ]
     },
     "execution_count": 33,
     "metadata": {},
     "output_type": "execute_result"
    }
   ],
   "source": [
    "# single_score(\"COC1=CC=C(C=C1)NC(=O)CC2=NC3=CC=CC=C3N2\", dopa_model)"
   ]
  },
  {
   "cell_type": "code",
   "execution_count": null,
   "id": "4515703b",
   "metadata": {},
   "outputs": [],
   "source": [
    "# json_file_path = f'{os.getcwd()}//example.json'\n",
    "# with open(json_file_path, 'r') as j:\n",
    "#     contents = json.loads(j.read())\n",
    "    \n",
    "# (scores, population, high_scores, generation) = GA([contents['population_size'], contents['file_name'], \n",
    "#                                        contents['scoring_function'], contents['generations'],\n",
    "#                                        contents['mating_pool_size'], contents['mutation_rate'], \n",
    "#                                        contents['scoring_args'], contents['max_score'],\n",
    "#                                        contents['prune_population'], contents['seed']])"
   ]
  },
  {
   "cell_type": "code",
   "execution_count": 34,
   "id": "61561291",
   "metadata": {},
   "outputs": [],
   "source": [
    "population_size = 100 \n",
    "mating_pool_size = 100\n",
    "generations = 20\n",
    "mutation_rate = 0.01\n",
    "seed = None\n",
    "string_ga.co.average_size = 39.15\n",
    "string_ga.co.size_stdev = 3.50\n",
    "string_ga.co.string_type = 'SMILES'\n",
    "scoring_function = single_score\n",
    "max_score = 1.0 # 9999\n",
    "prune_population = True\n",
    "target = np.array([1, 0, 1, 0])\n",
    "scoring_args = dopa_model\n",
    "file_name = f'{os.getcwd()}//string_ga//ZINC_first_1000.smi'"
   ]
  },
  {
   "cell_type": "code",
   "execution_count": 35,
   "id": "b9009b07",
   "metadata": {},
   "outputs": [
    {
     "name": "stderr",
     "output_type": "stream",
     "text": [
      "100%|███████████████████████████████████████████████████████████████████████████████████| 20/20 [06:40<00:00, 20.03s/it]\n"
     ]
    }
   ],
   "source": [
    "(scores, population, high_scores, generation) = string_ga.GA([population_size, file_name, scoring_function, generations,\n",
    "                                       mating_pool_size, mutation_rate, scoring_args, max_score,\n",
    "                                       prune_population, seed])"
   ]
  },
  {
   "cell_type": "code",
   "execution_count": 36,
   "id": "b6e5b971",
   "metadata": {},
   "outputs": [],
   "source": [
    "confidence = pred_on_tokens(return_tokens(max(high_scores, key=lambda x: x[0])[1], vocab)[0], seq_shape, 190, dopa_model, tokenizer)[0][0]"
   ]
  },
  {
   "cell_type": "code",
   "execution_count": 37,
   "id": "94afb12c",
   "metadata": {},
   "outputs": [
    {
     "data": {
      "image/png": "[encoded data removed]",
      "text/plain": [
       "<Figure size 216x216 with 1 Axes>"
      ]
     },
     "metadata": {
      "needs_background": "light"
     },
     "output_type": "display_data"
    },
    {
     "data": {
      "application/3dmoljs_load.v0": "<div id=\"3dmolviewer_16772706564347038\"  style=\"position: relative; width: 200px; height: 200px\">\n        <p id=\"3dmolwarning_16772706564347038\" style=\"background-color:#ffcccc;color:black\">You appear to be running in JupyterLab (or JavaScript failed to load for some other reason).  You need to install the 3dmol extension: <br>\n        <tt>jupyter labextension install jupyterlab_3dmol</tt></p>\n        </div>\n<script>\n\nvar loadScriptAsync = function(uri){\n  return new Promise((resolve, reject) => {\n    //this is to ignore the existence of requirejs amd\n    var savedexports, savedmodule;\n    if (typeof exports !== 'undefined') savedexports = exports;\n    else exports = {}\n    if (typeof module !== 'undefined') savedmodule = module;\n    else module = {}\n\n    var tag = document.createElement('script');\n    tag.src = uri;\n    tag.async = true;\n    tag.onload = () => {\n        exports = savedexports;\n        module = savedmodule;\n        resolve();\n    };\n  var firstScriptTag = document.getElementsByTagName('script')[0];\n  firstScriptTag.parentNode.insertBefore(tag, firstScriptTag);\n});\n};\n\nif(typeof $3Dmolpromise === 'undefined') {\n$3Dmolpromise = null;\n  $3Dmolpromise = loadScriptAsync('https://cdnjs.cloudflare.com/ajax/libs/3Dmol/2.0.1/3Dmol-min.js');\n}\n\nvar viewer_16772706564347038 = null;\nvar warn = document.getElementById(\"3dmolwarning_16772706564347038\");\nif(warn) {\n    warn.parentNode.removeChild(warn);\n}\n$3Dmolpromise.then(function() {\nviewer_16772706564347038 = $3Dmol.createViewer(document.getElementById(\"3dmolviewer_16772706564347038\"),{backgroundColor:\"white\"});\nviewer_16772706564347038.zoomTo();\n\tviewer_16772706564347038.addModel(\"\\n     RDKit          2D\\n\\n 23 25  0  0  0  0  0  0  0  0999 V2000\\n    6.7500   -1.2990    0.0000 C   0  0  0  0  0  0  0  0  0  0  0  0\\n    5.2500   -1.2990    0.0000 C   0  0  0  0  0  0  0  0  0  0  0  0\\n    3.7500   -1.2990    0.0000 C   0  0  0  0  0  0  0  0  0  0  0  0\\n    3.0000    0.0000    0.0000 O   0  0  0  0  0  0  0  0  0  0  0  0\\n    1.5000    0.0000    0.0000 C   0  0  0  0  0  0  0  0  0  0  0  0\\n    0.7500   -1.2990    0.0000 C   0  0  0  0  0  0  0  0  0  0  0  0\\n   -0.7500   -1.2990    0.0000 C   0  0  0  0  0  0  0  0  0  0  0  0\\n   -1.5000    0.0000    0.0000 C   0  0  0  0  0  0  0  0  0  0  0  0\\n   -0.7500    1.2990    0.0000 C   0  0  0  0  0  0  0  0  0  0  0  0\\n    0.7500    1.2990    0.0000 C   0  0  0  0  0  0  0  0  0  0  0  0\\n    1.5000    2.5981    0.0000 C   0  0  0  0  0  0  0  0  0  0  0  0\\n    3.0000    2.5981    0.0000 N   0  0  0  0  0  0  0  0  0  0  0  0\\n    3.7500    1.2990    0.0000 C   0  0  0  0  0  0  0  0  0  0  0  0\\n    5.2500    1.2990    0.0000 C   0  0  0  0  0  0  0  0  0  0  0  0\\n    6.0000    2.5981    0.0000 N   0  0  0  0  0  0  0  0  0  0  0  0\\n    7.5000    2.5981    0.0000 C   0  0  0  0  0  0  0  0  0  0  0  0\\n    8.3817    3.8116    0.0000 N   0  0  0  0  0  4  0  0  0  0  0  0\\n    9.8083    3.3481    0.0000 C   0  0  0  0  0  0  0  0  0  0  0  0\\n    9.8083    1.8481    0.0000 C   0  0  0  0  0  0  0  0  0  0  0  0\\n   11.0218    0.9664    0.0000 C   0  0  0  0  0  0  0  0  0  0  0  0\\n    8.3817    1.3846    0.0000 S   0  0  0  0  0  0  0  0  0  0  0  0\\n    5.2500    3.8971    0.0000 C   0  0  0  0  0  0  0  0  0  0  0  0\\n    3.7500    3.8971    0.0000 C   0  0  0  0  0  0  0  0  0  0  0  0\\n  1  2  3  0\\n  2  3  1  0\\n  3  4  1  0\\n  4  5  1  0\\n  5  6  2  0\\n  6  7  1  0\\n  7  8  2  0\\n  8  9  1  0\\n  9 10  2  0\\n 10 11  1  0\\n 11 12  1  0\\n 12 13  1  0\\n 13 14  1  0\\n 14 15  1  0\\n 15 16  1  0\\n 16 17  2  0\\n 17 18  1  0\\n 18 19  1  0\\n 19 20  1  0\\n 19 21  1  0\\n 15 22  1  0\\n 22 23  1  0\\n 10  5  1  0\\n 23 12  1  0\\n 21 16  1  0\\nM  CHG  1  17   1\\nM  END\\n\",\"mol\");\n\tviewer_16772706564347038.setStyle(\"stick\");\n\tviewer_16772706564347038.zoomTo();\nviewer_16772706564347038.render();\n});\n</script>",
      "text/html": [
       "<div id=\"3dmolviewer_16772706564347038\"  style=\"position: relative; width: 200px; height: 200px\">\n",
       "        <p id=\"3dmolwarning_16772706564347038\" style=\"background-color:#ffcccc;color:black\">You appear to be running in JupyterLab (or JavaScript failed to load for some other reason).  You need to install the 3dmol extension: <br>\n",
       "        <tt>jupyter labextension install jupyterlab_3dmol</tt></p>\n",
       "        </div>\n",
       "<script>\n",
       "\n",
       "var loadScriptAsync = function(uri){\n",
       "  return new Promise((resolve, reject) => {\n",
       "    //this is to ignore the existence of requirejs amd\n",
       "    var savedexports, savedmodule;\n",
       "    if (typeof exports !== 'undefined') savedexports = exports;\n",
       "    else exports = {}\n",
       "    if (typeof module !== 'undefined') savedmodule = module;\n",
       "    else module = {}\n",
       "\n",
       "    var tag = document.createElement('script');\n",
       "    tag.src = uri;\n",
       "    tag.async = true;\n",
       "    tag.onload = () => {\n",
       "        exports = savedexports;\n",
       "        module = savedmodule;\n",
       "        resolve();\n",
       "    };\n",
       "  var firstScriptTag = document.getElementsByTagName('script')[0];\n",
       "  firstScriptTag.parentNode.insertBefore(tag, firstScriptTag);\n",
       "});\n",
       "};\n",
       "\n",
       "if(typeof $3Dmolpromise === 'undefined') {\n",
       "$3Dmolpromise = null;\n",
       "  $3Dmolpromise = loadScriptAsync('https://cdnjs.cloudflare.com/ajax/libs/3Dmol/2.0.1/3Dmol-min.js');\n",
       "}\n",
       "\n",
       "var viewer_16772706564347038 = null;\n",
       "var warn = document.getElementById(\"3dmolwarning_16772706564347038\");\n",
       "if(warn) {\n",
       "    warn.parentNode.removeChild(warn);\n",
       "}\n",
       "$3Dmolpromise.then(function() {\n",
       "viewer_16772706564347038 = $3Dmol.createViewer(document.getElementById(\"3dmolviewer_16772706564347038\"),{backgroundColor:\"white\"});\n",
       "viewer_16772706564347038.zoomTo();\n",
       "\tviewer_16772706564347038.addModel(\"\\n     RDKit          2D\\n\\n 23 25  0  0  0  0  0  0  0  0999 V2000\\n    6.7500   -1.2990    0.0000 C   0  0  0  0  0  0  0  0  0  0  0  0\\n    5.2500   -1.2990    0.0000 C   0  0  0  0  0  0  0  0  0  0  0  0\\n    3.7500   -1.2990    0.0000 C   0  0  0  0  0  0  0  0  0  0  0  0\\n    3.0000    0.0000    0.0000 O   0  0  0  0  0  0  0  0  0  0  0  0\\n    1.5000    0.0000    0.0000 C   0  0  0  0  0  0  0  0  0  0  0  0\\n    0.7500   -1.2990    0.0000 C   0  0  0  0  0  0  0  0  0  0  0  0\\n   -0.7500   -1.2990    0.0000 C   0  0  0  0  0  0  0  0  0  0  0  0\\n   -1.5000    0.0000    0.0000 C   0  0  0  0  0  0  0  0  0  0  0  0\\n   -0.7500    1.2990    0.0000 C   0  0  0  0  0  0  0  0  0  0  0  0\\n    0.7500    1.2990    0.0000 C   0  0  0  0  0  0  0  0  0  0  0  0\\n    1.5000    2.5981    0.0000 C   0  0  0  0  0  0  0  0  0  0  0  0\\n    3.0000    2.5981    0.0000 N   0  0  0  0  0  0  0  0  0  0  0  0\\n    3.7500    1.2990    0.0000 C   0  0  0  0  0  0  0  0  0  0  0  0\\n    5.2500    1.2990    0.0000 C   0  0  0  0  0  0  0  0  0  0  0  0\\n    6.0000    2.5981    0.0000 N   0  0  0  0  0  0  0  0  0  0  0  0\\n    7.5000    2.5981    0.0000 C   0  0  0  0  0  0  0  0  0  0  0  0\\n    8.3817    3.8116    0.0000 N   0  0  0  0  0  4  0  0  0  0  0  0\\n    9.8083    3.3481    0.0000 C   0  0  0  0  0  0  0  0  0  0  0  0\\n    9.8083    1.8481    0.0000 C   0  0  0  0  0  0  0  0  0  0  0  0\\n   11.0218    0.9664    0.0000 C   0  0  0  0  0  0  0  0  0  0  0  0\\n    8.3817    1.3846    0.0000 S   0  0  0  0  0  0  0  0  0  0  0  0\\n    5.2500    3.8971    0.0000 C   0  0  0  0  0  0  0  0  0  0  0  0\\n    3.7500    3.8971    0.0000 C   0  0  0  0  0  0  0  0  0  0  0  0\\n  1  2  3  0\\n  2  3  1  0\\n  3  4  1  0\\n  4  5  1  0\\n  5  6  2  0\\n  6  7  1  0\\n  7  8  2  0\\n  8  9  1  0\\n  9 10  2  0\\n 10 11  1  0\\n 11 12  1  0\\n 12 13  1  0\\n 13 14  1  0\\n 14 15  1  0\\n 15 16  1  0\\n 16 17  2  0\\n 17 18  1  0\\n 18 19  1  0\\n 19 20  1  0\\n 19 21  1  0\\n 15 22  1  0\\n 22 23  1  0\\n 10  5  1  0\\n 23 12  1  0\\n 21 16  1  0\\nM  CHG  1  17   1\\nM  END\\n\",\"mol\");\n",
       "\tviewer_16772706564347038.setStyle(\"stick\");\n",
       "\tviewer_16772706564347038.zoomTo();\n",
       "viewer_16772706564347038.render();\n",
       "});\n",
       "</script>"
      ]
     },
     "metadata": {},
     "output_type": "display_data"
    }
   ],
   "source": [
    "best_string = high_scores[0][1]\n",
    "mol = Chem.MolFromSmiles(best_string)\n",
    "fig = Draw.MolToMPL(mol)\n",
    "plt.title(f'{best_string}, confidence of {confidence * 100:.3f}%')\n",
    "plt.axis('off')\n",
    "plt.show()\n",
    "mblock = Chem.MolToMolBlock(mol)\n",
    "view = py3Dmol.view(width=200, height=200)\n",
    "view.addModel(mblock, 'mol')\n",
    "view.setStyle('stick')\n",
    "view.zoomTo()\n",
    "view.show()"
   ]
  },
  {
   "cell_type": "code",
   "execution_count": 38,
   "id": "f927761a",
   "metadata": {},
   "outputs": [
    {
     "name": "stdout",
     "output_type": "stream",
     "text": [
      "6 unique chemicals\n"
     ]
    }
   ],
   "source": [
    "print(f'{len(set([i[1] for i in high_scores]))} unique chemicals')"
   ]
  },
  {
   "cell_type": "code",
   "execution_count": 39,
   "id": "029dc40a",
   "metadata": {},
   "outputs": [
    {
     "data": {
      "text/html": [
       "<div>\n",
       "<style scoped>\n",
       "    .dataframe tbody tr th:only-of-type {\n",
       "        vertical-align: middle;\n",
       "    }\n",
       "\n",
       "    .dataframe tbody tr th {\n",
       "        vertical-align: top;\n",
       "    }\n",
       "\n",
       "    .dataframe thead th {\n",
       "        text-align: right;\n",
       "    }\n",
       "</style>\n",
       "<table border=\"1\" class=\"dataframe\">\n",
       "  <thead>\n",
       "    <tr style=\"text-align: right;\">\n",
       "      <th></th>\n",
       "      <th>score</th>\n",
       "      <th>string</th>\n",
       "    </tr>\n",
       "  </thead>\n",
       "  <tbody>\n",
       "    <tr>\n",
       "      <th>1</th>\n",
       "      <td>-3.576281e-07</td>\n",
       "      <td>CC(OC1=CC=C(Cl)C(Cl)=C1)1CC[NH+](CC2CCC2)CC1</td>\n",
       "    </tr>\n",
       "    <tr>\n",
       "      <th>5</th>\n",
       "      <td>-1.986827e-06</td>\n",
       "      <td>CC[NH+]1CC(C2=CC=C=C(F)C=C2C1)C1=CC[NH+](C)C1</td>\n",
       "    </tr>\n",
       "    <tr>\n",
       "      <th>2</th>\n",
       "      <td>-3.298140e-06</td>\n",
       "      <td>O=C1N(C[NH+])S1</td>\n",
       "    </tr>\n",
       "    <tr>\n",
       "      <th>3</th>\n",
       "      <td>-2.455802e-05</td>\n",
       "      <td>O=C(CC1=C)S1</td>\n",
       "    </tr>\n",
       "    <tr>\n",
       "      <th>4</th>\n",
       "      <td>-2.098148e-04</td>\n",
       "      <td>CCN1CCCC1</td>\n",
       "    </tr>\n",
       "    <tr>\n",
       "      <th>0</th>\n",
       "      <td>-3.204694e-04</td>\n",
       "      <td>C#CCOC1=CC=CC=C1CN1CCN(C2=[NH+]CC(C)S2)CC1</td>\n",
       "    </tr>\n",
       "  </tbody>\n",
       "</table>\n",
       "</div>"
      ],
      "text/plain": [
       "          score                                         string\n",
       "1 -3.576281e-07   CC(OC1=CC=C(Cl)C(Cl)=C1)1CC[NH+](CC2CCC2)CC1\n",
       "5 -1.986827e-06  CC[NH+]1CC(C2=CC=C=C(F)C=C2C1)C1=CC[NH+](C)C1\n",
       "2 -3.298140e-06                                O=C1N(C[NH+])S1\n",
       "3 -2.455802e-05                                   O=C(CC1=C)S1\n",
       "4 -2.098148e-04                                      CCN1CCCC1\n",
       "0 -3.204694e-04     C#CCOC1=CC=CC=C1CN1CCN(C2=[NH+]CC(C)S2)CC1"
      ]
     },
     "execution_count": 39,
     "metadata": {},
     "output_type": "execute_result"
    }
   ],
   "source": [
    "final_result_df = pd.DataFrame(set(high_scores))\n",
    "final_result_df.columns = ['score', 'string']\n",
    "final_result_df.sort_values(by='score', ascending=False)"
   ]
  },
  {
   "cell_type": "code",
   "execution_count": 80,
   "id": "17edf1f0",
   "metadata": {},
   "outputs": [],
   "source": [
    "final_result_df.to_csv(f'{os.getcwd()}//final_dopa_antagonists.csv', index=False)"
   ]
  },
  {
   "cell_type": "code",
   "execution_count": null,
   "id": "edbdf1c5",
   "metadata": {},
   "outputs": [],
   "source": []
  }
 ],
 "metadata": {
  "kernelspec": {
   "display_name": "Python 3 (ipykernel)",
   "language": "python",
   "name": "python3"
  },
  "language_info": {
   "codemirror_mode": {
    "name": "ipython",
    "version": 3
   },
   "file_extension": ".py",
   "mimetype": "text/x-python",
   "name": "python",
   "nbconvert_exporter": "python",
   "pygments_lexer": "ipython3",
   "version": "3.8.10"
  },
  "vscode": {
   "interpreter": {
    "hash": "e49f74e46b456e49c6fe038b9d452af7a62c4b3c345dd5f08f3508413a9f0789"
   }
  }
 },
 "nbformat": 4,
 "nbformat_minor": 5
}
