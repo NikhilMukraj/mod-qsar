{
 "cells": [
  {
   "cell_type": "code",
   "execution_count": 15,
   "metadata": {},
   "outputs": [],
   "source": [
    "from rdkit import Chem\n",
    "from rdkit.Chem import Draw\n",
    "import matplotlib.pyplot as plt\n",
    "import py3Dmol"
   ]
  },
  {
   "cell_type": "code",
   "execution_count": 16,
   "metadata": {},
   "outputs": [],
   "source": [
    "string = 'OC(CNCCc1c[nH]c2ccccc12)c1ccc(C(F)(F)F)cc1'\n",
    "# CC1=C(C#N)C2=NC3=CC=CC=C3N2C(C2=CC=C(S=O)C=C2)=NC=CC(Cl)=CN1\n",
    "# O=C(CC1=CSC(NC(=O)NC2=CC=C(Cl)C=C2)=N1)NCCC1=CC=C(Cl)C=C1\n",
    "# OC(CNCCc1c[nH]c2ccccc12)c1ccc(C(F)(F)F)cc1\n",
    "mol = Chem.MolFromSmiles(string)"
   ]
  },
  {
   "cell_type": "code",
   "execution_count": 17,
   "metadata": {},
   "outputs": [
    {
     "data": {
      "image/png": "[encoded data removed]",
      "text/plain": [
       "<Figure size 216x216 with 1 Axes>"
      ]
     },
     "metadata": {
      "needs_background": "light"
     },
     "output_type": "display_data"
    }
   ],
   "source": [
    "fig = Draw.MolToMPL(mol)\n",
    "plt.title(string)\n",
    "plt.axis('off')\n",
    "plt.show()"
   ]
  },
  {
   "cell_type": "code",
   "execution_count": 18,
   "metadata": {},
   "outputs": [
    {
     "data": {
      "application/3dmoljs_load.v0": "<div id=\"3dmolviewer_1680922259121301\"  style=\"position: relative; width: 200px; height: 200px\">\n        <p id=\"3dmolwarning_1680922259121301\" style=\"background-color:#ffcccc;color:black\">You appear to be running in JupyterLab (or JavaScript failed to load for some other reason).  You need to install the 3dmol extension: <br>\n        <tt>jupyter labextension install jupyterlab_3dmol</tt></p>\n        </div>\n<script>\n\nvar loadScriptAsync = function(uri){\n  return new Promise((resolve, reject) => {\n    //this is to ignore the existence of requirejs amd\n    var savedexports, savedmodule;\n    if (typeof exports !== 'undefined') savedexports = exports;\n    else exports = {}\n    if (typeof module !== 'undefined') savedmodule = module;\n    else module = {}\n\n    var tag = document.createElement('script');\n    tag.src = uri;\n    tag.async = true;\n    tag.onload = () => {\n        exports = savedexports;\n        module = savedmodule;\n        resolve();\n    };\n  var firstScriptTag = document.getElementsByTagName('script')[0];\n  firstScriptTag.parentNode.insertBefore(tag, firstScriptTag);\n});\n};\n\nif(typeof $3Dmolpromise === 'undefined') {\n$3Dmolpromise = null;\n  $3Dmolpromise = loadScriptAsync('https://cdnjs.cloudflare.com/ajax/libs/3Dmol/2.0.1/3Dmol-min.js');\n}\n\nvar viewer_1680922259121301 = null;\nvar warn = document.getElementById(\"3dmolwarning_1680922259121301\");\nif(warn) {\n    warn.parentNode.removeChild(warn);\n}\n$3Dmolpromise.then(function() {\nviewer_1680922259121301 = $3Dmol.createViewer(document.getElementById(\"3dmolviewer_1680922259121301\"),{backgroundColor:\"white\"});\nviewer_1680922259121301.zoomTo();\n\tviewer_1680922259121301.addModel(\"\\n     RDKit          2D\\n\\n 25 27  0  0  0  0  0  0  0  0999 V2000\\n   -7.2317   -6.0469    0.0000 O   0  0  0  0  0  0  0  0  0  0  0  0\\n   -6.1170   -7.0506    0.0000 C   0  0  0  0  0  0  0  0  0  0  0  0\\n   -4.6904   -6.5871    0.0000 C   0  0  0  0  0  0  0  0  0  0  0  0\\n   -4.3786   -5.1199    0.0000 N   0  0  0  0  0  0  0  0  0  0  0  0\\n   -2.9520   -4.6564    0.0000 C   0  0  0  0  0  0  0  0  0  0  0  0\\n   -2.6401   -3.1891    0.0000 C   0  0  0  0  0  0  0  0  0  0  0  0\\n   -1.2135   -2.7256    0.0000 C   0  0  0  0  0  0  0  0  0  0  0  0\\n   -0.0000   -3.6073    0.0000 C   0  0  0  0  0  0  0  0  0  0  0  0\\n    1.2135   -2.7256    0.0000 N   0  0  0  0  0  0  0  0  0  0  0  0\\n    0.7500   -1.2990    0.0000 C   0  0  0  0  0  0  0  0  0  0  0  0\\n    1.5000    0.0000    0.0000 C   0  0  0  0  0  0  0  0  0  0  0  0\\n    0.7500    1.2990    0.0000 C   0  0  0  0  0  0  0  0  0  0  0  0\\n   -0.7500    1.2990    0.0000 C   0  0  0  0  0  0  0  0  0  0  0  0\\n   -1.5000    0.0000    0.0000 C   0  0  0  0  0  0  0  0  0  0  0  0\\n   -0.7500   -1.2990    0.0000 C   0  0  0  0  0  0  0  0  0  0  0  0\\n   -6.4289   -8.5179    0.0000 C   0  0  0  0  0  0  0  0  0  0  0  0\\n   -7.8555   -8.9814    0.0000 C   0  0  0  0  0  0  0  0  0  0  0  0\\n   -8.1673  -10.4486    0.0000 C   0  0  0  0  0  0  0  0  0  0  0  0\\n   -7.0526  -11.4523    0.0000 C   0  0  0  0  0  0  0  0  0  0  0  0\\n   -7.3645  -12.9195    0.0000 C   0  0  0  0  0  0  0  0  0  0  0  0\\n   -7.6764  -14.3867    0.0000 F   0  0  0  0  0  0  0  0  0  0  0  0\\n   -8.8317  -12.6077    0.0000 F   0  0  0  0  0  0  0  0  0  0  0  0\\n   -5.8973  -13.2314    0.0000 F   0  0  0  0  0  0  0  0  0  0  0  0\\n   -5.6260  -10.9888    0.0000 C   0  0  0  0  0  0  0  0  0  0  0  0\\n   -5.3142   -9.5216    0.0000 C   0  0  0  0  0  0  0  0  0  0  0  0\\n  1  2  1  0\\n  2  3  1  0\\n  3  4  1  0\\n  4  5  1  0\\n  5  6  1  0\\n  6  7  1  0\\n  7  8  2  0\\n  8  9  1  0\\n  9 10  1  0\\n 10 11  2  0\\n 11 12  1  0\\n 12 13  2  0\\n 13 14  1  0\\n 14 15  2  0\\n  2 16  1  0\\n 16 17  2  0\\n 17 18  1  0\\n 18 19  2  0\\n 19 20  1  0\\n 20 21  1  0\\n 20 22  1  0\\n 20 23  1  0\\n 19 24  1  0\\n 24 25  2  0\\n 15  7  1  0\\n 25 16  1  0\\n 15 10  1  0\\nM  END\\n\",\"mol\");\n\tviewer_1680922259121301.setStyle(\"stick\");\n\tviewer_1680922259121301.zoomTo();\nviewer_1680922259121301.render();\n});\n</script>",
      "text/html": [
       "<div id=\"3dmolviewer_1680922259121301\"  style=\"position: relative; width: 200px; height: 200px\">\n",
       "        <p id=\"3dmolwarning_1680922259121301\" style=\"background-color:#ffcccc;color:black\">You appear to be running in JupyterLab (or JavaScript failed to load for some other reason).  You need to install the 3dmol extension: <br>\n",
       "        <tt>jupyter labextension install jupyterlab_3dmol</tt></p>\n",
       "        </div>\n",
       "<script>\n",
       "\n",
       "var loadScriptAsync = function(uri){\n",
       "  return new Promise((resolve, reject) => {\n",
       "    //this is to ignore the existence of requirejs amd\n",
       "    var savedexports, savedmodule;\n",
       "    if (typeof exports !== 'undefined') savedexports = exports;\n",
       "    else exports = {}\n",
       "    if (typeof module !== 'undefined') savedmodule = module;\n",
       "    else module = {}\n",
       "\n",
       "    var tag = document.createElement('script');\n",
       "    tag.src = uri;\n",
       "    tag.async = true;\n",
       "    tag.onload = () => {\n",
       "        exports = savedexports;\n",
       "        module = savedmodule;\n",
       "        resolve();\n",
       "    };\n",
       "  var firstScriptTag = document.getElementsByTagName('script')[0];\n",
       "  firstScriptTag.parentNode.insertBefore(tag, firstScriptTag);\n",
       "});\n",
       "};\n",
       "\n",
       "if(typeof $3Dmolpromise === 'undefined') {\n",
       "$3Dmolpromise = null;\n",
       "  $3Dmolpromise = loadScriptAsync('https://cdnjs.cloudflare.com/ajax/libs/3Dmol/2.0.1/3Dmol-min.js');\n",
       "}\n",
       "\n",
       "var viewer_1680922259121301 = null;\n",
       "var warn = document.getElementById(\"3dmolwarning_1680922259121301\");\n",
       "if(warn) {\n",
       "    warn.parentNode.removeChild(warn);\n",
       "}\n",
       "$3Dmolpromise.then(function() {\n",
       "viewer_1680922259121301 = $3Dmol.createViewer(document.getElementById(\"3dmolviewer_1680922259121301\"),{backgroundColor:\"white\"});\n",
       "viewer_1680922259121301.zoomTo();\n",
       "\tviewer_1680922259121301.addModel(\"\\n     RDKit          2D\\n\\n 25 27  0  0  0  0  0  0  0  0999 V2000\\n   -7.2317   -6.0469    0.0000 O   0  0  0  0  0  0  0  0  0  0  0  0\\n   -6.1170   -7.0506    0.0000 C   0  0  0  0  0  0  0  0  0  0  0  0\\n   -4.6904   -6.5871    0.0000 C   0  0  0  0  0  0  0  0  0  0  0  0\\n   -4.3786   -5.1199    0.0000 N   0  0  0  0  0  0  0  0  0  0  0  0\\n   -2.9520   -4.6564    0.0000 C   0  0  0  0  0  0  0  0  0  0  0  0\\n   -2.6401   -3.1891    0.0000 C   0  0  0  0  0  0  0  0  0  0  0  0\\n   -1.2135   -2.7256    0.0000 C   0  0  0  0  0  0  0  0  0  0  0  0\\n   -0.0000   -3.6073    0.0000 C   0  0  0  0  0  0  0  0  0  0  0  0\\n    1.2135   -2.7256    0.0000 N   0  0  0  0  0  0  0  0  0  0  0  0\\n    0.7500   -1.2990    0.0000 C   0  0  0  0  0  0  0  0  0  0  0  0\\n    1.5000    0.0000    0.0000 C   0  0  0  0  0  0  0  0  0  0  0  0\\n    0.7500    1.2990    0.0000 C   0  0  0  0  0  0  0  0  0  0  0  0\\n   -0.7500    1.2990    0.0000 C   0  0  0  0  0  0  0  0  0  0  0  0\\n   -1.5000    0.0000    0.0000 C   0  0  0  0  0  0  0  0  0  0  0  0\\n   -0.7500   -1.2990    0.0000 C   0  0  0  0  0  0  0  0  0  0  0  0\\n   -6.4289   -8.5179    0.0000 C   0  0  0  0  0  0  0  0  0  0  0  0\\n   -7.8555   -8.9814    0.0000 C   0  0  0  0  0  0  0  0  0  0  0  0\\n   -8.1673  -10.4486    0.0000 C   0  0  0  0  0  0  0  0  0  0  0  0\\n   -7.0526  -11.4523    0.0000 C   0  0  0  0  0  0  0  0  0  0  0  0\\n   -7.3645  -12.9195    0.0000 C   0  0  0  0  0  0  0  0  0  0  0  0\\n   -7.6764  -14.3867    0.0000 F   0  0  0  0  0  0  0  0  0  0  0  0\\n   -8.8317  -12.6077    0.0000 F   0  0  0  0  0  0  0  0  0  0  0  0\\n   -5.8973  -13.2314    0.0000 F   0  0  0  0  0  0  0  0  0  0  0  0\\n   -5.6260  -10.9888    0.0000 C   0  0  0  0  0  0  0  0  0  0  0  0\\n   -5.3142   -9.5216    0.0000 C   0  0  0  0  0  0  0  0  0  0  0  0\\n  1  2  1  0\\n  2  3  1  0\\n  3  4  1  0\\n  4  5  1  0\\n  5  6  1  0\\n  6  7  1  0\\n  7  8  2  0\\n  8  9  1  0\\n  9 10  1  0\\n 10 11  2  0\\n 11 12  1  0\\n 12 13  2  0\\n 13 14  1  0\\n 14 15  2  0\\n  2 16  1  0\\n 16 17  2  0\\n 17 18  1  0\\n 18 19  2  0\\n 19 20  1  0\\n 20 21  1  0\\n 20 22  1  0\\n 20 23  1  0\\n 19 24  1  0\\n 24 25  2  0\\n 15  7  1  0\\n 25 16  1  0\\n 15 10  1  0\\nM  END\\n\",\"mol\");\n",
       "\tviewer_1680922259121301.setStyle(\"stick\");\n",
       "\tviewer_1680922259121301.zoomTo();\n",
       "viewer_1680922259121301.render();\n",
       "});\n",
       "</script>"
      ]
     },
     "metadata": {},
     "output_type": "display_data"
    }
   ],
   "source": [
    "mblock = Chem.MolToMolBlock(mol)\n",
    "view = py3Dmol.view(width=200, height=200)\n",
    "view.addModel(mblock, 'mol')\n",
    "view.setStyle('stick')\n",
    "view.zoomTo()\n",
    "view.show()"
   ]
  },
  {
   "cell_type": "code",
   "execution_count": null,
   "metadata": {},
   "outputs": [],
   "source": []
  }
 ],
 "metadata": {
  "kernelspec": {
   "display_name": "Python 3 (ipykernel)",
   "language": "python",
   "name": "python3"
  },
  "language_info": {
   "codemirror_mode": {
    "name": "ipython",
    "version": 3
   },
   "file_extension": ".py",
   "mimetype": "text/x-python",
   "name": "python",
   "nbconvert_exporter": "python",
   "pygments_lexer": "ipython3",
   "version": "3.10.6"
  },
  "vscode": {
   "interpreter": {
    "hash": "e49f74e46b456e49c6fe038b9d452af7a62c4b3c345dd5f08f3508413a9f0789"
   }
  }
 },
 "nbformat": 4,
 "nbformat_minor": 2
}
