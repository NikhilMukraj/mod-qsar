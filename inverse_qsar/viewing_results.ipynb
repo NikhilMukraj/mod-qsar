{
 "cells": [
  {
   "cell_type": "code",
   "execution_count": 1,
   "metadata": {},
   "outputs": [],
   "source": [
    "import pandas as pd\n",
    "from rdkit import Chem\n",
    "from rdkit.Chem import Descriptors\n",
    "from string_ga import calculateScore\n",
    "import numpy as np"
   ]
  },
  {
   "cell_type": "code",
   "execution_count": 2,
   "metadata": {},
   "outputs": [
    {
     "data": {
      "text/html": [
       "<div>\n",
       "<style scoped>\n",
       "    .dataframe tbody tr th:only-of-type {\n",
       "        vertical-align: middle;\n",
       "    }\n",
       "\n",
       "    .dataframe tbody tr th {\n",
       "        vertical-align: top;\n",
       "    }\n",
       "\n",
       "    .dataframe thead th {\n",
       "        text-align: right;\n",
       "    }\n",
       "</style>\n",
       "<table border=\"1\" class=\"dataframe\">\n",
       "  <thead>\n",
       "    <tr style=\"text-align: right;\">\n",
       "      <th></th>\n",
       "      <th>score</th>\n",
       "      <th>string</th>\n",
       "    </tr>\n",
       "  </thead>\n",
       "  <tbody>\n",
       "    <tr>\n",
       "      <th>0</th>\n",
       "      <td>-0.022455</td>\n",
       "      <td>CCc1cc(-n2c(C)cc(C[NH2+]C(C)c3ccc(F)c(F)c3)c2C...</td>\n",
       "    </tr>\n",
       "    <tr>\n",
       "      <th>1</th>\n",
       "      <td>-0.024846</td>\n",
       "      <td>OC(Cl)N1CCc2ccc(Cl)cc2C1</td>\n",
       "    </tr>\n",
       "    <tr>\n",
       "      <th>2</th>\n",
       "      <td>-0.028278</td>\n",
       "      <td>Clc1ccc(C2(Cl)CCC2)cc1Cl</td>\n",
       "    </tr>\n",
       "    <tr>\n",
       "      <th>3</th>\n",
       "      <td>-0.031211</td>\n",
       "      <td>C=CCN1CCCCC=C([NH+]C2(c3ccc(Cl)c(Cl)c3)CCC2)C1=O</td>\n",
       "    </tr>\n",
       "    <tr>\n",
       "      <th>4</th>\n",
       "      <td>-0.035590</td>\n",
       "      <td>CC1(c2ccc(Cl)c(Cl)c2)CCC1</td>\n",
       "    </tr>\n",
       "    <tr>\n",
       "      <th>...</th>\n",
       "      <td>...</td>\n",
       "      <td>...</td>\n",
       "    </tr>\n",
       "    <tr>\n",
       "      <th>95</th>\n",
       "      <td>-0.139470</td>\n",
       "      <td>CC(C)(C)S(=O)CCN1C=Cc2ccccc2C1</td>\n",
       "    </tr>\n",
       "    <tr>\n",
       "      <th>96</th>\n",
       "      <td>-0.141650</td>\n",
       "      <td>O=C(NC(NC(=S)Nc1ccccc1)C(Cl)(Cl)Cl)C1=CC=C1</td>\n",
       "    </tr>\n",
       "    <tr>\n",
       "      <th>97</th>\n",
       "      <td>-0.141972</td>\n",
       "      <td>CC(C)CN(NC1CCOC1)C1(c2ccc(Cl)c(Cl)c2)CCC1</td>\n",
       "    </tr>\n",
       "    <tr>\n",
       "      <th>98</th>\n",
       "      <td>-0.142048</td>\n",
       "      <td>CCC(NC(NC(=S)Nc1ccccc1)C(Cl)(Cl)Cl)c1cccc(Br)c1</td>\n",
       "    </tr>\n",
       "    <tr>\n",
       "      <th>99</th>\n",
       "      <td>-0.144122</td>\n",
       "      <td>CC(C)(C)S(=O)CCN1CCC(Cl)Cc2ccccc2C1</td>\n",
       "    </tr>\n",
       "  </tbody>\n",
       "</table>\n",
       "<p>100 rows × 2 columns</p>\n",
       "</div>"
      ],
      "text/plain": [
       "       score                                             string\n",
       "0  -0.022455  CCc1cc(-n2c(C)cc(C[NH2+]C(C)c3ccc(F)c(F)c3)c2C...\n",
       "1  -0.024846                           OC(Cl)N1CCc2ccc(Cl)cc2C1\n",
       "2  -0.028278                           Clc1ccc(C2(Cl)CCC2)cc1Cl\n",
       "3  -0.031211   C=CCN1CCCCC=C([NH+]C2(c3ccc(Cl)c(Cl)c3)CCC2)C1=O\n",
       "4  -0.035590                          CC1(c2ccc(Cl)c(Cl)c2)CCC1\n",
       "..       ...                                                ...\n",
       "95 -0.139470                     CC(C)(C)S(=O)CCN1C=Cc2ccccc2C1\n",
       "96 -0.141650        O=C(NC(NC(=S)Nc1ccccc1)C(Cl)(Cl)Cl)C1=CC=C1\n",
       "97 -0.141972          CC(C)CN(NC1CCOC1)C1(c2ccc(Cl)c(Cl)c2)CCC1\n",
       "98 -0.142048    CCC(NC(NC(=S)Nc1ccccc1)C(Cl)(Cl)Cl)c1cccc(Br)c1\n",
       "99 -0.144122                CC(C)(C)S(=O)CCN1CCC(Cl)Cc2ccccc2C1\n",
       "\n",
       "[100 rows x 2 columns]"
      ]
     },
     "execution_count": 2,
     "metadata": {},
     "output_type": "execute_result"
    }
   ],
   "source": [
    "df = pd.read_csv('./generated_drugs/cl_f_5.csv')\n",
    "df"
   ]
  },
  {
   "cell_type": "code",
   "execution_count": 3,
   "metadata": {},
   "outputs": [],
   "source": [
    "mols = [Chem.MolFromSmiles(i) for i in df['string']]"
   ]
  },
  {
   "cell_type": "code",
   "execution_count": 7,
   "metadata": {},
   "outputs": [
    {
     "data": {
      "text/plain": [
       "3.2485058814678784"
      ]
     },
     "execution_count": 7,
     "metadata": {},
     "output_type": "execute_result"
    }
   ],
   "source": [
    "np.average(sas := [calculateScore(i) for i in mols])"
   ]
  },
  {
   "cell_type": "code",
   "execution_count": 5,
   "metadata": {},
   "outputs": [
    {
     "data": {
      "text/plain": [
       "331.0354449217717"
      ]
     },
     "execution_count": 5,
     "metadata": {},
     "output_type": "execute_result"
    }
   ],
   "source": [
    "np.average(wts := [Descriptors.ExactMolWt(Chem.MolFromSmiles(i)) for i in df['string']])"
   ]
  },
  {
   "cell_type": "code",
   "execution_count": 6,
   "metadata": {},
   "outputs": [
    {
     "data": {
      "text/plain": [
       "0"
      ]
     },
     "execution_count": 6,
     "metadata": {},
     "output_type": "execute_result"
    }
   ],
   "source": [
    "len([i for i in wts if i < 200 or i > 500])"
   ]
  },
  {
   "cell_type": "code",
   "execution_count": null,
   "metadata": {},
   "outputs": [],
   "source": []
  }
 ],
 "metadata": {
  "kernelspec": {
   "display_name": "Python 3",
   "language": "python",
   "name": "python3"
  },
  "language_info": {
   "codemirror_mode": {
    "name": "ipython",
    "version": 3
   },
   "file_extension": ".py",
   "mimetype": "text/x-python",
   "name": "python",
   "nbconvert_exporter": "python",
   "pygments_lexer": "ipython3",
   "version": "3.8.10"
  },
  "orig_nbformat": 4,
  "vscode": {
   "interpreter": {
    "hash": "e49f74e46b456e49c6fe038b9d452af7a62c4b3c345dd5f08f3508413a9f0789"
   }
  }
 },
 "nbformat": 4,
 "nbformat_minor": 2
}
