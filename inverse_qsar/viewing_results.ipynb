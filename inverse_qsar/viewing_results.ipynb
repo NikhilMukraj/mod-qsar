{
 "cells": [
  {
   "cell_type": "code",
   "execution_count": 3,
   "metadata": {},
   "outputs": [],
   "source": [
    "import pandas as pd\n",
    "from rdkit import Chem\n",
    "from rdkit.Chem import Descriptors\n",
    "from string_ga import calculateScore\n",
    "import numpy as np\n",
    "import matplotlib.pyplot as plt\n",
    "import seaborn as sns"
   ]
  },
  {
   "cell_type": "code",
   "execution_count": 4,
   "metadata": {},
   "outputs": [
    {
     "data": {
      "text/html": [
       "<div>\n",
       "<style scoped>\n",
       "    .dataframe tbody tr th:only-of-type {\n",
       "        vertical-align: middle;\n",
       "    }\n",
       "\n",
       "    .dataframe tbody tr th {\n",
       "        vertical-align: top;\n",
       "    }\n",
       "\n",
       "    .dataframe thead th {\n",
       "        text-align: right;\n",
       "    }\n",
       "</style>\n",
       "<table border=\"1\" class=\"dataframe\">\n",
       "  <thead>\n",
       "    <tr style=\"text-align: right;\">\n",
       "      <th></th>\n",
       "      <th>score</th>\n",
       "      <th>string</th>\n",
       "    </tr>\n",
       "  </thead>\n",
       "  <tbody>\n",
       "    <tr>\n",
       "      <th>0</th>\n",
       "      <td>-0.022455</td>\n",
       "      <td>CCc1cc(-n2c(C)cc(C[NH2+]C(C)c3ccc(F)c(F)c3)c2C...</td>\n",
       "    </tr>\n",
       "    <tr>\n",
       "      <th>1</th>\n",
       "      <td>-0.024846</td>\n",
       "      <td>OC(Cl)N1CCc2ccc(Cl)cc2C1</td>\n",
       "    </tr>\n",
       "    <tr>\n",
       "      <th>2</th>\n",
       "      <td>-0.028278</td>\n",
       "      <td>Clc1ccc(C2(Cl)CCC2)cc1Cl</td>\n",
       "    </tr>\n",
       "    <tr>\n",
       "      <th>3</th>\n",
       "      <td>-0.031211</td>\n",
       "      <td>C=CCN1CCCCC=C([NH+]C2(c3ccc(Cl)c(Cl)c3)CCC2)C1=O</td>\n",
       "    </tr>\n",
       "    <tr>\n",
       "      <th>4</th>\n",
       "      <td>-0.035590</td>\n",
       "      <td>CC1(c2ccc(Cl)c(Cl)c2)CCC1</td>\n",
       "    </tr>\n",
       "    <tr>\n",
       "      <th>...</th>\n",
       "      <td>...</td>\n",
       "      <td>...</td>\n",
       "    </tr>\n",
       "    <tr>\n",
       "      <th>95</th>\n",
       "      <td>-0.139470</td>\n",
       "      <td>CC(C)(C)S(=O)CCN1C=Cc2ccccc2C1</td>\n",
       "    </tr>\n",
       "    <tr>\n",
       "      <th>96</th>\n",
       "      <td>-0.141650</td>\n",
       "      <td>O=C(NC(NC(=S)Nc1ccccc1)C(Cl)(Cl)Cl)C1=CC=C1</td>\n",
       "    </tr>\n",
       "    <tr>\n",
       "      <th>97</th>\n",
       "      <td>-0.141972</td>\n",
       "      <td>CC(C)CN(NC1CCOC1)C1(c2ccc(Cl)c(Cl)c2)CCC1</td>\n",
       "    </tr>\n",
       "    <tr>\n",
       "      <th>98</th>\n",
       "      <td>-0.142048</td>\n",
       "      <td>CCC(NC(NC(=S)Nc1ccccc1)C(Cl)(Cl)Cl)c1cccc(Br)c1</td>\n",
       "    </tr>\n",
       "    <tr>\n",
       "      <th>99</th>\n",
       "      <td>-0.144122</td>\n",
       "      <td>CC(C)(C)S(=O)CCN1CCC(Cl)Cc2ccccc2C1</td>\n",
       "    </tr>\n",
       "  </tbody>\n",
       "</table>\n",
       "<p>100 rows × 2 columns</p>\n",
       "</div>"
      ],
      "text/plain": [
       "       score                                             string\n",
       "0  -0.022455  CCc1cc(-n2c(C)cc(C[NH2+]C(C)c3ccc(F)c(F)c3)c2C...\n",
       "1  -0.024846                           OC(Cl)N1CCc2ccc(Cl)cc2C1\n",
       "2  -0.028278                           Clc1ccc(C2(Cl)CCC2)cc1Cl\n",
       "3  -0.031211   C=CCN1CCCCC=C([NH+]C2(c3ccc(Cl)c(Cl)c3)CCC2)C1=O\n",
       "4  -0.035590                          CC1(c2ccc(Cl)c(Cl)c2)CCC1\n",
       "..       ...                                                ...\n",
       "95 -0.139470                     CC(C)(C)S(=O)CCN1C=Cc2ccccc2C1\n",
       "96 -0.141650        O=C(NC(NC(=S)Nc1ccccc1)C(Cl)(Cl)Cl)C1=CC=C1\n",
       "97 -0.141972          CC(C)CN(NC1CCOC1)C1(c2ccc(Cl)c(Cl)c2)CCC1\n",
       "98 -0.142048    CCC(NC(NC(=S)Nc1ccccc1)C(Cl)(Cl)Cl)c1cccc(Br)c1\n",
       "99 -0.144122                CC(C)(C)S(=O)CCN1CCC(Cl)Cc2ccccc2C1\n",
       "\n",
       "[100 rows x 2 columns]"
      ]
     },
     "execution_count": 4,
     "metadata": {},
     "output_type": "execute_result"
    }
   ],
   "source": [
    "df = pd.read_csv('./generated_drugs/cl_f_5.csv')\n",
    "df"
   ]
  },
  {
   "cell_type": "code",
   "execution_count": 5,
   "metadata": {},
   "outputs": [],
   "source": [
    "mols = [Chem.MolFromSmiles(i) for i in df['string']]"
   ]
  },
  {
   "cell_type": "code",
   "execution_count": 6,
   "metadata": {},
   "outputs": [
    {
     "data": {
      "text/plain": [
       "3.2485058814678784"
      ]
     },
     "execution_count": 6,
     "metadata": {},
     "output_type": "execute_result"
    }
   ],
   "source": [
    "np.average(sas := [calculateScore(i) for i in mols])"
   ]
  },
  {
   "cell_type": "code",
   "execution_count": 7,
   "metadata": {},
   "outputs": [
    {
     "name": "stdout",
     "output_type": "stream",
     "text": [
      "3.112319192607252\n"
     ]
    },
    {
     "data": {
      "image/png": "[encoded data removed]",
      "text/plain": [
       "<rdkit.Chem.rdchem.Mol at 0x7f2b748bd230>"
      ]
     },
     "execution_count": 7,
     "metadata": {},
     "output_type": "execute_result"
    }
   ],
   "source": [
    "n = 18\n",
    "print(calculateScore(mols[n]))\n",
    "mols[n]"
   ]
  },
  {
   "cell_type": "code",
   "execution_count": 8,
   "metadata": {},
   "outputs": [
    {
     "data": {
      "text/plain": [
       "0"
      ]
     },
     "execution_count": 8,
     "metadata": {},
     "output_type": "execute_result"
    }
   ],
   "source": [
    "len([i for i in sas if i >= 4])"
   ]
  },
  {
   "cell_type": "code",
   "execution_count": 9,
   "metadata": {},
   "outputs": [
    {
     "data": {
      "text/plain": [
       "331.0354449217717"
      ]
     },
     "execution_count": 9,
     "metadata": {},
     "output_type": "execute_result"
    }
   ],
   "source": [
    "np.average(wts := [Descriptors.ExactMolWt(Chem.MolFromSmiles(i)) for i in df['string']])"
   ]
  },
  {
   "cell_type": "code",
   "execution_count": 10,
   "metadata": {},
   "outputs": [
    {
     "data": {
      "text/plain": [
       "0"
      ]
     },
     "execution_count": 10,
     "metadata": {},
     "output_type": "execute_result"
    }
   ],
   "source": [
    "len([i for i in wts if i < 200 or i > 500])"
   ]
  },
  {
   "cell_type": "code",
   "execution_count": 11,
   "metadata": {},
   "outputs": [],
   "source": [
    "scores = pd.read_csv('./generated_drugs/cl_f_5_scores.csv')"
   ]
  },
  {
   "cell_type": "code",
   "execution_count": 12,
   "metadata": {},
   "outputs": [],
   "source": [
    "parsed_scores = [[j for j in i[1].to_list() if j > -20] for i in scores.iterrows()]"
   ]
  },
  {
   "cell_type": "code",
   "execution_count": 13,
   "metadata": {},
   "outputs": [],
   "source": [
    "maxes = [np.max(i) for i in parsed_scores]\n",
    "avgs = [np.average(i) for i in parsed_scores]\n",
    "mins = [np.min(i) for i in parsed_scores]"
   ]
  },
  {
   "cell_type": "code",
   "execution_count": 14,
   "metadata": {},
   "outputs": [
    {
     "data": {
      "image/png": "[encoded data removed]",
      "text/plain": [
       "<Figure size 432x288 with 1 Axes>"
      ]
     },
     "metadata": {},
     "output_type": "display_data"
    }
   ],
   "source": [
    "sns.set_style('darkgrid')\n",
    "\n",
    "plt.plot(maxes, label='max')\n",
    "plt.plot(avgs, label='average')\n",
    "plt.plot(mins, label='min')\n",
    "plt.legend()\n",
    "\n",
    "plt.show()"
   ]
  },
  {
   "cell_type": "code",
   "execution_count": 15,
   "metadata": {},
   "outputs": [
    {
     "data": {
      "image/png": "[encoded data removed]",
      "text/plain": [
       "<Figure size 432x288 with 1 Axes>"
      ]
     },
     "metadata": {},
     "output_type": "display_data"
    }
   ],
   "source": [
    "plt.plot([len([j for j in i[1].to_list() if j <= -20]) for i in scores.iterrows()])\n",
    "plt.show()"
   ]
  },
  {
   "cell_type": "code",
   "execution_count": 16,
   "metadata": {},
   "outputs": [],
   "source": [
    "from rdkit import Chem\n",
    "from rdkit.Chem import Descriptors\n",
    "from rdkit.Chem import Lipinski\n",
    "from rdkit.Chem.FilterCatalog import FilterCatalog, FilterCatalogParams\n",
    "import numpy as np\n",
    "import pandas as pd\n",
    "import json\n",
    "import sys\n",
    "import os\n",
    "os.environ['TF_CPP_MIN_LOG_LEVEL'] = '3' \n",
    "from tensorflow.keras import models\n",
    "from smiles_tools import return_tokens\n",
    "from smiles_tools import SmilesEnumerator\n",
    "from c_wrapper import seqOneHot\n",
    "from ml_scorer import get_score\n",
    "import string_ga\n",
    "from functools import lru_cache"
   ]
  },
  {
   "cell_type": "code",
   "execution_count": 18,
   "metadata": {},
   "outputs": [],
   "source": [
    "def get_lipinski(molecule):\n",
    "    lipi = 0\n",
    "\n",
    "    h_bond_donors = Lipinski.NumHDonors(molecule)\n",
    "    h_bond_acceptors = Descriptors.NumHAcceptors(molecule)\n",
    "    molecular_weight = Descriptors.ExactMolWt(molecule)\n",
    "    logp = Descriptors.MolLogP(molecule)\n",
    "\n",
    "    if h_bond_donors <= 5:\n",
    "        lipi += .25\n",
    "    if h_bond_acceptors <= 10:\n",
    "        lipi += .25\n",
    "    if 200 <= molecular_weight <= 500:\n",
    "        lipi += .25\n",
    "    if logp <= 5:\n",
    "        lipi += .25\n",
    "\n",
    "    return lipi   \n",
    "\n",
    "def get_custom_lipinski(molecule):\n",
    "    # generationThreshold = string_ga.current_generation['gen'] > contents['generations'] / 2\n",
    "    weightThreshold = 200 >= Descriptors.ExactMolWt(molecule)\n",
    "    saThreshold = string_ga.calculateScore(molecule) > 4\n",
    "\n",
    "    if weightThreshold or saThreshold:\n",
    "        return 0\n",
    "    else: \n",
    "        return get_lipinski(molecule)\n",
    "    \n",
    "def limit_rings(molecule):\n",
    "    ring_lens = [len(ring) for ring in molecule.GetRingInfo().AtomRings() \n",
    "                if molecule.GetAtomWithIdx(ring[0]).GetSymbol() == 'C']\n",
    "    for i in ring_lens:\n",
    "        if i > 6:\n",
    "            return 0\n",
    "    \n",
    "    return 1\n",
    "\n",
    "params = FilterCatalogParams()\n",
    "params.AddCatalog(FilterCatalogParams.FilterCatalogs.PAINS)\n",
    "catalog = FilterCatalog(params)\n",
    "\n",
    "def get_pains(molecule):\n",
    "    isPAINS = catalog.GetFirstMatch(molecule)\n",
    "    return int(isPAINS is None)"
   ]
  },
  {
   "cell_type": "code",
   "execution_count": 30,
   "metadata": {},
   "outputs": [],
   "source": [
    "contents = {\n",
    "    \"scoring_function\" : [\"dopa_rnn_model.h5\", \"sero_rnn_model.h5\", \"custom_lipinski\", \"pains\", \"limit_rings\"],\n",
    "    \"max_len\" : 196,\n",
    "    \"target\" : [1, 0, 1, 0, 1, 1, 1],\n",
    "    \"augment\" : [\"true\", 5],\n",
    "}"
   ]
  },
  {
   "cell_type": "code",
   "execution_count": 23,
   "metadata": {},
   "outputs": [
    {
     "name": "stdout",
     "output_type": "stream",
     "text": [
      "Compiling models...\n"
     ]
    }
   ],
   "source": [
    "def get_pains(molecule):\n",
    "    isPAINS = catalog.GetFirstMatch(molecule)\n",
    "    return int(isPAINS is None)\n",
    "\n",
    "drug_likeness_parser = {\n",
    "    'lipinski': get_lipinski, \n",
    "    'custom_lipinski': get_custom_lipinski,\n",
    "    'pains': get_pains,\n",
    "    'limit_rings': limit_rings,\n",
    "}\n",
    "drug_likeness_metric = [drug_likeness_parser[i] for i in contents['scoring_function'] if '.h5' not in i]\n",
    "\n",
    "vocab = pd.read_csv('../preprocessor/vocab.csv')['tokens'].to_list()\n",
    "tokenizer = {i : n for n, i in enumerate(vocab)}\n",
    "\n",
    "potential_models = [i for i in contents['scoring_function'] if '.h5' in i]\n",
    "if len(potential_models) > 0:\n",
    "    models_array = [models.load_model(i) for i in potential_models]\n",
    "    print('Compiling models...')\n",
    "    [model.compile() for model in models_array]\n",
    "    max_len = contents['max_len']\n",
    "    seq_shape = np.array([max_len, np.max([i+1 for i in tokenizer.values()])+1], dtype=np.int32)\n",
    "    model_pred = True\n",
    "else:\n",
    "    model_pred = False"
   ]
  },
  {
   "cell_type": "code",
   "execution_count": 33,
   "metadata": {},
   "outputs": [],
   "source": [
    "def ensemble_predict(tokens):\n",
    "    initial_seq = np.array([tokenizer[i]+1 for i in tokens])\n",
    "    full_seq = np.hstack([np.zeros(max_len-len(initial_seq)), initial_seq])\n",
    "    full_seq = seqOneHot(np.array(full_seq, dtype=np.int32), seq_shape).reshape(1, *seq_shape)\n",
    "    \n",
    "    return np.hstack([i.predict(full_seq, verbose=0) for i in models_array])\n",
    "\n",
    "def augment_smiles(string, n):\n",
    "    sme = SmilesEnumerator()\n",
    "    output = []\n",
    "    for i in range(n):\n",
    "        output.append(sme.randomize_smiles(string))\n",
    "    \n",
    "    return output\n",
    "\n",
    "def get_augs(string, n):\n",
    "    strings = [string] + augment_smiles(string, n)\n",
    "    tokens_array = [return_tokens(i, vocab)[0] for i in strings]\n",
    "\n",
    "    full_seqs = []\n",
    "    for tokens in tokens_array:\n",
    "        if any([i not in vocab for i in tokens]):\n",
    "            continue\n",
    "        \n",
    "        initial_seq = np.array([tokenizer[n]+1 for n in tokens])\n",
    "        full_seq = np.hstack([np.zeros(max_len-len(initial_seq)), initial_seq])\n",
    "        full_seq = seqOneHot(np.array(full_seq, dtype=np.int32), seq_shape).reshape(1, *seq_shape)\n",
    "        full_seqs.append(full_seq[0])\n",
    "\n",
    "        ####################################################################################\n",
    "        # may want to reformat to while loop to see if we can still reach n many compounds #\n",
    "        ####################################################################################\n",
    "\n",
    "    return np.array(full_seqs)\n",
    "\n",
    "@lru_cache(maxsize=256)\n",
    "def no_model_scoring(string, target):\n",
    "    _, isNotValidToken = return_tokens(string, vocab)\n",
    "\n",
    "    if isNotValidToken:\n",
    "        return -100\n",
    "    else:\n",
    "        molecule = Chem.MolFromSmiles(string)\n",
    "        likeness_score = np.array(np.hstack([metric(molecule) for metric in drug_likeness_metric]))\n",
    "        return -1 * get_score(likeness_score, np.array(target))\n",
    "\n",
    "@lru_cache(maxsize=256)\n",
    "def model_scoring(string, scoring_args):\n",
    "    target, aug, num_of_augments = scoring_args\n",
    "\n",
    "    tokens, isNotValidToken = return_tokens(string, vocab)\n",
    "    if isNotValidToken or len(tokens) > max_len:\n",
    "        return -100\n",
    "\n",
    "    molecule = Chem.MolFromSmiles(string)\n",
    "    likeness_score = np.array(np.hstack([metric(molecule) for metric in drug_likeness_metric]))\n",
    "    \n",
    "    if not aug:\n",
    "        pred = ensemble_predict(tokens)[0]\n",
    "        return -1 * get_score(np.hstack([pred, likeness_score]), np.array(target))\n",
    "    else:\n",
    "        augs = get_augs(string, num_of_augments)        \n",
    "        pred = np.hstack([i.predict(augs, verbose=0) for i in models_array]).sum(axis=0) / len(augs)\n",
    "        \n",
    "        return np.hstack([pred, likeness_score])\n",
    "\n",
    "#         if strict and not (200 <= Descriptors.ExactMolWt(molecule) <= 500):\n",
    "#             return -20  \n",
    "#         else:\n",
    "#             return -1 * get_score(np.hstack([pred, likeness_score]), np.array(target)) "
   ]
  },
  {
   "cell_type": "code",
   "execution_count": 47,
   "metadata": {},
   "outputs": [],
   "source": [
    "scoring_args = tuple(contents['target'])"
   ]
  },
  {
   "cell_type": "code",
   "execution_count": 48,
   "metadata": {},
   "outputs": [],
   "source": [
    "if model_pred:\n",
    "    scoring_args = [scoring_args]\n",
    "    if contents['augment'][0]:\n",
    "        scoring_args.append(contents['augment'][0])\n",
    "        scoring_args.append(contents['augment'][1])\n",
    "    else:\n",
    "        scoring_args.append(False)\n",
    "        scoring_args.append(0)\n",
    "    scoring_args[0] = tuple(scoring_args[0])\n",
    "\n",
    "    scoring_function = model_scoring\n",
    "else:\n",
    "    scoring_function = no_model_scoring\n",
    "\n",
    "scoring_args = tuple(scoring_args)"
   ]
  },
  {
   "cell_type": "code",
   "execution_count": 54,
   "metadata": {},
   "outputs": [
    {
     "data": {
      "text/plain": [
       "[1, 0, 1, 0, 1, 1, 1]"
      ]
     },
     "execution_count": 54,
     "metadata": {},
     "output_type": "execute_result"
    }
   ],
   "source": [
    "[round(i) for i in model_scoring(df['string'][0], scoring_args)]"
   ]
  },
  {
   "cell_type": "code",
   "execution_count": null,
   "metadata": {},
   "outputs": [],
   "source": []
  }
 ],
 "metadata": {
  "kernelspec": {
   "display_name": "Python 3 (ipykernel)",
   "language": "python",
   "name": "python3"
  },
  "language_info": {
   "codemirror_mode": {
    "name": "ipython",
    "version": 3
   },
   "file_extension": ".py",
   "mimetype": "text/x-python",
   "name": "python",
   "nbconvert_exporter": "python",
   "pygments_lexer": "ipython3",
   "version": "3.10.6"
  },
  "vscode": {
   "interpreter": {
    "hash": "e49f74e46b456e49c6fe038b9d452af7a62c4b3c345dd5f08f3508413a9f0789"
   }
  }
 },
 "nbformat": 4,
 "nbformat_minor": 2
}
